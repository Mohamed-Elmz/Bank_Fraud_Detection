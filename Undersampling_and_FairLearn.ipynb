{
  "cells": [
    {
      "cell_type": "code",
      "execution_count": null,
      "metadata": {
        "id": "aSbRdqb3tVZ0"
      },
      "outputs": [],
      "source": [
        "import pandas as pd\n",
        "import numpy as np\n",
        "from google.colab import drive\n",
        "from pathlib import Path\n",
        "\n",
        "import torch\n",
        "from torch import save, load\n",
        "import torch.nn as nn\n",
        "import torch.optim as optim\n",
        "\n",
        "from sklearn.ensemble import RandomForestClassifier\n",
        "from sklearn.model_selection import GridSearchCV, RandomizedSearchCV, train_test_split, StratifiedShuffleSplit\n",
        "from sklearn.metrics import make_scorer, f1_score, balanced_accuracy_score, classification_report,roc_curve, roc_auc_score, balanced_accuracy_score"
      ]
    },
    {
      "cell_type": "code",
      "execution_count": null,
      "metadata": {
        "colab": {
          "base_uri": "https://localhost:8080/"
        },
        "id": "DIOSP6fPq-eY",
        "outputId": "dc50e260-f831-4973-e45b-00c19eed2228"
      },
      "outputs": [
        {
          "name": "stdout",
          "output_type": "stream",
          "text": [
            "Requirement already satisfied: fairlearn in /usr/local/lib/python3.11/dist-packages (0.12.0)\n",
            "Requirement already satisfied: numpy>=1.24.4 in /usr/local/lib/python3.11/dist-packages (from fairlearn) (2.0.2)\n",
            "Requirement already satisfied: pandas>=2.0.3 in /usr/local/lib/python3.11/dist-packages (from fairlearn) (2.2.2)\n",
            "Requirement already satisfied: scikit-learn>=1.2.1 in /usr/local/lib/python3.11/dist-packages (from fairlearn) (1.6.1)\n",
            "Requirement already satisfied: scipy>=1.9.3 in /usr/local/lib/python3.11/dist-packages (from fairlearn) (1.14.1)\n",
            "Requirement already satisfied: python-dateutil>=2.8.2 in /usr/local/lib/python3.11/dist-packages (from pandas>=2.0.3->fairlearn) (2.8.2)\n",
            "Requirement already satisfied: pytz>=2020.1 in /usr/local/lib/python3.11/dist-packages (from pandas>=2.0.3->fairlearn) (2025.2)\n",
            "Requirement already satisfied: tzdata>=2022.7 in /usr/local/lib/python3.11/dist-packages (from pandas>=2.0.3->fairlearn) (2025.2)\n",
            "Requirement already satisfied: joblib>=1.2.0 in /usr/local/lib/python3.11/dist-packages (from scikit-learn>=1.2.1->fairlearn) (1.4.2)\n",
            "Requirement already satisfied: threadpoolctl>=3.1.0 in /usr/local/lib/python3.11/dist-packages (from scikit-learn>=1.2.1->fairlearn) (3.6.0)\n",
            "Requirement already satisfied: six>=1.5 in /usr/local/lib/python3.11/dist-packages (from python-dateutil>=2.8.2->pandas>=2.0.3->fairlearn) (1.17.0)\n"
          ]
        }
      ],
      "source": [
        "!pip install fairlearn\n",
        "import fairlearn"
      ]
    },
    {
      "cell_type": "code",
      "execution_count": null,
      "metadata": {
        "id": "c6CsQXkhrE3y"
      },
      "outputs": [],
      "source": [
        "from fairlearn.metrics import MetricFrame\n",
        "from fairlearn.reductions import GridSearch\n",
        "from fairlearn.reductions import DemographicParity, ErrorRate\n",
        "from fairlearn.metrics import true_positive_rate_difference"
      ]
    },
    {
      "cell_type": "code",
      "execution_count": null,
      "metadata": {
        "id": "WIZtYBz1q8W0"
      },
      "outputs": [],
      "source": [
        "from sklearn.naive_bayes import GaussianNB\n",
        "from sklearn import svm\n",
        "from xgboost import XGBClassifier\n",
        "from fairlearn.metrics import demographic_parity_difference, equalized_odds_difference\n"
      ]
    },
    {
      "cell_type": "code",
      "execution_count": null,
      "metadata": {
        "colab": {
          "base_uri": "https://localhost:8080/"
        },
        "id": "J3DSEBxttsMo",
        "outputId": "e0caf035-5780-41da-8309-e54330b5211b"
      },
      "outputs": [
        {
          "name": "stdout",
          "output_type": "stream",
          "text": [
            "Drive already mounted at /content/drive; to attempt to forcibly remount, call drive.mount(\"/content/drive\", force_remount=True).\n"
          ]
        }
      ],
      "source": [
        "drive.mount('/content/drive')"
      ]
    },
    {
      "cell_type": "code",
      "execution_count": null,
      "metadata": {
        "colab": {
          "base_uri": "https://localhost:8080/",
          "height": 256
        },
        "id": "KE3Sg-Oztv7C",
        "outputId": "cdb3807a-a691-4657-c121-685199b928fd"
      },
      "outputs": [
        {
          "data": {
            "application/vnd.google.colaboratory.intrinsic+json": {
              "type": "dataframe",
              "variable_name": "df"
            },
            "text/html": [
              "\n",
              "  <div id=\"df-8e6f2754-7cd2-4a99-87ec-c4faf5c0bfbe\" class=\"colab-df-container\">\n",
              "    <div>\n",
              "<style scoped>\n",
              "    .dataframe tbody tr th:only-of-type {\n",
              "        vertical-align: middle;\n",
              "    }\n",
              "\n",
              "    .dataframe tbody tr th {\n",
              "        vertical-align: top;\n",
              "    }\n",
              "\n",
              "    .dataframe thead th {\n",
              "        text-align: right;\n",
              "    }\n",
              "</style>\n",
              "<table border=\"1\" class=\"dataframe\">\n",
              "  <thead>\n",
              "    <tr style=\"text-align: right;\">\n",
              "      <th></th>\n",
              "      <th>fraud_bool</th>\n",
              "      <th>income</th>\n",
              "      <th>name_email_similarity</th>\n",
              "      <th>prev_address_months_count</th>\n",
              "      <th>current_address_months_count</th>\n",
              "      <th>customer_age</th>\n",
              "      <th>days_since_request</th>\n",
              "      <th>intended_balcon_amount</th>\n",
              "      <th>payment_type</th>\n",
              "      <th>zip_count_4w</th>\n",
              "      <th>...</th>\n",
              "      <th>has_other_cards</th>\n",
              "      <th>proposed_credit_limit</th>\n",
              "      <th>foreign_request</th>\n",
              "      <th>source</th>\n",
              "      <th>session_length_in_minutes</th>\n",
              "      <th>device_os</th>\n",
              "      <th>keep_alive_session</th>\n",
              "      <th>device_distinct_emails_8w</th>\n",
              "      <th>device_fraud_count</th>\n",
              "      <th>month</th>\n",
              "    </tr>\n",
              "  </thead>\n",
              "  <tbody>\n",
              "    <tr>\n",
              "      <th>0</th>\n",
              "      <td>0</td>\n",
              "      <td>0.250</td>\n",
              "      <td>0.986507</td>\n",
              "      <td>0.000000</td>\n",
              "      <td>0.060606</td>\n",
              "      <td>0.375</td>\n",
              "      <td>0.000086</td>\n",
              "      <td>0.918255</td>\n",
              "      <td>0.00</td>\n",
              "      <td>0.157934</td>\n",
              "      <td>...</td>\n",
              "      <td>0.0</td>\n",
              "      <td>0.685864</td>\n",
              "      <td>0.0</td>\n",
              "      <td>INTERNET</td>\n",
              "      <td>0.198216</td>\n",
              "      <td>linux</td>\n",
              "      <td>1.0</td>\n",
              "      <td>0.666667</td>\n",
              "      <td>0.0</td>\n",
              "      <td>0.0</td>\n",
              "    </tr>\n",
              "    <tr>\n",
              "      <th>1</th>\n",
              "      <td>0</td>\n",
              "      <td>0.875</td>\n",
              "      <td>0.617426</td>\n",
              "      <td>0.000000</td>\n",
              "      <td>0.209790</td>\n",
              "      <td>0.125</td>\n",
              "      <td>0.000129</td>\n",
              "      <td>0.114260</td>\n",
              "      <td>0.75</td>\n",
              "      <td>0.247350</td>\n",
              "      <td>...</td>\n",
              "      <td>0.0</td>\n",
              "      <td>0.685864</td>\n",
              "      <td>0.0</td>\n",
              "      <td>INTERNET</td>\n",
              "      <td>0.050217</td>\n",
              "      <td>other</td>\n",
              "      <td>1.0</td>\n",
              "      <td>0.666667</td>\n",
              "      <td>0.0</td>\n",
              "      <td>0.0</td>\n",
              "    </tr>\n",
              "    <tr>\n",
              "      <th>2</th>\n",
              "      <td>0</td>\n",
              "      <td>0.875</td>\n",
              "      <td>0.996708</td>\n",
              "      <td>0.026042</td>\n",
              "      <td>0.034965</td>\n",
              "      <td>0.375</td>\n",
              "      <td>0.000157</td>\n",
              "      <td>0.109273</td>\n",
              "      <td>0.25</td>\n",
              "      <td>0.163308</td>\n",
              "      <td>...</td>\n",
              "      <td>0.0</td>\n",
              "      <td>0.005236</td>\n",
              "      <td>0.0</td>\n",
              "      <td>INTERNET</td>\n",
              "      <td>0.273082</td>\n",
              "      <td>windows</td>\n",
              "      <td>0.0</td>\n",
              "      <td>0.666667</td>\n",
              "      <td>0.0</td>\n",
              "      <td>0.0</td>\n",
              "    </tr>\n",
              "    <tr>\n",
              "      <th>3</th>\n",
              "      <td>0</td>\n",
              "      <td>0.625</td>\n",
              "      <td>0.475100</td>\n",
              "      <td>0.031250</td>\n",
              "      <td>0.034965</td>\n",
              "      <td>0.250</td>\n",
              "      <td>0.000089</td>\n",
              "      <td>0.106372</td>\n",
              "      <td>0.25</td>\n",
              "      <td>0.519779</td>\n",
              "      <td>...</td>\n",
              "      <td>0.0</td>\n",
              "      <td>0.005236</td>\n",
              "      <td>0.0</td>\n",
              "      <td>INTERNET</td>\n",
              "      <td>0.186605</td>\n",
              "      <td>linux</td>\n",
              "      <td>1.0</td>\n",
              "      <td>0.666667</td>\n",
              "      <td>0.0</td>\n",
              "      <td>0.0</td>\n",
              "    </tr>\n",
              "    <tr>\n",
              "      <th>4</th>\n",
              "      <td>0</td>\n",
              "      <td>1.000</td>\n",
              "      <td>0.842307</td>\n",
              "      <td>0.000000</td>\n",
              "      <td>0.069930</td>\n",
              "      <td>0.375</td>\n",
              "      <td>0.073195</td>\n",
              "      <td>0.487853</td>\n",
              "      <td>0.00</td>\n",
              "      <td>0.349007</td>\n",
              "      <td>...</td>\n",
              "      <td>0.0</td>\n",
              "      <td>0.005236</td>\n",
              "      <td>0.0</td>\n",
              "      <td>INTERNET</td>\n",
              "      <td>0.054581</td>\n",
              "      <td>other</td>\n",
              "      <td>0.0</td>\n",
              "      <td>0.666667</td>\n",
              "      <td>0.0</td>\n",
              "      <td>0.0</td>\n",
              "    </tr>\n",
              "  </tbody>\n",
              "</table>\n",
              "<p>5 rows × 32 columns</p>\n",
              "</div>\n",
              "    <div class=\"colab-df-buttons\">\n",
              "\n",
              "  <div class=\"colab-df-container\">\n",
              "    <button class=\"colab-df-convert\" onclick=\"convertToInteractive('df-8e6f2754-7cd2-4a99-87ec-c4faf5c0bfbe')\"\n",
              "            title=\"Convert this dataframe to an interactive table.\"\n",
              "            style=\"display:none;\">\n",
              "\n",
              "  <svg xmlns=\"http://www.w3.org/2000/svg\" height=\"24px\" viewBox=\"0 -960 960 960\">\n",
              "    <path d=\"M120-120v-720h720v720H120Zm60-500h600v-160H180v160Zm220 220h160v-160H400v160Zm0 220h160v-160H400v160ZM180-400h160v-160H180v160Zm440 0h160v-160H620v160ZM180-180h160v-160H180v160Zm440 0h160v-160H620v160Z\"/>\n",
              "  </svg>\n",
              "    </button>\n",
              "\n",
              "  <style>\n",
              "    .colab-df-container {\n",
              "      display:flex;\n",
              "      gap: 12px;\n",
              "    }\n",
              "\n",
              "    .colab-df-convert {\n",
              "      background-color: #E8F0FE;\n",
              "      border: none;\n",
              "      border-radius: 50%;\n",
              "      cursor: pointer;\n",
              "      display: none;\n",
              "      fill: #1967D2;\n",
              "      height: 32px;\n",
              "      padding: 0 0 0 0;\n",
              "      width: 32px;\n",
              "    }\n",
              "\n",
              "    .colab-df-convert:hover {\n",
              "      background-color: #E2EBFA;\n",
              "      box-shadow: 0px 1px 2px rgba(60, 64, 67, 0.3), 0px 1px 3px 1px rgba(60, 64, 67, 0.15);\n",
              "      fill: #174EA6;\n",
              "    }\n",
              "\n",
              "    .colab-df-buttons div {\n",
              "      margin-bottom: 4px;\n",
              "    }\n",
              "\n",
              "    [theme=dark] .colab-df-convert {\n",
              "      background-color: #3B4455;\n",
              "      fill: #D2E3FC;\n",
              "    }\n",
              "\n",
              "    [theme=dark] .colab-df-convert:hover {\n",
              "      background-color: #434B5C;\n",
              "      box-shadow: 0px 1px 3px 1px rgba(0, 0, 0, 0.15);\n",
              "      filter: drop-shadow(0px 1px 2px rgba(0, 0, 0, 0.3));\n",
              "      fill: #FFFFFF;\n",
              "    }\n",
              "  </style>\n",
              "\n",
              "    <script>\n",
              "      const buttonEl =\n",
              "        document.querySelector('#df-8e6f2754-7cd2-4a99-87ec-c4faf5c0bfbe button.colab-df-convert');\n",
              "      buttonEl.style.display =\n",
              "        google.colab.kernel.accessAllowed ? 'block' : 'none';\n",
              "\n",
              "      async function convertToInteractive(key) {\n",
              "        const element = document.querySelector('#df-8e6f2754-7cd2-4a99-87ec-c4faf5c0bfbe');\n",
              "        const dataTable =\n",
              "          await google.colab.kernel.invokeFunction('convertToInteractive',\n",
              "                                                    [key], {});\n",
              "        if (!dataTable) return;\n",
              "\n",
              "        const docLinkHtml = 'Like what you see? Visit the ' +\n",
              "          '<a target=\"_blank\" href=https://colab.research.google.com/notebooks/data_table.ipynb>data table notebook</a>'\n",
              "          + ' to learn more about interactive tables.';\n",
              "        element.innerHTML = '';\n",
              "        dataTable['output_type'] = 'display_data';\n",
              "        await google.colab.output.renderOutput(dataTable, element);\n",
              "        const docLink = document.createElement('div');\n",
              "        docLink.innerHTML = docLinkHtml;\n",
              "        element.appendChild(docLink);\n",
              "      }\n",
              "    </script>\n",
              "  </div>\n",
              "\n",
              "\n",
              "<div id=\"df-e8e61779-66fd-4827-9b03-3be53c8437e3\">\n",
              "  <button class=\"colab-df-quickchart\" onclick=\"quickchart('df-e8e61779-66fd-4827-9b03-3be53c8437e3')\"\n",
              "            title=\"Suggest charts\"\n",
              "            style=\"display:none;\">\n",
              "\n",
              "<svg xmlns=\"http://www.w3.org/2000/svg\" height=\"24px\"viewBox=\"0 0 24 24\"\n",
              "     width=\"24px\">\n",
              "    <g>\n",
              "        <path d=\"M19 3H5c-1.1 0-2 .9-2 2v14c0 1.1.9 2 2 2h14c1.1 0 2-.9 2-2V5c0-1.1-.9-2-2-2zM9 17H7v-7h2v7zm4 0h-2V7h2v10zm4 0h-2v-4h2v4z\"/>\n",
              "    </g>\n",
              "</svg>\n",
              "  </button>\n",
              "\n",
              "<style>\n",
              "  .colab-df-quickchart {\n",
              "      --bg-color: #E8F0FE;\n",
              "      --fill-color: #1967D2;\n",
              "      --hover-bg-color: #E2EBFA;\n",
              "      --hover-fill-color: #174EA6;\n",
              "      --disabled-fill-color: #AAA;\n",
              "      --disabled-bg-color: #DDD;\n",
              "  }\n",
              "\n",
              "  [theme=dark] .colab-df-quickchart {\n",
              "      --bg-color: #3B4455;\n",
              "      --fill-color: #D2E3FC;\n",
              "      --hover-bg-color: #434B5C;\n",
              "      --hover-fill-color: #FFFFFF;\n",
              "      --disabled-bg-color: #3B4455;\n",
              "      --disabled-fill-color: #666;\n",
              "  }\n",
              "\n",
              "  .colab-df-quickchart {\n",
              "    background-color: var(--bg-color);\n",
              "    border: none;\n",
              "    border-radius: 50%;\n",
              "    cursor: pointer;\n",
              "    display: none;\n",
              "    fill: var(--fill-color);\n",
              "    height: 32px;\n",
              "    padding: 0;\n",
              "    width: 32px;\n",
              "  }\n",
              "\n",
              "  .colab-df-quickchart:hover {\n",
              "    background-color: var(--hover-bg-color);\n",
              "    box-shadow: 0 1px 2px rgba(60, 64, 67, 0.3), 0 1px 3px 1px rgba(60, 64, 67, 0.15);\n",
              "    fill: var(--button-hover-fill-color);\n",
              "  }\n",
              "\n",
              "  .colab-df-quickchart-complete:disabled,\n",
              "  .colab-df-quickchart-complete:disabled:hover {\n",
              "    background-color: var(--disabled-bg-color);\n",
              "    fill: var(--disabled-fill-color);\n",
              "    box-shadow: none;\n",
              "  }\n",
              "\n",
              "  .colab-df-spinner {\n",
              "    border: 2px solid var(--fill-color);\n",
              "    border-color: transparent;\n",
              "    border-bottom-color: var(--fill-color);\n",
              "    animation:\n",
              "      spin 1s steps(1) infinite;\n",
              "  }\n",
              "\n",
              "  @keyframes spin {\n",
              "    0% {\n",
              "      border-color: transparent;\n",
              "      border-bottom-color: var(--fill-color);\n",
              "      border-left-color: var(--fill-color);\n",
              "    }\n",
              "    20% {\n",
              "      border-color: transparent;\n",
              "      border-left-color: var(--fill-color);\n",
              "      border-top-color: var(--fill-color);\n",
              "    }\n",
              "    30% {\n",
              "      border-color: transparent;\n",
              "      border-left-color: var(--fill-color);\n",
              "      border-top-color: var(--fill-color);\n",
              "      border-right-color: var(--fill-color);\n",
              "    }\n",
              "    40% {\n",
              "      border-color: transparent;\n",
              "      border-right-color: var(--fill-color);\n",
              "      border-top-color: var(--fill-color);\n",
              "    }\n",
              "    60% {\n",
              "      border-color: transparent;\n",
              "      border-right-color: var(--fill-color);\n",
              "    }\n",
              "    80% {\n",
              "      border-color: transparent;\n",
              "      border-right-color: var(--fill-color);\n",
              "      border-bottom-color: var(--fill-color);\n",
              "    }\n",
              "    90% {\n",
              "      border-color: transparent;\n",
              "      border-bottom-color: var(--fill-color);\n",
              "    }\n",
              "  }\n",
              "</style>\n",
              "\n",
              "  <script>\n",
              "    async function quickchart(key) {\n",
              "      const quickchartButtonEl =\n",
              "        document.querySelector('#' + key + ' button');\n",
              "      quickchartButtonEl.disabled = true;  // To prevent multiple clicks.\n",
              "      quickchartButtonEl.classList.add('colab-df-spinner');\n",
              "      try {\n",
              "        const charts = await google.colab.kernel.invokeFunction(\n",
              "            'suggestCharts', [key], {});\n",
              "      } catch (error) {\n",
              "        console.error('Error during call to suggestCharts:', error);\n",
              "      }\n",
              "      quickchartButtonEl.classList.remove('colab-df-spinner');\n",
              "      quickchartButtonEl.classList.add('colab-df-quickchart-complete');\n",
              "    }\n",
              "    (() => {\n",
              "      let quickchartButtonEl =\n",
              "        document.querySelector('#df-e8e61779-66fd-4827-9b03-3be53c8437e3 button');\n",
              "      quickchartButtonEl.style.display =\n",
              "        google.colab.kernel.accessAllowed ? 'block' : 'none';\n",
              "    })();\n",
              "  </script>\n",
              "</div>\n",
              "\n",
              "    </div>\n",
              "  </div>\n"
            ],
            "text/plain": [
              "   fraud_bool  income  name_email_similarity  prev_address_months_count  \\\n",
              "0           0   0.250               0.986507                   0.000000   \n",
              "1           0   0.875               0.617426                   0.000000   \n",
              "2           0   0.875               0.996708                   0.026042   \n",
              "3           0   0.625               0.475100                   0.031250   \n",
              "4           0   1.000               0.842307                   0.000000   \n",
              "\n",
              "   current_address_months_count  customer_age  days_since_request  \\\n",
              "0                      0.060606         0.375            0.000086   \n",
              "1                      0.209790         0.125            0.000129   \n",
              "2                      0.034965         0.375            0.000157   \n",
              "3                      0.034965         0.250            0.000089   \n",
              "4                      0.069930         0.375            0.073195   \n",
              "\n",
              "   intended_balcon_amount  payment_type  zip_count_4w  ...  has_other_cards  \\\n",
              "0                0.918255          0.00      0.157934  ...              0.0   \n",
              "1                0.114260          0.75      0.247350  ...              0.0   \n",
              "2                0.109273          0.25      0.163308  ...              0.0   \n",
              "3                0.106372          0.25      0.519779  ...              0.0   \n",
              "4                0.487853          0.00      0.349007  ...              0.0   \n",
              "\n",
              "   proposed_credit_limit  foreign_request    source  \\\n",
              "0               0.685864              0.0  INTERNET   \n",
              "1               0.685864              0.0  INTERNET   \n",
              "2               0.005236              0.0  INTERNET   \n",
              "3               0.005236              0.0  INTERNET   \n",
              "4               0.005236              0.0  INTERNET   \n",
              "\n",
              "   session_length_in_minutes  device_os  keep_alive_session  \\\n",
              "0                   0.198216      linux                 1.0   \n",
              "1                   0.050217      other                 1.0   \n",
              "2                   0.273082    windows                 0.0   \n",
              "3                   0.186605      linux                 1.0   \n",
              "4                   0.054581      other                 0.0   \n",
              "\n",
              "   device_distinct_emails_8w  device_fraud_count  month  \n",
              "0                   0.666667                 0.0    0.0  \n",
              "1                   0.666667                 0.0    0.0  \n",
              "2                   0.666667                 0.0    0.0  \n",
              "3                   0.666667                 0.0    0.0  \n",
              "4                   0.666667                 0.0    0.0  \n",
              "\n",
              "[5 rows x 32 columns]"
            ]
          },
          "execution_count": 38,
          "metadata": {},
          "output_type": "execute_result"
        }
      ],
      "source": [
        "path = '/content/drive/Shareddrives/DS Capstone/base_baf_final.csv'\n",
        "df = pd.read_csv(path)\n",
        "df.head()"
      ]
    },
    {
      "cell_type": "code",
      "execution_count": null,
      "metadata": {
        "colab": {
          "base_uri": "https://localhost:8080/"
        },
        "id": "N9hQDpJnI9NO",
        "outputId": "5ed04dcb-57d9-4257-d570-1f37de137571"
      },
      "outputs": [
        {
          "data": {
            "text/plain": [
              "array([0.        , 0.14285714, 0.28571429, 0.42857143, 0.57142857,\n",
              "       0.71428571, 0.85714286, 1.        ])"
            ]
          },
          "execution_count": 39,
          "metadata": {},
          "output_type": "execute_result"
        }
      ],
      "source": [
        "df[\"month\"].unique()"
      ]
    },
    {
      "cell_type": "code",
      "execution_count": null,
      "metadata": {
        "colab": {
          "base_uri": "https://localhost:8080/"
        },
        "id": "IuhafMVgOSRA",
        "outputId": "df67801d-f266-419f-9870-fe428215dff1"
      },
      "outputs": [
        {
          "data": {
            "text/plain": [
              "(1000000, 32)"
            ]
          },
          "execution_count": 40,
          "metadata": {},
          "output_type": "execute_result"
        }
      ],
      "source": [
        "df.shape"
      ]
    },
    {
      "cell_type": "code",
      "execution_count": null,
      "metadata": {
        "colab": {
          "base_uri": "https://localhost:8080/",
          "height": 256
        },
        "id": "QquXLRFdrxcr",
        "outputId": "228da00b-7f1a-475c-d0af-45d1d80491b4"
      },
      "outputs": [
        {
          "data": {
            "application/vnd.google.colaboratory.intrinsic+json": {
              "type": "dataframe",
              "variable_name": "df"
            },
            "text/html": [
              "\n",
              "  <div id=\"df-ca426d5d-ab21-482a-8dcc-c39bd909a17f\" class=\"colab-df-container\">\n",
              "    <div>\n",
              "<style scoped>\n",
              "    .dataframe tbody tr th:only-of-type {\n",
              "        vertical-align: middle;\n",
              "    }\n",
              "\n",
              "    .dataframe tbody tr th {\n",
              "        vertical-align: top;\n",
              "    }\n",
              "\n",
              "    .dataframe thead th {\n",
              "        text-align: right;\n",
              "    }\n",
              "</style>\n",
              "<table border=\"1\" class=\"dataframe\">\n",
              "  <thead>\n",
              "    <tr style=\"text-align: right;\">\n",
              "      <th></th>\n",
              "      <th>fraud_bool</th>\n",
              "      <th>income</th>\n",
              "      <th>name_email_similarity</th>\n",
              "      <th>prev_address_months_count</th>\n",
              "      <th>current_address_months_count</th>\n",
              "      <th>customer_age</th>\n",
              "      <th>days_since_request</th>\n",
              "      <th>intended_balcon_amount</th>\n",
              "      <th>payment_type</th>\n",
              "      <th>zip_count_4w</th>\n",
              "      <th>...</th>\n",
              "      <th>phone_mobile_valid</th>\n",
              "      <th>bank_months_count</th>\n",
              "      <th>has_other_cards</th>\n",
              "      <th>proposed_credit_limit</th>\n",
              "      <th>foreign_request</th>\n",
              "      <th>session_length_in_minutes</th>\n",
              "      <th>keep_alive_session</th>\n",
              "      <th>device_distinct_emails_8w</th>\n",
              "      <th>device_fraud_count</th>\n",
              "      <th>month</th>\n",
              "    </tr>\n",
              "  </thead>\n",
              "  <tbody>\n",
              "    <tr>\n",
              "      <th>0</th>\n",
              "      <td>0</td>\n",
              "      <td>0.250</td>\n",
              "      <td>0.986507</td>\n",
              "      <td>0.000000</td>\n",
              "      <td>0.060606</td>\n",
              "      <td>0.375</td>\n",
              "      <td>0.000086</td>\n",
              "      <td>0.918255</td>\n",
              "      <td>0.00</td>\n",
              "      <td>0.157934</td>\n",
              "      <td>...</td>\n",
              "      <td>1.0</td>\n",
              "      <td>0.303030</td>\n",
              "      <td>0.0</td>\n",
              "      <td>0.685864</td>\n",
              "      <td>0.0</td>\n",
              "      <td>0.198216</td>\n",
              "      <td>1.0</td>\n",
              "      <td>0.666667</td>\n",
              "      <td>0.0</td>\n",
              "      <td>0.0</td>\n",
              "    </tr>\n",
              "    <tr>\n",
              "      <th>1</th>\n",
              "      <td>0</td>\n",
              "      <td>0.875</td>\n",
              "      <td>0.617426</td>\n",
              "      <td>0.000000</td>\n",
              "      <td>0.209790</td>\n",
              "      <td>0.125</td>\n",
              "      <td>0.000129</td>\n",
              "      <td>0.114260</td>\n",
              "      <td>0.75</td>\n",
              "      <td>0.247350</td>\n",
              "      <td>...</td>\n",
              "      <td>1.0</td>\n",
              "      <td>0.090909</td>\n",
              "      <td>0.0</td>\n",
              "      <td>0.685864</td>\n",
              "      <td>0.0</td>\n",
              "      <td>0.050217</td>\n",
              "      <td>1.0</td>\n",
              "      <td>0.666667</td>\n",
              "      <td>0.0</td>\n",
              "      <td>0.0</td>\n",
              "    </tr>\n",
              "    <tr>\n",
              "      <th>2</th>\n",
              "      <td>0</td>\n",
              "      <td>0.875</td>\n",
              "      <td>0.996708</td>\n",
              "      <td>0.026042</td>\n",
              "      <td>0.034965</td>\n",
              "      <td>0.375</td>\n",
              "      <td>0.000157</td>\n",
              "      <td>0.109273</td>\n",
              "      <td>0.25</td>\n",
              "      <td>0.163308</td>\n",
              "      <td>...</td>\n",
              "      <td>1.0</td>\n",
              "      <td>0.939394</td>\n",
              "      <td>0.0</td>\n",
              "      <td>0.005236</td>\n",
              "      <td>0.0</td>\n",
              "      <td>0.273082</td>\n",
              "      <td>0.0</td>\n",
              "      <td>0.666667</td>\n",
              "      <td>0.0</td>\n",
              "      <td>0.0</td>\n",
              "    </tr>\n",
              "    <tr>\n",
              "      <th>3</th>\n",
              "      <td>0</td>\n",
              "      <td>0.625</td>\n",
              "      <td>0.475100</td>\n",
              "      <td>0.031250</td>\n",
              "      <td>0.034965</td>\n",
              "      <td>0.250</td>\n",
              "      <td>0.000089</td>\n",
              "      <td>0.106372</td>\n",
              "      <td>0.25</td>\n",
              "      <td>0.519779</td>\n",
              "      <td>...</td>\n",
              "      <td>1.0</td>\n",
              "      <td>0.060606</td>\n",
              "      <td>0.0</td>\n",
              "      <td>0.005236</td>\n",
              "      <td>0.0</td>\n",
              "      <td>0.186605</td>\n",
              "      <td>1.0</td>\n",
              "      <td>0.666667</td>\n",
              "      <td>0.0</td>\n",
              "      <td>0.0</td>\n",
              "    </tr>\n",
              "    <tr>\n",
              "      <th>4</th>\n",
              "      <td>0</td>\n",
              "      <td>1.000</td>\n",
              "      <td>0.842307</td>\n",
              "      <td>0.000000</td>\n",
              "      <td>0.069930</td>\n",
              "      <td>0.375</td>\n",
              "      <td>0.073195</td>\n",
              "      <td>0.487853</td>\n",
              "      <td>0.00</td>\n",
              "      <td>0.349007</td>\n",
              "      <td>...</td>\n",
              "      <td>1.0</td>\n",
              "      <td>0.818182</td>\n",
              "      <td>0.0</td>\n",
              "      <td>0.005236</td>\n",
              "      <td>0.0</td>\n",
              "      <td>0.054581</td>\n",
              "      <td>0.0</td>\n",
              "      <td>0.666667</td>\n",
              "      <td>0.0</td>\n",
              "      <td>0.0</td>\n",
              "    </tr>\n",
              "  </tbody>\n",
              "</table>\n",
              "<p>5 rows × 30 columns</p>\n",
              "</div>\n",
              "    <div class=\"colab-df-buttons\">\n",
              "\n",
              "  <div class=\"colab-df-container\">\n",
              "    <button class=\"colab-df-convert\" onclick=\"convertToInteractive('df-ca426d5d-ab21-482a-8dcc-c39bd909a17f')\"\n",
              "            title=\"Convert this dataframe to an interactive table.\"\n",
              "            style=\"display:none;\">\n",
              "\n",
              "  <svg xmlns=\"http://www.w3.org/2000/svg\" height=\"24px\" viewBox=\"0 -960 960 960\">\n",
              "    <path d=\"M120-120v-720h720v720H120Zm60-500h600v-160H180v160Zm220 220h160v-160H400v160Zm0 220h160v-160H400v160ZM180-400h160v-160H180v160Zm440 0h160v-160H620v160ZM180-180h160v-160H180v160Zm440 0h160v-160H620v160Z\"/>\n",
              "  </svg>\n",
              "    </button>\n",
              "\n",
              "  <style>\n",
              "    .colab-df-container {\n",
              "      display:flex;\n",
              "      gap: 12px;\n",
              "    }\n",
              "\n",
              "    .colab-df-convert {\n",
              "      background-color: #E8F0FE;\n",
              "      border: none;\n",
              "      border-radius: 50%;\n",
              "      cursor: pointer;\n",
              "      display: none;\n",
              "      fill: #1967D2;\n",
              "      height: 32px;\n",
              "      padding: 0 0 0 0;\n",
              "      width: 32px;\n",
              "    }\n",
              "\n",
              "    .colab-df-convert:hover {\n",
              "      background-color: #E2EBFA;\n",
              "      box-shadow: 0px 1px 2px rgba(60, 64, 67, 0.3), 0px 1px 3px 1px rgba(60, 64, 67, 0.15);\n",
              "      fill: #174EA6;\n",
              "    }\n",
              "\n",
              "    .colab-df-buttons div {\n",
              "      margin-bottom: 4px;\n",
              "    }\n",
              "\n",
              "    [theme=dark] .colab-df-convert {\n",
              "      background-color: #3B4455;\n",
              "      fill: #D2E3FC;\n",
              "    }\n",
              "\n",
              "    [theme=dark] .colab-df-convert:hover {\n",
              "      background-color: #434B5C;\n",
              "      box-shadow: 0px 1px 3px 1px rgba(0, 0, 0, 0.15);\n",
              "      filter: drop-shadow(0px 1px 2px rgba(0, 0, 0, 0.3));\n",
              "      fill: #FFFFFF;\n",
              "    }\n",
              "  </style>\n",
              "\n",
              "    <script>\n",
              "      const buttonEl =\n",
              "        document.querySelector('#df-ca426d5d-ab21-482a-8dcc-c39bd909a17f button.colab-df-convert');\n",
              "      buttonEl.style.display =\n",
              "        google.colab.kernel.accessAllowed ? 'block' : 'none';\n",
              "\n",
              "      async function convertToInteractive(key) {\n",
              "        const element = document.querySelector('#df-ca426d5d-ab21-482a-8dcc-c39bd909a17f');\n",
              "        const dataTable =\n",
              "          await google.colab.kernel.invokeFunction('convertToInteractive',\n",
              "                                                    [key], {});\n",
              "        if (!dataTable) return;\n",
              "\n",
              "        const docLinkHtml = 'Like what you see? Visit the ' +\n",
              "          '<a target=\"_blank\" href=https://colab.research.google.com/notebooks/data_table.ipynb>data table notebook</a>'\n",
              "          + ' to learn more about interactive tables.';\n",
              "        element.innerHTML = '';\n",
              "        dataTable['output_type'] = 'display_data';\n",
              "        await google.colab.output.renderOutput(dataTable, element);\n",
              "        const docLink = document.createElement('div');\n",
              "        docLink.innerHTML = docLinkHtml;\n",
              "        element.appendChild(docLink);\n",
              "      }\n",
              "    </script>\n",
              "  </div>\n",
              "\n",
              "\n",
              "<div id=\"df-3e5aa165-d9b2-4003-b6e2-796c25b8d5e6\">\n",
              "  <button class=\"colab-df-quickchart\" onclick=\"quickchart('df-3e5aa165-d9b2-4003-b6e2-796c25b8d5e6')\"\n",
              "            title=\"Suggest charts\"\n",
              "            style=\"display:none;\">\n",
              "\n",
              "<svg xmlns=\"http://www.w3.org/2000/svg\" height=\"24px\"viewBox=\"0 0 24 24\"\n",
              "     width=\"24px\">\n",
              "    <g>\n",
              "        <path d=\"M19 3H5c-1.1 0-2 .9-2 2v14c0 1.1.9 2 2 2h14c1.1 0 2-.9 2-2V5c0-1.1-.9-2-2-2zM9 17H7v-7h2v7zm4 0h-2V7h2v10zm4 0h-2v-4h2v4z\"/>\n",
              "    </g>\n",
              "</svg>\n",
              "  </button>\n",
              "\n",
              "<style>\n",
              "  .colab-df-quickchart {\n",
              "      --bg-color: #E8F0FE;\n",
              "      --fill-color: #1967D2;\n",
              "      --hover-bg-color: #E2EBFA;\n",
              "      --hover-fill-color: #174EA6;\n",
              "      --disabled-fill-color: #AAA;\n",
              "      --disabled-bg-color: #DDD;\n",
              "  }\n",
              "\n",
              "  [theme=dark] .colab-df-quickchart {\n",
              "      --bg-color: #3B4455;\n",
              "      --fill-color: #D2E3FC;\n",
              "      --hover-bg-color: #434B5C;\n",
              "      --hover-fill-color: #FFFFFF;\n",
              "      --disabled-bg-color: #3B4455;\n",
              "      --disabled-fill-color: #666;\n",
              "  }\n",
              "\n",
              "  .colab-df-quickchart {\n",
              "    background-color: var(--bg-color);\n",
              "    border: none;\n",
              "    border-radius: 50%;\n",
              "    cursor: pointer;\n",
              "    display: none;\n",
              "    fill: var(--fill-color);\n",
              "    height: 32px;\n",
              "    padding: 0;\n",
              "    width: 32px;\n",
              "  }\n",
              "\n",
              "  .colab-df-quickchart:hover {\n",
              "    background-color: var(--hover-bg-color);\n",
              "    box-shadow: 0 1px 2px rgba(60, 64, 67, 0.3), 0 1px 3px 1px rgba(60, 64, 67, 0.15);\n",
              "    fill: var(--button-hover-fill-color);\n",
              "  }\n",
              "\n",
              "  .colab-df-quickchart-complete:disabled,\n",
              "  .colab-df-quickchart-complete:disabled:hover {\n",
              "    background-color: var(--disabled-bg-color);\n",
              "    fill: var(--disabled-fill-color);\n",
              "    box-shadow: none;\n",
              "  }\n",
              "\n",
              "  .colab-df-spinner {\n",
              "    border: 2px solid var(--fill-color);\n",
              "    border-color: transparent;\n",
              "    border-bottom-color: var(--fill-color);\n",
              "    animation:\n",
              "      spin 1s steps(1) infinite;\n",
              "  }\n",
              "\n",
              "  @keyframes spin {\n",
              "    0% {\n",
              "      border-color: transparent;\n",
              "      border-bottom-color: var(--fill-color);\n",
              "      border-left-color: var(--fill-color);\n",
              "    }\n",
              "    20% {\n",
              "      border-color: transparent;\n",
              "      border-left-color: var(--fill-color);\n",
              "      border-top-color: var(--fill-color);\n",
              "    }\n",
              "    30% {\n",
              "      border-color: transparent;\n",
              "      border-left-color: var(--fill-color);\n",
              "      border-top-color: var(--fill-color);\n",
              "      border-right-color: var(--fill-color);\n",
              "    }\n",
              "    40% {\n",
              "      border-color: transparent;\n",
              "      border-right-color: var(--fill-color);\n",
              "      border-top-color: var(--fill-color);\n",
              "    }\n",
              "    60% {\n",
              "      border-color: transparent;\n",
              "      border-right-color: var(--fill-color);\n",
              "    }\n",
              "    80% {\n",
              "      border-color: transparent;\n",
              "      border-right-color: var(--fill-color);\n",
              "      border-bottom-color: var(--fill-color);\n",
              "    }\n",
              "    90% {\n",
              "      border-color: transparent;\n",
              "      border-bottom-color: var(--fill-color);\n",
              "    }\n",
              "  }\n",
              "</style>\n",
              "\n",
              "  <script>\n",
              "    async function quickchart(key) {\n",
              "      const quickchartButtonEl =\n",
              "        document.querySelector('#' + key + ' button');\n",
              "      quickchartButtonEl.disabled = true;  // To prevent multiple clicks.\n",
              "      quickchartButtonEl.classList.add('colab-df-spinner');\n",
              "      try {\n",
              "        const charts = await google.colab.kernel.invokeFunction(\n",
              "            'suggestCharts', [key], {});\n",
              "      } catch (error) {\n",
              "        console.error('Error during call to suggestCharts:', error);\n",
              "      }\n",
              "      quickchartButtonEl.classList.remove('colab-df-spinner');\n",
              "      quickchartButtonEl.classList.add('colab-df-quickchart-complete');\n",
              "    }\n",
              "    (() => {\n",
              "      let quickchartButtonEl =\n",
              "        document.querySelector('#df-3e5aa165-d9b2-4003-b6e2-796c25b8d5e6 button');\n",
              "      quickchartButtonEl.style.display =\n",
              "        google.colab.kernel.accessAllowed ? 'block' : 'none';\n",
              "    })();\n",
              "  </script>\n",
              "</div>\n",
              "\n",
              "    </div>\n",
              "  </div>\n"
            ],
            "text/plain": [
              "   fraud_bool  income  name_email_similarity  prev_address_months_count  \\\n",
              "0           0   0.250               0.986507                   0.000000   \n",
              "1           0   0.875               0.617426                   0.000000   \n",
              "2           0   0.875               0.996708                   0.026042   \n",
              "3           0   0.625               0.475100                   0.031250   \n",
              "4           0   1.000               0.842307                   0.000000   \n",
              "\n",
              "   current_address_months_count  customer_age  days_since_request  \\\n",
              "0                      0.060606         0.375            0.000086   \n",
              "1                      0.209790         0.125            0.000129   \n",
              "2                      0.034965         0.375            0.000157   \n",
              "3                      0.034965         0.250            0.000089   \n",
              "4                      0.069930         0.375            0.073195   \n",
              "\n",
              "   intended_balcon_amount  payment_type  zip_count_4w  ...  \\\n",
              "0                0.918255          0.00      0.157934  ...   \n",
              "1                0.114260          0.75      0.247350  ...   \n",
              "2                0.109273          0.25      0.163308  ...   \n",
              "3                0.106372          0.25      0.519779  ...   \n",
              "4                0.487853          0.00      0.349007  ...   \n",
              "\n",
              "   phone_mobile_valid  bank_months_count  has_other_cards  \\\n",
              "0                 1.0           0.303030              0.0   \n",
              "1                 1.0           0.090909              0.0   \n",
              "2                 1.0           0.939394              0.0   \n",
              "3                 1.0           0.060606              0.0   \n",
              "4                 1.0           0.818182              0.0   \n",
              "\n",
              "   proposed_credit_limit  foreign_request  session_length_in_minutes  \\\n",
              "0               0.685864              0.0                   0.198216   \n",
              "1               0.685864              0.0                   0.050217   \n",
              "2               0.005236              0.0                   0.273082   \n",
              "3               0.005236              0.0                   0.186605   \n",
              "4               0.005236              0.0                   0.054581   \n",
              "\n",
              "   keep_alive_session  device_distinct_emails_8w  device_fraud_count  month  \n",
              "0                 1.0                   0.666667                 0.0    0.0  \n",
              "1                 1.0                   0.666667                 0.0    0.0  \n",
              "2                 0.0                   0.666667                 0.0    0.0  \n",
              "3                 1.0                   0.666667                 0.0    0.0  \n",
              "4                 0.0                   0.666667                 0.0    0.0  \n",
              "\n",
              "[5 rows x 30 columns]"
            ]
          },
          "execution_count": 41,
          "metadata": {},
          "output_type": "execute_result"
        }
      ],
      "source": [
        "df = df.drop(['source', 'device_os'], axis=1)\n",
        "df.head()"
      ]
    },
    {
      "cell_type": "markdown",
      "metadata": {
        "id": "t6RMcP-2u2Ac"
      },
      "source": [
        "## Data Splits"
      ]
    },
    {
      "cell_type": "markdown",
      "metadata": {
        "id": "T2lDTAMLvB-J"
      },
      "source": [
        "* The goal is to create an 70/10/20 Train/Validate/Test split while maintaing a 100:1 (negative:positive) **sample ratio**.\n"
      ]
    },
    {
      "cell_type": "code",
      "execution_count": null,
      "metadata": {
        "id": "cI5I9POMt0hz"
      },
      "outputs": [],
      "source": [
        "X = df.iloc[:, 1:] # features\n",
        "y = df.iloc[:, 0] # fraud_bool\n",
        "\n",
        "X_train, X_temp, y_train, y_temp = train_test_split(\n",
        "    X, y, test_size=0.3, random_state=150, stratify=y) # 70/30 train/test split"
      ]
    },
    {
      "cell_type": "code",
      "execution_count": null,
      "metadata": {
        "id": "KGwlA-xNuSRM"
      },
      "outputs": [],
      "source": [
        "X_valid, X_test, y_valid, y_test = train_test_split(\n",
        "    X_temp, y_temp, test_size=2/3, random_state=150, stratify=y_temp) # 10/20 validate /test split"
      ]
    },
    {
      "cell_type": "code",
      "execution_count": null,
      "metadata": {
        "colab": {
          "base_uri": "https://localhost:8080/"
        },
        "id": "UB9tz7emQjTL",
        "outputId": "d4f394cb-0c90-4ca8-a3fe-e12d12b0a366"
      },
      "outputs": [
        {
          "data": {
            "text/plain": [
              "(200000, 29)"
            ]
          },
          "execution_count": 44,
          "metadata": {},
          "output_type": "execute_result"
        }
      ],
      "source": [
        "X_test.shape"
      ]
    },
    {
      "cell_type": "markdown",
      "metadata": {
        "id": "rooNOZbYArVF"
      },
      "source": [
        "## Base Model"
      ]
    },
    {
      "cell_type": "code",
      "execution_count": null,
      "metadata": {
        "colab": {
          "base_uri": "https://localhost:8080/",
          "height": 365
        },
        "id": "qCGnjyNPAuqJ",
        "outputId": "b9aac630-709a-40fd-8cf9-f86d30dbdd15"
      },
      "outputs": [
        {
          "ename": "KeyboardInterrupt",
          "evalue": "",
          "output_type": "error",
          "traceback": [
            "\u001b[0;31m---------------------------------------------------------------------------\u001b[0m",
            "\u001b[0;31mKeyboardInterrupt\u001b[0m                         Traceback (most recent call last)",
            "\u001b[0;32m<ipython-input-12-81a93e450e5f>\u001b[0m in \u001b[0;36m<cell line: 0>\u001b[0;34m()\u001b[0m\n\u001b[1;32m      1\u001b[0m \u001b[0;31m# Define the model and train\u001b[0m\u001b[0;34m\u001b[0m\u001b[0;34m\u001b[0m\u001b[0m\n\u001b[1;32m      2\u001b[0m \u001b[0mmodel\u001b[0m \u001b[0;34m=\u001b[0m \u001b[0mRandomForestClassifier\u001b[0m\u001b[0;34m(\u001b[0m\u001b[0mrandom_state\u001b[0m\u001b[0;34m=\u001b[0m\u001b[0;36m150\u001b[0m\u001b[0;34m)\u001b[0m\u001b[0;34m\u001b[0m\u001b[0;34m\u001b[0m\u001b[0m\n\u001b[0;32m----> 3\u001b[0;31m \u001b[0mmodel\u001b[0m\u001b[0;34m.\u001b[0m\u001b[0mfit\u001b[0m\u001b[0;34m(\u001b[0m\u001b[0mX_train\u001b[0m\u001b[0;34m,\u001b[0m \u001b[0my_train\u001b[0m\u001b[0;34m)\u001b[0m\u001b[0;34m\u001b[0m\u001b[0;34m\u001b[0m\u001b[0m\n\u001b[0m\u001b[1;32m      4\u001b[0m \u001b[0;34m\u001b[0m\u001b[0m\n\u001b[1;32m      5\u001b[0m \u001b[0;31m# Evaluate on validation set\u001b[0m\u001b[0;34m\u001b[0m\u001b[0;34m\u001b[0m\u001b[0m\n",
            "\u001b[0;32m/usr/local/lib/python3.11/dist-packages/sklearn/base.py\u001b[0m in \u001b[0;36mwrapper\u001b[0;34m(estimator, *args, **kwargs)\u001b[0m\n\u001b[1;32m   1387\u001b[0m                 )\n\u001b[1;32m   1388\u001b[0m             ):\n\u001b[0;32m-> 1389\u001b[0;31m                 \u001b[0;32mreturn\u001b[0m \u001b[0mfit_method\u001b[0m\u001b[0;34m(\u001b[0m\u001b[0mestimator\u001b[0m\u001b[0;34m,\u001b[0m \u001b[0;34m*\u001b[0m\u001b[0margs\u001b[0m\u001b[0;34m,\u001b[0m \u001b[0;34m**\u001b[0m\u001b[0mkwargs\u001b[0m\u001b[0;34m)\u001b[0m\u001b[0;34m\u001b[0m\u001b[0;34m\u001b[0m\u001b[0m\n\u001b[0m\u001b[1;32m   1390\u001b[0m \u001b[0;34m\u001b[0m\u001b[0m\n\u001b[1;32m   1391\u001b[0m         \u001b[0;32mreturn\u001b[0m \u001b[0mwrapper\u001b[0m\u001b[0;34m\u001b[0m\u001b[0;34m\u001b[0m\u001b[0m\n",
            "\u001b[0;32m/usr/local/lib/python3.11/dist-packages/sklearn/ensemble/_forest.py\u001b[0m in \u001b[0;36mfit\u001b[0;34m(self, X, y, sample_weight)\u001b[0m\n\u001b[1;32m    485\u001b[0m             \u001b[0;31m# parallel_backend contexts set at a higher level,\u001b[0m\u001b[0;34m\u001b[0m\u001b[0;34m\u001b[0m\u001b[0m\n\u001b[1;32m    486\u001b[0m             \u001b[0;31m# since correctness does not rely on using threads.\u001b[0m\u001b[0;34m\u001b[0m\u001b[0;34m\u001b[0m\u001b[0m\n\u001b[0;32m--> 487\u001b[0;31m             trees = Parallel(\n\u001b[0m\u001b[1;32m    488\u001b[0m                 \u001b[0mn_jobs\u001b[0m\u001b[0;34m=\u001b[0m\u001b[0mself\u001b[0m\u001b[0;34m.\u001b[0m\u001b[0mn_jobs\u001b[0m\u001b[0;34m,\u001b[0m\u001b[0;34m\u001b[0m\u001b[0;34m\u001b[0m\u001b[0m\n\u001b[1;32m    489\u001b[0m                 \u001b[0mverbose\u001b[0m\u001b[0;34m=\u001b[0m\u001b[0mself\u001b[0m\u001b[0;34m.\u001b[0m\u001b[0mverbose\u001b[0m\u001b[0;34m,\u001b[0m\u001b[0;34m\u001b[0m\u001b[0;34m\u001b[0m\u001b[0m\n",
            "\u001b[0;32m/usr/local/lib/python3.11/dist-packages/sklearn/utils/parallel.py\u001b[0m in \u001b[0;36m__call__\u001b[0;34m(self, iterable)\u001b[0m\n\u001b[1;32m     75\u001b[0m             \u001b[0;32mfor\u001b[0m \u001b[0mdelayed_func\u001b[0m\u001b[0;34m,\u001b[0m \u001b[0margs\u001b[0m\u001b[0;34m,\u001b[0m \u001b[0mkwargs\u001b[0m \u001b[0;32min\u001b[0m \u001b[0miterable\u001b[0m\u001b[0;34m\u001b[0m\u001b[0;34m\u001b[0m\u001b[0m\n\u001b[1;32m     76\u001b[0m         )\n\u001b[0;32m---> 77\u001b[0;31m         \u001b[0;32mreturn\u001b[0m \u001b[0msuper\u001b[0m\u001b[0;34m(\u001b[0m\u001b[0;34m)\u001b[0m\u001b[0;34m.\u001b[0m\u001b[0m__call__\u001b[0m\u001b[0;34m(\u001b[0m\u001b[0miterable_with_config\u001b[0m\u001b[0;34m)\u001b[0m\u001b[0;34m\u001b[0m\u001b[0;34m\u001b[0m\u001b[0m\n\u001b[0m\u001b[1;32m     78\u001b[0m \u001b[0;34m\u001b[0m\u001b[0m\n\u001b[1;32m     79\u001b[0m \u001b[0;34m\u001b[0m\u001b[0m\n",
            "\u001b[0;32m/usr/local/lib/python3.11/dist-packages/joblib/parallel.py\u001b[0m in \u001b[0;36m__call__\u001b[0;34m(self, iterable)\u001b[0m\n\u001b[1;32m   1916\u001b[0m             \u001b[0moutput\u001b[0m \u001b[0;34m=\u001b[0m \u001b[0mself\u001b[0m\u001b[0;34m.\u001b[0m\u001b[0m_get_sequential_output\u001b[0m\u001b[0;34m(\u001b[0m\u001b[0miterable\u001b[0m\u001b[0;34m)\u001b[0m\u001b[0;34m\u001b[0m\u001b[0;34m\u001b[0m\u001b[0m\n\u001b[1;32m   1917\u001b[0m             \u001b[0mnext\u001b[0m\u001b[0;34m(\u001b[0m\u001b[0moutput\u001b[0m\u001b[0;34m)\u001b[0m\u001b[0;34m\u001b[0m\u001b[0;34m\u001b[0m\u001b[0m\n\u001b[0;32m-> 1918\u001b[0;31m             \u001b[0;32mreturn\u001b[0m \u001b[0moutput\u001b[0m \u001b[0;32mif\u001b[0m \u001b[0mself\u001b[0m\u001b[0;34m.\u001b[0m\u001b[0mreturn_generator\u001b[0m \u001b[0;32melse\u001b[0m \u001b[0mlist\u001b[0m\u001b[0;34m(\u001b[0m\u001b[0moutput\u001b[0m\u001b[0;34m)\u001b[0m\u001b[0;34m\u001b[0m\u001b[0;34m\u001b[0m\u001b[0m\n\u001b[0m\u001b[1;32m   1919\u001b[0m \u001b[0;34m\u001b[0m\u001b[0m\n\u001b[1;32m   1920\u001b[0m         \u001b[0;31m# Let's create an ID that uniquely identifies the current call. If the\u001b[0m\u001b[0;34m\u001b[0m\u001b[0;34m\u001b[0m\u001b[0m\n",
            "\u001b[0;32m/usr/local/lib/python3.11/dist-packages/joblib/parallel.py\u001b[0m in \u001b[0;36m_get_sequential_output\u001b[0;34m(self, iterable)\u001b[0m\n\u001b[1;32m   1845\u001b[0m                 \u001b[0mself\u001b[0m\u001b[0;34m.\u001b[0m\u001b[0mn_dispatched_batches\u001b[0m \u001b[0;34m+=\u001b[0m \u001b[0;36m1\u001b[0m\u001b[0;34m\u001b[0m\u001b[0;34m\u001b[0m\u001b[0m\n\u001b[1;32m   1846\u001b[0m                 \u001b[0mself\u001b[0m\u001b[0;34m.\u001b[0m\u001b[0mn_dispatched_tasks\u001b[0m \u001b[0;34m+=\u001b[0m \u001b[0;36m1\u001b[0m\u001b[0;34m\u001b[0m\u001b[0;34m\u001b[0m\u001b[0m\n\u001b[0;32m-> 1847\u001b[0;31m                 \u001b[0mres\u001b[0m \u001b[0;34m=\u001b[0m \u001b[0mfunc\u001b[0m\u001b[0;34m(\u001b[0m\u001b[0;34m*\u001b[0m\u001b[0margs\u001b[0m\u001b[0;34m,\u001b[0m \u001b[0;34m**\u001b[0m\u001b[0mkwargs\u001b[0m\u001b[0;34m)\u001b[0m\u001b[0;34m\u001b[0m\u001b[0;34m\u001b[0m\u001b[0m\n\u001b[0m\u001b[1;32m   1848\u001b[0m                 \u001b[0mself\u001b[0m\u001b[0;34m.\u001b[0m\u001b[0mn_completed_tasks\u001b[0m \u001b[0;34m+=\u001b[0m \u001b[0;36m1\u001b[0m\u001b[0;34m\u001b[0m\u001b[0;34m\u001b[0m\u001b[0m\n\u001b[1;32m   1849\u001b[0m                 \u001b[0mself\u001b[0m\u001b[0;34m.\u001b[0m\u001b[0mprint_progress\u001b[0m\u001b[0;34m(\u001b[0m\u001b[0;34m)\u001b[0m\u001b[0;34m\u001b[0m\u001b[0;34m\u001b[0m\u001b[0m\n",
            "\u001b[0;32m/usr/local/lib/python3.11/dist-packages/sklearn/utils/parallel.py\u001b[0m in \u001b[0;36m__call__\u001b[0;34m(self, *args, **kwargs)\u001b[0m\n\u001b[1;32m    137\u001b[0m             \u001b[0mconfig\u001b[0m \u001b[0;34m=\u001b[0m \u001b[0;34m{\u001b[0m\u001b[0;34m}\u001b[0m\u001b[0;34m\u001b[0m\u001b[0;34m\u001b[0m\u001b[0m\n\u001b[1;32m    138\u001b[0m         \u001b[0;32mwith\u001b[0m \u001b[0mconfig_context\u001b[0m\u001b[0;34m(\u001b[0m\u001b[0;34m**\u001b[0m\u001b[0mconfig\u001b[0m\u001b[0;34m)\u001b[0m\u001b[0;34m:\u001b[0m\u001b[0;34m\u001b[0m\u001b[0;34m\u001b[0m\u001b[0m\n\u001b[0;32m--> 139\u001b[0;31m             \u001b[0;32mreturn\u001b[0m \u001b[0mself\u001b[0m\u001b[0;34m.\u001b[0m\u001b[0mfunction\u001b[0m\u001b[0;34m(\u001b[0m\u001b[0;34m*\u001b[0m\u001b[0margs\u001b[0m\u001b[0;34m,\u001b[0m \u001b[0;34m**\u001b[0m\u001b[0mkwargs\u001b[0m\u001b[0;34m)\u001b[0m\u001b[0;34m\u001b[0m\u001b[0;34m\u001b[0m\u001b[0m\n\u001b[0m\u001b[1;32m    140\u001b[0m \u001b[0;34m\u001b[0m\u001b[0m\n\u001b[1;32m    141\u001b[0m \u001b[0;34m\u001b[0m\u001b[0m\n",
            "\u001b[0;32m/usr/local/lib/python3.11/dist-packages/sklearn/ensemble/_forest.py\u001b[0m in \u001b[0;36m_parallel_build_trees\u001b[0;34m(tree, bootstrap, X, y, sample_weight, tree_idx, n_trees, verbose, class_weight, n_samples_bootstrap, missing_values_in_feature_mask)\u001b[0m\n\u001b[1;32m    187\u001b[0m             \u001b[0mcurr_sample_weight\u001b[0m \u001b[0;34m*=\u001b[0m \u001b[0mcompute_sample_weight\u001b[0m\u001b[0;34m(\u001b[0m\u001b[0;34m\"balanced\"\u001b[0m\u001b[0;34m,\u001b[0m \u001b[0my\u001b[0m\u001b[0;34m,\u001b[0m \u001b[0mindices\u001b[0m\u001b[0;34m=\u001b[0m\u001b[0mindices\u001b[0m\u001b[0;34m)\u001b[0m\u001b[0;34m\u001b[0m\u001b[0;34m\u001b[0m\u001b[0m\n\u001b[1;32m    188\u001b[0m \u001b[0;34m\u001b[0m\u001b[0m\n\u001b[0;32m--> 189\u001b[0;31m         tree._fit(\n\u001b[0m\u001b[1;32m    190\u001b[0m             \u001b[0mX\u001b[0m\u001b[0;34m,\u001b[0m\u001b[0;34m\u001b[0m\u001b[0;34m\u001b[0m\u001b[0m\n\u001b[1;32m    191\u001b[0m             \u001b[0my\u001b[0m\u001b[0;34m,\u001b[0m\u001b[0;34m\u001b[0m\u001b[0;34m\u001b[0m\u001b[0m\n",
            "\u001b[0;32m/usr/local/lib/python3.11/dist-packages/sklearn/tree/_classes.py\u001b[0m in \u001b[0;36m_fit\u001b[0;34m(self, X, y, sample_weight, check_input, missing_values_in_feature_mask)\u001b[0m\n\u001b[1;32m    470\u001b[0m             )\n\u001b[1;32m    471\u001b[0m \u001b[0;34m\u001b[0m\u001b[0m\n\u001b[0;32m--> 472\u001b[0;31m         \u001b[0mbuilder\u001b[0m\u001b[0;34m.\u001b[0m\u001b[0mbuild\u001b[0m\u001b[0;34m(\u001b[0m\u001b[0mself\u001b[0m\u001b[0;34m.\u001b[0m\u001b[0mtree_\u001b[0m\u001b[0;34m,\u001b[0m \u001b[0mX\u001b[0m\u001b[0;34m,\u001b[0m \u001b[0my\u001b[0m\u001b[0;34m,\u001b[0m \u001b[0msample_weight\u001b[0m\u001b[0;34m,\u001b[0m \u001b[0mmissing_values_in_feature_mask\u001b[0m\u001b[0;34m)\u001b[0m\u001b[0;34m\u001b[0m\u001b[0;34m\u001b[0m\u001b[0m\n\u001b[0m\u001b[1;32m    473\u001b[0m \u001b[0;34m\u001b[0m\u001b[0m\n\u001b[1;32m    474\u001b[0m         \u001b[0;32mif\u001b[0m \u001b[0mself\u001b[0m\u001b[0;34m.\u001b[0m\u001b[0mn_outputs_\u001b[0m \u001b[0;34m==\u001b[0m \u001b[0;36m1\u001b[0m \u001b[0;32mand\u001b[0m \u001b[0mis_classifier\u001b[0m\u001b[0;34m(\u001b[0m\u001b[0mself\u001b[0m\u001b[0;34m)\u001b[0m\u001b[0;34m:\u001b[0m\u001b[0;34m\u001b[0m\u001b[0;34m\u001b[0m\u001b[0m\n",
            "\u001b[0;31mKeyboardInterrupt\u001b[0m: "
          ]
        }
      ],
      "source": [
        "# Define the model and train\n",
        "model = RandomForestClassifier(random_state=150)\n",
        "model.fit(X_train, y_train)\n",
        "\n",
        "# Evaluate on validation set\n",
        "y_pred_validation = model.predict(X_valid)\n",
        "y_proba_validation = model.predict_proba(X_valid)\n",
        "\n",
        "# Compute Balanced Accuracy\n",
        "balanced_acc = balanced_accuracy_score(y_valid, y_pred_validation)\n",
        "print(f'Balanced Accuracy on the test set: {balanced_acc:.2%}')\n",
        "\n",
        "# Calculate ROC AUC\n",
        "roc_auc = roc_auc_score(y_valid, y_proba_validation[:, 1]) # probality of the minority positive class\n",
        "print(f'ROC AUC on the test set: {roc_auc:.4f}')\n",
        "\n",
        "# Calculate F1 Score\n",
        "f1 = f1_score(y_valid, y_pred_validation)\n",
        "print(f'F1 Score on the test set: {f1:.4f}')\n",
        "\n",
        "fpr, tpr, thresholds = roc_curve(y_valid, y_proba_validation[:, 1])\n",
        "\n",
        "# Find the threshold corresponding to FPR = 5% (0.05)\n",
        "fpr_target = 0.05\n",
        "threshold_at_fpr_5 = thresholds[np.where(fpr >= fpr_target)[0][0]]\n",
        "\n",
        "# Calculate TPR at that threshold\n",
        "tpr_at_fpr_5 = tpr[np.where(fpr >= fpr_target)[0][0]]\n",
        "\n",
        "print(f'TPR at FPR = 5%: {tpr_at_fpr_5:.4f}')\n"
      ]
    },
    {
      "cell_type": "markdown",
      "metadata": {
        "id": "-Bmbvsj-u9H6"
      },
      "source": [
        "## Undersampling"
      ]
    },
    {
      "cell_type": "markdown",
      "metadata": {
        "id": "MHxOhJrNvp3q"
      },
      "source": [
        "* The original training data (sampling ratio of 100:1) will be used to perform hyperparameter tuning. We will then train the model with the best Hyperparameters and the undersampled training data.\n",
        "\n",
        "* We undersample the training data to reflect a 1:1 **sampling ratio.** By undersampling the training data only, we can prevent the classifier from learning majority classification."
      ]
    },
    {
      "cell_type": "code",
      "execution_count": null,
      "metadata": {
        "colab": {
          "base_uri": "https://localhost:8080/"
        },
        "id": "Y6M-ZENKu_8h",
        "outputId": "69ea0553-a445-4653-eabc-3f2704cff562"
      },
      "outputs": [
        {
          "name": "stdout",
          "output_type": "stream",
          "text": [
            "Original class distribution: Counter({0: 692280, 1: 7720})\n",
            "Undersampled class distribution: Counter({0: 7720, 1: 7720})\n"
          ]
        }
      ],
      "source": [
        "from imblearn.under_sampling import RandomUnderSampler\n",
        "from collections import Counter\n",
        "\n",
        "# Initialize RandomUnderSampler\n",
        "undersampler = RandomUnderSampler(sampling_strategy=1)  # 0.2 means 5:1 ratio (negative:positive)\n",
        "\n",
        "# Fit and apply the RandomUnderSampler to the training data\n",
        "X_train_undersampled, y_train_undersampled = undersampler.fit_resample(X_train, y_train)\n",
        "\n",
        "# Check the new distribution of classes\n",
        "print(f\"Original class distribution: {Counter(y_train)}\")\n",
        "print(f\"Undersampled class distribution: {Counter(y_train_undersampled)}\")\n"
      ]
    },
    {
      "cell_type": "markdown",
      "metadata": {
        "id": "UIlyljRmIHYW"
      },
      "source": [
        "## HyperParameter Tuning"
      ]
    },
    {
      "cell_type": "code",
      "execution_count": null,
      "metadata": {
        "id": "--Pub-WPdU5V"
      },
      "outputs": [],
      "source": [
        "X_train_sample, _, y_train_sample, _ = train_test_split(\n",
        "    X_train, y_train, test_size=0.8, random_state=150, stratify=y_train)"
      ]
    },
    {
      "cell_type": "code",
      "execution_count": null,
      "metadata": {
        "colab": {
          "base_uri": "https://localhost:8080/"
        },
        "id": "PCeXYKaXdYw4",
        "outputId": "59c71dd6-5e8f-4103-9e12-b70fc2f4691f"
      },
      "outputs": [
        {
          "data": {
            "text/plain": [
              "(140000,)"
            ]
          },
          "execution_count": 47,
          "metadata": {},
          "output_type": "execute_result"
        }
      ],
      "source": [
        "y_train_sample.shape"
      ]
    },
    {
      "cell_type": "code",
      "execution_count": null,
      "metadata": {
        "id": "pA554HsFvHXm"
      },
      "outputs": [],
      "source": [
        "X_calib, X_val_eval, y_calib, y_val_eval = train_test_split(\n",
        "    X_valid, y_valid, test_size=0.5, stratify=y_valid, random_state=42)"
      ]
    },
    {
      "cell_type": "code",
      "execution_count": null,
      "metadata": {
        "colab": {
          "base_uri": "https://localhost:8080/"
        },
        "id": "PL-eMXFoIFFp",
        "outputId": "6a40e4be-ef3d-4838-d3ea-993cff6aaad8"
      },
      "outputs": [
        {
          "name": "stdout",
          "output_type": "stream",
          "text": [
            "Fitting 3 folds for each of 3 candidates, totalling 9 fits\n",
            "Best Hyperparameters: {'n_estimators': 150, 'min_samples_split': 5, 'min_samples_leaf': 1, 'max_depth': 5, 'criterion': 'entropy'}\n"
          ]
        }
      ],
      "source": [
        "# Define the model\n",
        "hp_model = RandomForestClassifier(random_state=150, n_jobs=-1)\n",
        "\n",
        "# Param distribution\n",
        "param_dist = {\n",
        "    \"n_estimators\": [50, 100, 150],\n",
        "    \"max_depth\": [5, 10, 15],\n",
        "    \"min_samples_split\": [2, 5],\n",
        "    \"min_samples_leaf\": [1, 2, 4],\n",
        "    \"criterion\": [\"gini\", \"entropy\"]\n",
        "}\n",
        "\n",
        "# Define scoring metrics\n",
        "f1_scorer = make_scorer(f1_score, average='binary')  # F1 score for binary classification\n",
        "balanced_accuracy_scorer = make_scorer(balanced_accuracy_score)\n",
        "\n",
        "# RandomizedSearchCV\n",
        "random_search = RandomizedSearchCV(hp_model, param_dist, scoring=balanced_accuracy_scorer, cv=3, n_jobs=-1, n_iter=3, random_state=150,  verbose=2)\n",
        "\n",
        "# Perform RandomSearchCV on the 10:1 sampled training data\n",
        "random_search.fit(X_train_sample, y_train_sample)\n",
        "\n",
        "# Best hyperparameters after Grid Search\n",
        "best_params = random_search.best_params_\n",
        "print(\"Best Hyperparameters:\", random_search.best_params_)\n"
      ]
    },
    {
      "cell_type": "code",
      "execution_count": null,
      "metadata": {
        "colab": {
          "base_uri": "https://localhost:8080/",
          "height": 98
        },
        "id": "Pl9n4pTJ-uH9",
        "outputId": "57ee3a5e-5b25-4392-814f-49157e1b2ecf"
      },
      "outputs": [
        {
          "data": {
            "text/html": [
              "<style>#sk-container-id-2 {\n",
              "  /* Definition of color scheme common for light and dark mode */\n",
              "  --sklearn-color-text: #000;\n",
              "  --sklearn-color-text-muted: #666;\n",
              "  --sklearn-color-line: gray;\n",
              "  /* Definition of color scheme for unfitted estimators */\n",
              "  --sklearn-color-unfitted-level-0: #fff5e6;\n",
              "  --sklearn-color-unfitted-level-1: #f6e4d2;\n",
              "  --sklearn-color-unfitted-level-2: #ffe0b3;\n",
              "  --sklearn-color-unfitted-level-3: chocolate;\n",
              "  /* Definition of color scheme for fitted estimators */\n",
              "  --sklearn-color-fitted-level-0: #f0f8ff;\n",
              "  --sklearn-color-fitted-level-1: #d4ebff;\n",
              "  --sklearn-color-fitted-level-2: #b3dbfd;\n",
              "  --sklearn-color-fitted-level-3: cornflowerblue;\n",
              "\n",
              "  /* Specific color for light theme */\n",
              "  --sklearn-color-text-on-default-background: var(--sg-text-color, var(--theme-code-foreground, var(--jp-content-font-color1, black)));\n",
              "  --sklearn-color-background: var(--sg-background-color, var(--theme-background, var(--jp-layout-color0, white)));\n",
              "  --sklearn-color-border-box: var(--sg-text-color, var(--theme-code-foreground, var(--jp-content-font-color1, black)));\n",
              "  --sklearn-color-icon: #696969;\n",
              "\n",
              "  @media (prefers-color-scheme: dark) {\n",
              "    /* Redefinition of color scheme for dark theme */\n",
              "    --sklearn-color-text-on-default-background: var(--sg-text-color, var(--theme-code-foreground, var(--jp-content-font-color1, white)));\n",
              "    --sklearn-color-background: var(--sg-background-color, var(--theme-background, var(--jp-layout-color0, #111)));\n",
              "    --sklearn-color-border-box: var(--sg-text-color, var(--theme-code-foreground, var(--jp-content-font-color1, white)));\n",
              "    --sklearn-color-icon: #878787;\n",
              "  }\n",
              "}\n",
              "\n",
              "#sk-container-id-2 {\n",
              "  color: var(--sklearn-color-text);\n",
              "}\n",
              "\n",
              "#sk-container-id-2 pre {\n",
              "  padding: 0;\n",
              "}\n",
              "\n",
              "#sk-container-id-2 input.sk-hidden--visually {\n",
              "  border: 0;\n",
              "  clip: rect(1px 1px 1px 1px);\n",
              "  clip: rect(1px, 1px, 1px, 1px);\n",
              "  height: 1px;\n",
              "  margin: -1px;\n",
              "  overflow: hidden;\n",
              "  padding: 0;\n",
              "  position: absolute;\n",
              "  width: 1px;\n",
              "}\n",
              "\n",
              "#sk-container-id-2 div.sk-dashed-wrapped {\n",
              "  border: 1px dashed var(--sklearn-color-line);\n",
              "  margin: 0 0.4em 0.5em 0.4em;\n",
              "  box-sizing: border-box;\n",
              "  padding-bottom: 0.4em;\n",
              "  background-color: var(--sklearn-color-background);\n",
              "}\n",
              "\n",
              "#sk-container-id-2 div.sk-container {\n",
              "  /* jupyter's `normalize.less` sets `[hidden] { display: none; }`\n",
              "     but bootstrap.min.css set `[hidden] { display: none !important; }`\n",
              "     so we also need the `!important` here to be able to override the\n",
              "     default hidden behavior on the sphinx rendered scikit-learn.org.\n",
              "     See: https://github.com/scikit-learn/scikit-learn/issues/21755 */\n",
              "  display: inline-block !important;\n",
              "  position: relative;\n",
              "}\n",
              "\n",
              "#sk-container-id-2 div.sk-text-repr-fallback {\n",
              "  display: none;\n",
              "}\n",
              "\n",
              "div.sk-parallel-item,\n",
              "div.sk-serial,\n",
              "div.sk-item {\n",
              "  /* draw centered vertical line to link estimators */\n",
              "  background-image: linear-gradient(var(--sklearn-color-text-on-default-background), var(--sklearn-color-text-on-default-background));\n",
              "  background-size: 2px 100%;\n",
              "  background-repeat: no-repeat;\n",
              "  background-position: center center;\n",
              "}\n",
              "\n",
              "/* Parallel-specific style estimator block */\n",
              "\n",
              "#sk-container-id-2 div.sk-parallel-item::after {\n",
              "  content: \"\";\n",
              "  width: 100%;\n",
              "  border-bottom: 2px solid var(--sklearn-color-text-on-default-background);\n",
              "  flex-grow: 1;\n",
              "}\n",
              "\n",
              "#sk-container-id-2 div.sk-parallel {\n",
              "  display: flex;\n",
              "  align-items: stretch;\n",
              "  justify-content: center;\n",
              "  background-color: var(--sklearn-color-background);\n",
              "  position: relative;\n",
              "}\n",
              "\n",
              "#sk-container-id-2 div.sk-parallel-item {\n",
              "  display: flex;\n",
              "  flex-direction: column;\n",
              "}\n",
              "\n",
              "#sk-container-id-2 div.sk-parallel-item:first-child::after {\n",
              "  align-self: flex-end;\n",
              "  width: 50%;\n",
              "}\n",
              "\n",
              "#sk-container-id-2 div.sk-parallel-item:last-child::after {\n",
              "  align-self: flex-start;\n",
              "  width: 50%;\n",
              "}\n",
              "\n",
              "#sk-container-id-2 div.sk-parallel-item:only-child::after {\n",
              "  width: 0;\n",
              "}\n",
              "\n",
              "/* Serial-specific style estimator block */\n",
              "\n",
              "#sk-container-id-2 div.sk-serial {\n",
              "  display: flex;\n",
              "  flex-direction: column;\n",
              "  align-items: center;\n",
              "  background-color: var(--sklearn-color-background);\n",
              "  padding-right: 1em;\n",
              "  padding-left: 1em;\n",
              "}\n",
              "\n",
              "\n",
              "/* Toggleable style: style used for estimator/Pipeline/ColumnTransformer box that is\n",
              "clickable and can be expanded/collapsed.\n",
              "- Pipeline and ColumnTransformer use this feature and define the default style\n",
              "- Estimators will overwrite some part of the style using the `sk-estimator` class\n",
              "*/\n",
              "\n",
              "/* Pipeline and ColumnTransformer style (default) */\n",
              "\n",
              "#sk-container-id-2 div.sk-toggleable {\n",
              "  /* Default theme specific background. It is overwritten whether we have a\n",
              "  specific estimator or a Pipeline/ColumnTransformer */\n",
              "  background-color: var(--sklearn-color-background);\n",
              "}\n",
              "\n",
              "/* Toggleable label */\n",
              "#sk-container-id-2 label.sk-toggleable__label {\n",
              "  cursor: pointer;\n",
              "  display: flex;\n",
              "  width: 100%;\n",
              "  margin-bottom: 0;\n",
              "  padding: 0.5em;\n",
              "  box-sizing: border-box;\n",
              "  text-align: center;\n",
              "  align-items: start;\n",
              "  justify-content: space-between;\n",
              "  gap: 0.5em;\n",
              "}\n",
              "\n",
              "#sk-container-id-2 label.sk-toggleable__label .caption {\n",
              "  font-size: 0.6rem;\n",
              "  font-weight: lighter;\n",
              "  color: var(--sklearn-color-text-muted);\n",
              "}\n",
              "\n",
              "#sk-container-id-2 label.sk-toggleable__label-arrow:before {\n",
              "  /* Arrow on the left of the label */\n",
              "  content: \"▸\";\n",
              "  float: left;\n",
              "  margin-right: 0.25em;\n",
              "  color: var(--sklearn-color-icon);\n",
              "}\n",
              "\n",
              "#sk-container-id-2 label.sk-toggleable__label-arrow:hover:before {\n",
              "  color: var(--sklearn-color-text);\n",
              "}\n",
              "\n",
              "/* Toggleable content - dropdown */\n",
              "\n",
              "#sk-container-id-2 div.sk-toggleable__content {\n",
              "  max-height: 0;\n",
              "  max-width: 0;\n",
              "  overflow: hidden;\n",
              "  text-align: left;\n",
              "  /* unfitted */\n",
              "  background-color: var(--sklearn-color-unfitted-level-0);\n",
              "}\n",
              "\n",
              "#sk-container-id-2 div.sk-toggleable__content.fitted {\n",
              "  /* fitted */\n",
              "  background-color: var(--sklearn-color-fitted-level-0);\n",
              "}\n",
              "\n",
              "#sk-container-id-2 div.sk-toggleable__content pre {\n",
              "  margin: 0.2em;\n",
              "  border-radius: 0.25em;\n",
              "  color: var(--sklearn-color-text);\n",
              "  /* unfitted */\n",
              "  background-color: var(--sklearn-color-unfitted-level-0);\n",
              "}\n",
              "\n",
              "#sk-container-id-2 div.sk-toggleable__content.fitted pre {\n",
              "  /* unfitted */\n",
              "  background-color: var(--sklearn-color-fitted-level-0);\n",
              "}\n",
              "\n",
              "#sk-container-id-2 input.sk-toggleable__control:checked~div.sk-toggleable__content {\n",
              "  /* Expand drop-down */\n",
              "  max-height: 200px;\n",
              "  max-width: 100%;\n",
              "  overflow: auto;\n",
              "}\n",
              "\n",
              "#sk-container-id-2 input.sk-toggleable__control:checked~label.sk-toggleable__label-arrow:before {\n",
              "  content: \"▾\";\n",
              "}\n",
              "\n",
              "/* Pipeline/ColumnTransformer-specific style */\n",
              "\n",
              "#sk-container-id-2 div.sk-label input.sk-toggleable__control:checked~label.sk-toggleable__label {\n",
              "  color: var(--sklearn-color-text);\n",
              "  background-color: var(--sklearn-color-unfitted-level-2);\n",
              "}\n",
              "\n",
              "#sk-container-id-2 div.sk-label.fitted input.sk-toggleable__control:checked~label.sk-toggleable__label {\n",
              "  background-color: var(--sklearn-color-fitted-level-2);\n",
              "}\n",
              "\n",
              "/* Estimator-specific style */\n",
              "\n",
              "/* Colorize estimator box */\n",
              "#sk-container-id-2 div.sk-estimator input.sk-toggleable__control:checked~label.sk-toggleable__label {\n",
              "  /* unfitted */\n",
              "  background-color: var(--sklearn-color-unfitted-level-2);\n",
              "}\n",
              "\n",
              "#sk-container-id-2 div.sk-estimator.fitted input.sk-toggleable__control:checked~label.sk-toggleable__label {\n",
              "  /* fitted */\n",
              "  background-color: var(--sklearn-color-fitted-level-2);\n",
              "}\n",
              "\n",
              "#sk-container-id-2 div.sk-label label.sk-toggleable__label,\n",
              "#sk-container-id-2 div.sk-label label {\n",
              "  /* The background is the default theme color */\n",
              "  color: var(--sklearn-color-text-on-default-background);\n",
              "}\n",
              "\n",
              "/* On hover, darken the color of the background */\n",
              "#sk-container-id-2 div.sk-label:hover label.sk-toggleable__label {\n",
              "  color: var(--sklearn-color-text);\n",
              "  background-color: var(--sklearn-color-unfitted-level-2);\n",
              "}\n",
              "\n",
              "/* Label box, darken color on hover, fitted */\n",
              "#sk-container-id-2 div.sk-label.fitted:hover label.sk-toggleable__label.fitted {\n",
              "  color: var(--sklearn-color-text);\n",
              "  background-color: var(--sklearn-color-fitted-level-2);\n",
              "}\n",
              "\n",
              "/* Estimator label */\n",
              "\n",
              "#sk-container-id-2 div.sk-label label {\n",
              "  font-family: monospace;\n",
              "  font-weight: bold;\n",
              "  display: inline-block;\n",
              "  line-height: 1.2em;\n",
              "}\n",
              "\n",
              "#sk-container-id-2 div.sk-label-container {\n",
              "  text-align: center;\n",
              "}\n",
              "\n",
              "/* Estimator-specific */\n",
              "#sk-container-id-2 div.sk-estimator {\n",
              "  font-family: monospace;\n",
              "  border: 1px dotted var(--sklearn-color-border-box);\n",
              "  border-radius: 0.25em;\n",
              "  box-sizing: border-box;\n",
              "  margin-bottom: 0.5em;\n",
              "  /* unfitted */\n",
              "  background-color: var(--sklearn-color-unfitted-level-0);\n",
              "}\n",
              "\n",
              "#sk-container-id-2 div.sk-estimator.fitted {\n",
              "  /* fitted */\n",
              "  background-color: var(--sklearn-color-fitted-level-0);\n",
              "}\n",
              "\n",
              "/* on hover */\n",
              "#sk-container-id-2 div.sk-estimator:hover {\n",
              "  /* unfitted */\n",
              "  background-color: var(--sklearn-color-unfitted-level-2);\n",
              "}\n",
              "\n",
              "#sk-container-id-2 div.sk-estimator.fitted:hover {\n",
              "  /* fitted */\n",
              "  background-color: var(--sklearn-color-fitted-level-2);\n",
              "}\n",
              "\n",
              "/* Specification for estimator info (e.g. \"i\" and \"?\") */\n",
              "\n",
              "/* Common style for \"i\" and \"?\" */\n",
              "\n",
              ".sk-estimator-doc-link,\n",
              "a:link.sk-estimator-doc-link,\n",
              "a:visited.sk-estimator-doc-link {\n",
              "  float: right;\n",
              "  font-size: smaller;\n",
              "  line-height: 1em;\n",
              "  font-family: monospace;\n",
              "  background-color: var(--sklearn-color-background);\n",
              "  border-radius: 1em;\n",
              "  height: 1em;\n",
              "  width: 1em;\n",
              "  text-decoration: none !important;\n",
              "  margin-left: 0.5em;\n",
              "  text-align: center;\n",
              "  /* unfitted */\n",
              "  border: var(--sklearn-color-unfitted-level-1) 1pt solid;\n",
              "  color: var(--sklearn-color-unfitted-level-1);\n",
              "}\n",
              "\n",
              ".sk-estimator-doc-link.fitted,\n",
              "a:link.sk-estimator-doc-link.fitted,\n",
              "a:visited.sk-estimator-doc-link.fitted {\n",
              "  /* fitted */\n",
              "  border: var(--sklearn-color-fitted-level-1) 1pt solid;\n",
              "  color: var(--sklearn-color-fitted-level-1);\n",
              "}\n",
              "\n",
              "/* On hover */\n",
              "div.sk-estimator:hover .sk-estimator-doc-link:hover,\n",
              ".sk-estimator-doc-link:hover,\n",
              "div.sk-label-container:hover .sk-estimator-doc-link:hover,\n",
              ".sk-estimator-doc-link:hover {\n",
              "  /* unfitted */\n",
              "  background-color: var(--sklearn-color-unfitted-level-3);\n",
              "  color: var(--sklearn-color-background);\n",
              "  text-decoration: none;\n",
              "}\n",
              "\n",
              "div.sk-estimator.fitted:hover .sk-estimator-doc-link.fitted:hover,\n",
              ".sk-estimator-doc-link.fitted:hover,\n",
              "div.sk-label-container:hover .sk-estimator-doc-link.fitted:hover,\n",
              ".sk-estimator-doc-link.fitted:hover {\n",
              "  /* fitted */\n",
              "  background-color: var(--sklearn-color-fitted-level-3);\n",
              "  color: var(--sklearn-color-background);\n",
              "  text-decoration: none;\n",
              "}\n",
              "\n",
              "/* Span, style for the box shown on hovering the info icon */\n",
              ".sk-estimator-doc-link span {\n",
              "  display: none;\n",
              "  z-index: 9999;\n",
              "  position: relative;\n",
              "  font-weight: normal;\n",
              "  right: .2ex;\n",
              "  padding: .5ex;\n",
              "  margin: .5ex;\n",
              "  width: min-content;\n",
              "  min-width: 20ex;\n",
              "  max-width: 50ex;\n",
              "  color: var(--sklearn-color-text);\n",
              "  box-shadow: 2pt 2pt 4pt #999;\n",
              "  /* unfitted */\n",
              "  background: var(--sklearn-color-unfitted-level-0);\n",
              "  border: .5pt solid var(--sklearn-color-unfitted-level-3);\n",
              "}\n",
              "\n",
              ".sk-estimator-doc-link.fitted span {\n",
              "  /* fitted */\n",
              "  background: var(--sklearn-color-fitted-level-0);\n",
              "  border: var(--sklearn-color-fitted-level-3);\n",
              "}\n",
              "\n",
              ".sk-estimator-doc-link:hover span {\n",
              "  display: block;\n",
              "}\n",
              "\n",
              "/* \"?\"-specific style due to the `<a>` HTML tag */\n",
              "\n",
              "#sk-container-id-2 a.estimator_doc_link {\n",
              "  float: right;\n",
              "  font-size: 1rem;\n",
              "  line-height: 1em;\n",
              "  font-family: monospace;\n",
              "  background-color: var(--sklearn-color-background);\n",
              "  border-radius: 1rem;\n",
              "  height: 1rem;\n",
              "  width: 1rem;\n",
              "  text-decoration: none;\n",
              "  /* unfitted */\n",
              "  color: var(--sklearn-color-unfitted-level-1);\n",
              "  border: var(--sklearn-color-unfitted-level-1) 1pt solid;\n",
              "}\n",
              "\n",
              "#sk-container-id-2 a.estimator_doc_link.fitted {\n",
              "  /* fitted */\n",
              "  border: var(--sklearn-color-fitted-level-1) 1pt solid;\n",
              "  color: var(--sklearn-color-fitted-level-1);\n",
              "}\n",
              "\n",
              "/* On hover */\n",
              "#sk-container-id-2 a.estimator_doc_link:hover {\n",
              "  /* unfitted */\n",
              "  background-color: var(--sklearn-color-unfitted-level-3);\n",
              "  color: var(--sklearn-color-background);\n",
              "  text-decoration: none;\n",
              "}\n",
              "\n",
              "#sk-container-id-2 a.estimator_doc_link.fitted:hover {\n",
              "  /* fitted */\n",
              "  background-color: var(--sklearn-color-fitted-level-3);\n",
              "}\n",
              "</style><div id=\"sk-container-id-2\" class=\"sk-top-container\"><div class=\"sk-text-repr-fallback\"><pre>RandomForestClassifier(criterion=&#x27;entropy&#x27;, max_depth=5, min_samples_split=5,\n",
              "                       n_estimators=150)</pre><b>In a Jupyter environment, please rerun this cell to show the HTML representation or trust the notebook. <br />On GitHub, the HTML representation is unable to render, please try loading this page with nbviewer.org.</b></div><div class=\"sk-container\" hidden><div class=\"sk-item\"><div class=\"sk-estimator fitted sk-toggleable\"><input class=\"sk-toggleable__control sk-hidden--visually\" id=\"sk-estimator-id-2\" type=\"checkbox\" checked><label for=\"sk-estimator-id-2\" class=\"sk-toggleable__label fitted sk-toggleable__label-arrow\"><div><div>RandomForestClassifier</div></div><div><a class=\"sk-estimator-doc-link fitted\" rel=\"noreferrer\" target=\"_blank\" href=\"https://scikit-learn.org/1.6/modules/generated/sklearn.ensemble.RandomForestClassifier.html\">?<span>Documentation for RandomForestClassifier</span></a><span class=\"sk-estimator-doc-link fitted\">i<span>Fitted</span></span></div></label><div class=\"sk-toggleable__content fitted\"><pre>RandomForestClassifier(criterion=&#x27;entropy&#x27;, max_depth=5, min_samples_split=5,\n",
              "                       n_estimators=150)</pre></div> </div></div></div></div>"
            ],
            "text/plain": [
              "RandomForestClassifier(criterion='entropy', max_depth=5, min_samples_split=5,\n",
              "                       n_estimators=150)"
            ]
          },
          "execution_count": 50,
          "metadata": {},
          "output_type": "execute_result"
        }
      ],
      "source": [
        "# Train the model on the undersampled training data using the best parameters\n",
        "best_model = RandomForestClassifier(**best_params)\n",
        "best_model.fit(X_train_undersampled, y_train_undersampled)"
      ]
    },
    {
      "cell_type": "code",
      "execution_count": null,
      "metadata": {
        "id": "y9r4Q7hSeY3K"
      },
      "outputs": [],
      "source": [
        "def find_best_threshold(y_true, y_proba):\n",
        "    thresholds = [i / 100 for i in range(1, 100)]  # Thresholds from 0.01 to 0.99\n",
        "    best_threshold = 0.5\n",
        "    best_balanced_accuracy = 0\n",
        "\n",
        "    for threshold in thresholds:\n",
        "        y_pred = (y_proba >= threshold).astype(float)\n",
        "        balanced_acc = balanced_accuracy_score(y_true, y_pred)\n",
        "\n",
        "        if balanced_acc > best_balanced_accuracy:\n",
        "            best_balanced_accuracy = balanced_acc\n",
        "            best_threshold = threshold\n",
        "\n",
        "    return best_threshold, best_balanced_accuracy"
      ]
    },
    {
      "cell_type": "code",
      "execution_count": null,
      "metadata": {
        "colab": {
          "base_uri": "https://localhost:8080/"
        },
        "id": "XVf7qIMAGv0m",
        "outputId": "a6f6a6bf-37da-4b81-e098-f5241c55b34c"
      },
      "outputs": [
        {
          "name": "stdout",
          "output_type": "stream",
          "text": [
            "Balanced Accuracy on the test set: 77.88%\n",
            "ROC AUC on the test set: 0.8524\n",
            "F1 Score on the test set: 0.0702\n",
            "TPR at FPR = 5%: 0.4234\n"
          ]
        }
      ],
      "source": [
        "# Evaluate on validation set\n",
        "y_pred_validation = best_model.predict(X_valid)\n",
        "y_proba_validation = best_model.predict_proba(X_valid)\n",
        "\n",
        "# Find best classification threshold for Balanced Accuracy\n",
        "best_threshold, best_balanced_accuracy = find_best_threshold(y_valid, y_proba_validation[:, 1])\n",
        "y_pred_val = (y_proba_validation[:, 1] >= best_threshold).astype(int)\n",
        "\n",
        "# Compute Balanced Accuracy\n",
        "balanced_acc = balanced_accuracy_score(y_valid, y_pred_val)\n",
        "print(f'Balanced Accuracy on the test set: {balanced_acc:.2%}')\n",
        "\n",
        "# Calculate ROC AUC\n",
        "roc_auc = roc_auc_score(y_valid, y_proba_validation[:, 1])\n",
        "print(f'ROC AUC on the test set: {roc_auc:.4f}')\n",
        "\n",
        "# Calculate F1 Score\n",
        "f1 = f1_score(y_valid, y_pred_val)\n",
        "print(f'F1 Score on the test set: {f1:.4f}')\n",
        "\n",
        "fpr, tpr, thresholds = roc_curve(y_valid, y_proba_validation[:, 1])\n",
        "\n",
        "# Find the threshold corresponding to FPR = 5% (0.05)\n",
        "fpr_target = 0.05\n",
        "threshold_at_fpr_5 = thresholds[np.where(fpr >= fpr_target)[0][0]]\n",
        "\n",
        "# Calculate TPR at that threshold\n",
        "tpr_at_fpr_5 = tpr[np.where(fpr >= fpr_target)[0][0]]\n",
        "\n",
        "print(f'TPR at FPR = 5%: {tpr_at_fpr_5:.4f}')"
      ]
    },
    {
      "cell_type": "markdown",
      "metadata": {
        "id": "WUyYo1NrBo89"
      },
      "source": [
        "## 4:1 undersampling"
      ]
    },
    {
      "cell_type": "code",
      "execution_count": null,
      "metadata": {
        "id": "4eGxpBwGKXsG"
      },
      "outputs": [],
      "source": [
        "from sklearn.ensemble import RandomForestClassifier\n",
        "from sklearn.model_selection import RandomizedSearchCV\n",
        "from sklearn.model_selection import GridSearchCV, train_test_split\n",
        "from sklearn.metrics import make_scorer, f1_score, balanced_accuracy_score, classification_report,roc_curve, roc_auc_score, balanced_accuracy_score\n",
        "\n",
        "# Define the model and train\n",
        "model = RandomForestClassifier(random_state=150)\n",
        "model.fit(X_train_undersampled, y_train_undersampled)\n",
        "\n",
        "# Evaluate on validation set\n",
        "y_pred_validation = model.predict(X_valid)\n",
        "\n",
        "y_proba_validation = model.predict_proba(X_valid)\n",
        "\n",
        "# Compute Balanced Accuracy\n",
        "balanced_acc = balanced_accuracy_score(y_valid, y_pred_validation)\n",
        "print(f'Balanced Accuracy on the test set: {balanced_acc:.2%}')\n",
        "\n",
        "# Calculate ROC AUC\n",
        "roc_auc = roc_auc_score(y_valid, y_proba_validation[:, 1])\n",
        "print(f'ROC AUC on the test set: {roc_auc:.4f}')\n",
        "\n",
        "# Calculate F1 Score\n",
        "f1 = f1_score(y_valid, y_pred_validation)\n",
        "print(f'F1 Score on the test set: {f1:.4f}')\n",
        "\n",
        "fpr, tpr, thresholds = roc_curve(y_valid, y_proba_validation[:, 1])\n",
        "\n",
        "# Find the threshold corresponding to FPR = 5% (0.05)\n",
        "fpr_target = 0.05\n",
        "threshold_at_fpr_5 = thresholds[np.where(fpr >= fpr_target)[0][0]]\n",
        "\n",
        "# Calculate TPR at that threshold\n",
        "tpr_at_fpr_5 = tpr[np.where(fpr >= fpr_target)[0][0]]\n",
        "\n",
        "print(f'TPR at FPR = 5%: {tpr_at_fpr_5:.4f}')\n"
      ]
    },
    {
      "cell_type": "markdown",
      "metadata": {
        "id": "zEZLPTVeBtlF"
      },
      "source": [
        "## 2:1 undersampling"
      ]
    },
    {
      "cell_type": "code",
      "execution_count": null,
      "metadata": {
        "id": "aRd1aFw5KZit"
      },
      "outputs": [],
      "source": [
        "from sklearn.ensemble import RandomForestClassifier\n",
        "from sklearn.model_selection import RandomizedSearchCV\n",
        "from sklearn.model_selection import GridSearchCV, train_test_split\n",
        "from sklearn.metrics import make_scorer, f1_score, balanced_accuracy_score, classification_report,roc_curve, roc_auc_score, balanced_accuracy_score\n",
        "\n",
        "# Define the model and train\n",
        "model = RandomForestClassifier(random_state=150)\n",
        "model.fit(X_train_undersampled, y_train_undersampled)\n",
        "\n",
        "# Evaluate on validation set\n",
        "y_pred_validation = model.predict(X_valid)\n",
        "\n",
        "y_proba_validation = model.predict_proba(X_valid)\n",
        "\n",
        "# Compute Balanced Accuracy\n",
        "balanced_acc = balanced_accuracy_score(y_valid, y_pred_validation)\n",
        "print(f'Balanced Accuracy on the test set: {balanced_acc:.2%}')\n",
        "\n",
        "# Calculate ROC AUC\n",
        "roc_auc = roc_auc_score(y_valid, y_pred_validation)\n",
        "print(f'ROC AUC on the test set: {roc_auc:.4f}')\n",
        "\n",
        "# Calculate F1 Score\n",
        "f1 = f1_score(y_valid, y_pred_validation)\n",
        "print(f'F1 Score on the test set: {f1:.4f}')\n",
        "\n",
        "# Compute ROC curve 2:1\n",
        "fpr, tpr, thresholds = roc_curve(y_valid, y_pred_validation)\n",
        "\n",
        "# Find the threshold corresponding to FPR = 5% (0.05)\n",
        "fpr_target = 0.05\n",
        "threshold_at_fpr_5 = thresholds[np.where(fpr >= fpr_target)[0][0]]\n",
        "\n",
        "# Calculate TPR at that threshold\n",
        "tpr_at_fpr_5 = tpr[np.where(fpr >= fpr_target)[0][0]]\n",
        "\n",
        "print(f'TPR at FPR = 5%: {tpr_at_fpr_5:.4f}')"
      ]
    },
    {
      "cell_type": "markdown",
      "metadata": {
        "id": "uouvYP8sNO00"
      },
      "source": [
        "## 1:1 undersampling"
      ]
    },
    {
      "cell_type": "code",
      "execution_count": null,
      "metadata": {
        "colab": {
          "base_uri": "https://localhost:8080/"
        },
        "id": "8pwEC41yNVLV",
        "outputId": "1100226d-33f3-4013-bec8-2c95d9e389c2"
      },
      "outputs": [
        {
          "name": "stdout",
          "output_type": "stream",
          "text": [
            "Best Threshold: 0.51\n",
            "Balanced Accuracy on the test set: 79.46%\n",
            "ROC AUC on the test set: 0.8673\n",
            "F1 Score on the test set: 0.0804\n",
            "TPR at FPR = 5%: 0.7879\n"
          ]
        }
      ],
      "source": [
        "# Define the model and train\n",
        "model_final = RandomForestClassifier(random_state=150)\n",
        "model_final.fit(X_train_undersampled, y_train_undersampled)\n",
        "\n",
        "# Evaluate on validation set\n",
        "y_pred_validation = model_final.predict(X_valid)\n",
        "y_proba_validation = model_final.predict_proba(X_valid)\n",
        "\n",
        "# Find best classification threshold for Balanced Accuracy\n",
        "best_threshold, best_balanced_accuracy = find_best_threshold(y_valid, y_proba_validation[:, 1])\n",
        "y_pred_val = (y_proba_validation[:, 1] >= best_threshold).astype(int)\n",
        "\n",
        "print(f\"Best Threshold: {best_threshold}\")\n",
        "\n",
        "# Evaluation Metrics ***************************\n",
        "\n",
        "# Compute Balanced Accuracy\n",
        "balanced_acc = balanced_accuracy_score(y_valid, y_pred_val)\n",
        "print(f'Balanced Accuracy on the test set: {balanced_acc:.2%}')\n",
        "\n",
        "# Calculate ROC AUC\n",
        "roc_auc = roc_auc_score(y_valid, y_proba_validation[:, 1])\n",
        "print(f'ROC AUC on the test set: {roc_auc:.4f}')\n",
        "\n",
        "# Calculate F1 Score\n",
        "f1 = f1_score(y_valid, y_pred_val)\n",
        "print(f'F1 Score on the test set: {f1:.4f}')\n",
        "\n",
        "# Compute ROC curve 1:1\n",
        "fpr, tpr, thresholds = roc_curve(y_valid, y_pred_val)\n",
        "\n",
        "# Find the threshold corresponding to FPR = 5% (0.05)\n",
        "fpr_target = 0.05\n",
        "threshold_at_fpr_5 = thresholds[np.where(fpr >= fpr_target)[0][0]]\n",
        "\n",
        "# Calculate TPR at that threshold\n",
        "tpr_at_fpr_5 = tpr[np.where(fpr >= fpr_target)[0][0]]\n",
        "\n",
        "print(f'TPR at FPR = 5%: {tpr_at_fpr_5:.4f}')"
      ]
    },
    {
      "cell_type": "code",
      "execution_count": null,
      "metadata": {
        "colab": {
          "base_uri": "https://localhost:8080/"
        },
        "id": "iXH9wdubmGbC",
        "outputId": "9e7115d2-e3e5-49ad-99a1-ed9bf493d470"
      },
      "outputs": [
        {
          "name": "stdout",
          "output_type": "stream",
          "text": [
            "Balanced Accuracy on the test set: 78.83%\n",
            "ROC AUC on the test set: 0.8638\n",
            "F1 Score on the test set: 0.0791\n",
            "TPR at FPR = 5%: 0.7756\n"
          ]
        }
      ],
      "source": [
        "# Evaluate on Test Set\n",
        "y_pred_temp = model_final.predict(X_test)\n",
        "y_proba = model_final.predict_proba(X_test)\n",
        "y_pred = (y_proba[:, 1] >= best_threshold).astype(int) # using the best classification threshold found during validation\n",
        "\n",
        "# Compute Balanced Accuracy\n",
        "balanced_acc = balanced_accuracy_score(y_test, y_pred)\n",
        "print(f'Balanced Accuracy on the test set: {balanced_acc:.2%}')\n",
        "\n",
        "# Calculate ROC AUC\n",
        "roc_auc = roc_auc_score(y_test, y_proba[:, 1])\n",
        "print(f'ROC AUC on the test set: {roc_auc:.4f}')\n",
        "\n",
        "# Calculate F1 Score\n",
        "f1 = f1_score(y_test, y_pred)\n",
        "print(f'F1 Score on the test set: {f1:.4f}')\n",
        "\n",
        "# Compute ROC curve 2:1\n",
        "fpr, tpr, thresholds = roc_curve(y_test, y_pred)\n",
        "\n",
        "# Find the threshold corresponding to FPR = 5% (0.05)\n",
        "fpr_target = 0.05\n",
        "threshold_at_fpr_5 = thresholds[np.where(fpr >= fpr_target)[0][0]]\n",
        "\n",
        "# Calculate TPR at that threshold\n",
        "tpr_at_fpr_5 = tpr[np.where(fpr >= fpr_target)[0][0]]\n",
        "\n",
        "print(f'TPR at FPR = 5%: {tpr_at_fpr_5:.4f}')"
      ]
    },
    {
      "cell_type": "code",
      "execution_count": null,
      "metadata": {
        "id": "vpgO4GCTppAG"
      },
      "outputs": [],
      "source": [
        "probs_calib = model_final.predict_proba(X_calib)[:, 1]  # Probabilities of fraud\n",
        "conformal_scores = np.abs(y_calib - probs_calib)"
      ]
    },
    {
      "cell_type": "code",
      "execution_count": null,
      "metadata": {
        "colab": {
          "base_uri": "https://localhost:8080/"
        },
        "id": "KFhCShyOuc3Q",
        "outputId": "ed4d5db5-0070-40bb-fb7d-c2c1dc2394c9"
      },
      "outputs": [
        {
          "name": "stdout",
          "output_type": "stream",
          "text": [
            "Conformal threshold (q̂): 0.64\n"
          ]
        }
      ],
      "source": [
        "alpha = 0.1\n",
        "threshold = np.quantile(conformal_scores, 1 - alpha)\n",
        "print(\"Conformal threshold (q̂):\", threshold)"
      ]
    },
    {
      "cell_type": "code",
      "execution_count": null,
      "metadata": {
        "colab": {
          "background_save": true,
          "base_uri": "https://localhost:8080/"
        },
        "id": "JvY-6C5eudei",
        "outputId": "8c574661-e205-4947-a110-bd52e995d32a"
      },
      "outputs": [
        {
          "name": "stdout",
          "output_type": "stream",
          "text": [
            "{'1', '0'}\n"
          ]
        }
      ],
      "source": [
        "probs_test = model_final.predict_proba(X_test)\n",
        "\n",
        "conformal_sets = []\n",
        "for prob in probs_test:\n",
        "    set_ = []\n",
        "    if abs(0 - prob[0]) <= threshold:\n",
        "        set_.append(\"0\")\n",
        "    if abs(1 - prob[1]) <= threshold:\n",
        "        set_.append(\"1\")\n",
        "    conformal_sets.append(set_)\n",
        "\n",
        "#Check for unique types\n",
        "unique_types = set()\n",
        "for types in conformal_sets:\n",
        "    unique_types.update(types)\n",
        "print(unique_types)\n",
        "\n"
      ]
    },
    {
      "cell_type": "code",
      "execution_count": null,
      "metadata": {
        "id": "xeQlI_Nnugkn"
      },
      "outputs": [],
      "source": []
    },
    {
      "cell_type": "code",
      "execution_count": null,
      "metadata": {
        "colab": {
          "base_uri": "https://localhost:8080/"
        },
        "id": "8UHsOcWkX7Ds",
        "outputId": "59856531-2f88-44f7-9d6b-c414ab1c2224"
      },
      "outputs": [
        {
          "name": "stdout",
          "output_type": "stream",
          "text": [
            "╒══════════════════════════════╤══════════════════════╕\n",
            "│ Feature                      │   Feature Importance │\n",
            "╞══════════════════════════════╪══════════════════════╡\n",
            "│ housing_status               │                0.11  │\n",
            "├──────────────────────────────┼──────────────────────┤\n",
            "│ current_address_months_count │                0.069 │\n",
            "├──────────────────────────────┼──────────────────────┤\n",
            "│ name_email_similarity        │                0.067 │\n",
            "├──────────────────────────────┼──────────────────────┤\n",
            "│ credit_risk_score            │                0.067 │\n",
            "├──────────────────────────────┼──────────────────────┤\n",
            "│ intended_balcon_amount       │                0.05  │\n",
            "├──────────────────────────────┼──────────────────────┤\n",
            "│ days_since_request           │                0.043 │\n",
            "├──────────────────────────────┼──────────────────────┤\n",
            "│ velocity_4w                  │                0.042 │\n",
            "├──────────────────────────────┼──────────────────────┤\n",
            "│ velocity_6h                  │                0.042 │\n",
            "├──────────────────────────────┼──────────────────────┤\n",
            "│ zip_count_4w                 │                0.041 │\n",
            "├──────────────────────────────┼──────────────────────┤\n",
            "│ session_length_in_minutes    │                0.041 │\n",
            "╘══════════════════════════════╧══════════════════════╛\n"
          ]
        }
      ],
      "source": [
        "import matplotlib.pyplot as plt\n",
        "from tabulate import tabulate\n",
        "\n",
        "feature_importances = model_final.feature_importances_\n",
        "\n",
        "# Create feature importance table\n",
        "rf_feature_importance = pd.DataFrame({'Feature': df.columns[1:],'Feature Importance': feature_importances}).round(3)\n",
        "\n",
        "# Sort by feature importance in descending order\n",
        "feature_importance_df = rf_feature_importance.sort_values(by='Feature Importance', ascending=False).head(10)\n",
        "print(tabulate(feature_importance_df, headers='keys', tablefmt='fancy_grid', showindex = False))\n",
        "\n"
      ]
    },
    {
      "cell_type": "code",
      "execution_count": null,
      "metadata": {
        "colab": {
          "base_uri": "https://localhost:8080/",
          "height": 859
        },
        "id": "n3f6vOfthfHB",
        "outputId": "898ba0ad-ad98-4f32-ac65-736a5309650f"
      },
      "outputs": [
        {
          "name": "stderr",
          "output_type": "stream",
          "text": [
            "/usr/local/lib/python3.11/dist-packages/sklearn/metrics/_classification.py:2524: UserWarning: y_pred contains classes not in y_true\n",
            "  warnings.warn(\"y_pred contains classes not in y_true\")\n",
            "/usr/local/lib/python3.11/dist-packages/sklearn/metrics/_ranking.py:379: UndefinedMetricWarning: Only one class is present in y_true. ROC AUC score is not defined in that case.\n",
            "  warnings.warn(\n",
            "/usr/local/lib/python3.11/dist-packages/sklearn/metrics/_classification.py:2524: UserWarning: y_pred contains classes not in y_true\n",
            "  warnings.warn(\"y_pred contains classes not in y_true\")\n",
            "/usr/local/lib/python3.11/dist-packages/sklearn/metrics/_ranking.py:379: UndefinedMetricWarning: Only one class is present in y_true. ROC AUC score is not defined in that case.\n",
            "  warnings.warn(\n"
          ]
        },
        {
          "name": "stdout",
          "output_type": "stream",
          "text": [
            "                balanced accuracy   ROC AUC  F1 Score\n",
            "housing_status                                       \n",
            "0.000000                 0.628413  0.628413  0.093194\n",
            "0.166667                 0.724332  0.724332  0.051789\n",
            "0.333333                 0.713628  0.713628  0.065880\n",
            "0.500000                 0.701764  0.701764  0.047919\n",
            "0.666667                 0.624328  0.624328  0.040349\n",
            "0.833333                 0.942529       NaN  0.000000\n",
            "1.000000                 0.914894       NaN  0.000000\n",
            "Equal Opportunity Difference (TPR diff): 0.9628\n",
            "Demographic Parity Difference: 0.6647\n",
            "Equalized Odds Difference: 0.9628\n"
          ]
        },
        {
          "data": {
            "image/png": "[encoded data removed]",
            "text/plain": [
              "<Figure size 1200x800 with 9 Axes>"
            ]
          },
          "metadata": {},
          "output_type": "display_data"
        }
      ],
      "source": [
        "#Fairlearn of Random Forest\n",
        "metrics = {\n",
        "    \"balanced accuracy\": balanced_accuracy_score,\n",
        "    \"ROC AUC\": roc_auc_score,\n",
        "    \"F1 Score\": f1_score\n",
        "}\n",
        "sensitive_feature = X_test[\"housing_status\"]\n",
        "\n",
        "mf = MetricFrame(metrics = metrics, y_true = y_test, y_pred = y_pred, sensitive_features = sensitive_feature)\n",
        "print(mf.by_group)\n",
        "mf.by_group.plot.bar(\n",
        "    subplots=True,\n",
        "    layout=[3, 3],\n",
        "    legend=False,\n",
        "    figsize=[12, 8],\n",
        "    title=\"Show all metrics\"\n",
        ")\n",
        "\n",
        "tpr_diff = true_positive_rate_difference(\n",
        "    y_true=y_test,\n",
        "    y_pred=y_pred,\n",
        "    sensitive_features=sensitive_feature\n",
        ")\n",
        "print(f\"Equal Opportunity Difference (TPR diff): {tpr_diff:.4f}\")\n",
        "\n",
        "dp_diff = demographic_parity_difference(y_true=y_test, y_pred=y_pred, sensitive_features=sensitive_feature)\n",
        "print(f\"Demographic Parity Difference: {dp_diff:.4f}\")\n",
        "\n",
        "eodds_diff = equalized_odds_difference(y_true=y_test, y_pred=y_pred, sensitive_features=sensitive_feature)\n",
        "print(f\"Equalized Odds Difference: {eodds_diff:.4f}\")"
      ]
    },
    {
      "cell_type": "code",
      "execution_count": null,
      "metadata": {
        "colab": {
          "base_uri": "https://localhost:8080/",
          "height": 616
        },
        "id": "tRfhlpeAh-wI",
        "outputId": "8a6510b7-4a4c-44b6-86d1-fce83fe3ea3c"
      },
      "outputs": [
        {
          "name": "stdout",
          "output_type": "stream",
          "text": [
            "              balanced accuracy   ROC AUC  F1 Score\n",
            "customer_age                                       \n",
            "0.000                  0.664301  0.664301  0.039062\n",
            "0.125                  0.702562  0.702562  0.055400\n",
            "0.250                  0.760437  0.760437  0.066946\n",
            "0.375                  0.771306  0.771306  0.070827\n",
            "0.500                  0.758892  0.758892  0.090347\n",
            "0.625                  0.713361  0.713361  0.116033\n",
            "0.750                  0.719488  0.719488  0.135402\n",
            "0.875                  0.709533  0.709533  0.161491\n",
            "1.000                  0.727273  0.727273  0.250000\n",
            "Equal Opportunity Difference (TPR diff): 0.6154\n",
            "Demographic Parity Difference: 0.5263\n",
            "Equalized Odds Difference: 0.6154\n"
          ]
        },
        {
          "data": {
            "image/png": "[encoded data removed]",
            "text/plain": [
              "<Figure size 1200x800 with 9 Axes>"
            ]
          },
          "metadata": {},
          "output_type": "display_data"
        }
      ],
      "source": [
        "metrics = {\n",
        "    \"balanced accuracy\": balanced_accuracy_score,\n",
        "    \"ROC AUC\": roc_auc_score,\n",
        "    \"F1 Score\": f1_score\n",
        "}\n",
        "sensitive_feature = X_test[\"customer_age\"]\n",
        "\n",
        "mf = MetricFrame(metrics = metrics, y_true = y_test, y_pred = y_pred, sensitive_features = sensitive_feature)\n",
        "print(mf.by_group)\n",
        "mf.by_group.plot.bar(\n",
        "    subplots=True,\n",
        "    layout=[3, 3],\n",
        "    legend=False,\n",
        "    figsize=[12, 8],\n",
        "    title=\"Show all metrics\"\n",
        ")\n",
        "\n",
        "tpr_diff = true_positive_rate_difference(\n",
        "    y_true=y_test,\n",
        "    y_pred=y_pred,\n",
        "    sensitive_features=sensitive_feature\n",
        ")\n",
        "print(f\"Equal Opportunity Difference (TPR diff): {tpr_diff:.4f}\")\n",
        "\n",
        "dp_diff = demographic_parity_difference(y_true=y_test, y_pred=y_pred, sensitive_features=sensitive_feature)\n",
        "print(f\"Demographic Parity Difference: {dp_diff:.4f}\")\n",
        "\n",
        "eodds_diff = equalized_odds_difference(y_true=y_test, y_pred=y_pred, sensitive_features=sensitive_feature)\n",
        "print(f\"Equalized Odds Difference: {eodds_diff:.4f}\")"
      ]
    },
    {
      "cell_type": "markdown",
      "metadata": {
        "id": "YbDC2qAof_8R"
      },
      "source": [
        "# Logistic Regression"
      ]
    },
    {
      "cell_type": "markdown",
      "metadata": {
        "id": "7IXq9z1dgHt9"
      },
      "source": [
        "lg model\n",
        "predict on validation find optimal threshold\n",
        "predic on test data"
      ]
    },
    {
      "cell_type": "code",
      "execution_count": null,
      "metadata": {
        "id": "FmkZNt1igDFt"
      },
      "outputs": [],
      "source": [
        "from sklearn.linear_model import LogisticRegression"
      ]
    },
    {
      "cell_type": "code",
      "execution_count": null,
      "metadata": {
        "colab": {
          "base_uri": "https://localhost:8080/"
        },
        "id": "ptOKfGEehfrW",
        "outputId": "d1bd34e3-05d2-4354-8924-ad95410a4386"
      },
      "outputs": [
        {
          "name": "stdout",
          "output_type": "stream",
          "text": [
            "Best Threshold: 0.52\n",
            "Balanced Accuracy on the test set: 77.43%\n",
            "ROC AUC on the test set: 0.8521\n",
            "F1 Score on the test set: 0.0728\n",
            "TPR at FPR = 5%: 0.7625\n"
          ]
        }
      ],
      "source": [
        "# Fit the model to the undersampled training data 1:1\n",
        "lr_model = LogisticRegression(penalty= \"l2\", solver = \"saga\", random_state=150)\n",
        "lr_model.fit(X_train_undersampled, y_train_undersampled)\n",
        "\n",
        "# Find predicted probalities of validation set\n",
        "y_proba_validation = lr_model.predict_proba(X_valid)\n",
        "\n",
        "# Find best classification threshold for Balanced Accuracy\n",
        "best_threshold, best_balanced_accuracy = find_best_threshold(y_valid, y_proba_validation[:, 1])\n",
        "y_pred_val = (y_proba_validation[:, 1] >= best_threshold).astype(int)\n",
        "\n",
        "print(f\"Best Threshold: {best_threshold}\")\n",
        "\n",
        "# Evaluation Metrics ***************************\n",
        "\n",
        "# Compute Balanced Accuracy\n",
        "balanced_acc = balanced_accuracy_score(y_valid, y_pred_val)\n",
        "print(f'Balanced Accuracy on the test set: {balanced_acc:.2%}')\n",
        "\n",
        "# Calculate ROC AUC\n",
        "roc_auc = roc_auc_score(y_valid, y_proba_validation[:, 1])\n",
        "print(f'ROC AUC on the test set: {roc_auc:.4f}')\n",
        "\n",
        "# Calculate F1 Score\n",
        "f1 = f1_score(y_valid, y_pred_val)\n",
        "print(f'F1 Score on the test set: {f1:.4f}')\n",
        "\n",
        "# Compute ROC curve 1:1\n",
        "fpr, tpr, thresholds = roc_curve(y_valid, y_pred_val)\n",
        "\n",
        "# Find the threshold corresponding to FPR = 5% (0.05)\n",
        "fpr_target = 0.05\n",
        "threshold_at_fpr_5 = thresholds[np.where(fpr >= fpr_target)[0][0]]\n",
        "\n",
        "# Calculate TPR at that threshold\n",
        "tpr_at_fpr_5 = tpr[np.where(fpr >= fpr_target)[0][0]]\n",
        "\n",
        "print(f'TPR at FPR = 5%: {tpr_at_fpr_5:.4f}')"
      ]
    },
    {
      "cell_type": "code",
      "execution_count": null,
      "metadata": {
        "colab": {
          "base_uri": "https://localhost:8080/"
        },
        "id": "1AhI2-67j_Tp",
        "outputId": "5efef3e9-f572-487c-a8d0-4a6339598b43"
      },
      "outputs": [
        {
          "name": "stdout",
          "output_type": "stream",
          "text": [
            "Balanced Accuracy on the test set: 77.35%\n",
            "ROC AUC on the test set: 0.8507\n",
            "F1 Score on the test set: 0.0721\n",
            "TPR at FPR = 5%: 0.7634\n"
          ]
        }
      ],
      "source": [
        "# Evaluate on Test Set\n",
        "y_pred_temp = lr_model.predict(X_test)\n",
        "y_proba = lr_model.predict_proba(X_test)\n",
        "y_pred = (y_proba[:, 1] >= best_threshold).astype(int) # using the best classification threshold found during validation\n",
        "\n",
        "# Compute Balanced Accuracy\n",
        "balanced_acc = balanced_accuracy_score(y_test, y_pred)\n",
        "print(f'Balanced Accuracy on the test set: {balanced_acc:.2%}')\n",
        "\n",
        "# Calculate ROC AUC\n",
        "roc_auc = roc_auc_score(y_test, y_proba[:, 1])\n",
        "print(f'ROC AUC on the test set: {roc_auc:.4f}')\n",
        "\n",
        "# Calculate F1 Score\n",
        "f1 = f1_score(y_test, y_pred)\n",
        "print(f'F1 Score on the test set: {f1:.4f}')\n",
        "\n",
        "# Compute ROC curve 2:1\n",
        "fpr, tpr, thresholds = roc_curve(y_test, y_pred)\n",
        "\n",
        "# Find the threshold corresponding to FPR = 5% (0.05)\n",
        "fpr_target = 0.05\n",
        "threshold_at_fpr_5 = thresholds[np.where(fpr >= fpr_target)[0][0]]\n",
        "\n",
        "# Calculate TPR at that threshold\n",
        "tpr_at_fpr_5 = tpr[np.where(fpr >= fpr_target)[0][0]]\n",
        "\n",
        "print(f'TPR at FPR = 5%: {tpr_at_fpr_5:.4f}')"
      ]
    },
    {
      "cell_type": "code",
      "execution_count": null,
      "metadata": {
        "colab": {
          "base_uri": "https://localhost:8080/"
        },
        "id": "C4oTRkOSbStn",
        "outputId": "9dd297e4-46f7-4118-8cb7-297a4cc51ba8"
      },
      "outputs": [
        {
          "name": "stdout",
          "output_type": "stream",
          "text": [
            "╒══════════════════════════════════╤════════════════════════╕\n",
            "│ Feature                          │   Feature Coefficients │\n",
            "╞══════════════════════════════════╪════════════════════════╡\n",
            "│ device_distinct_emails_8w        │                  2.569 │\n",
            "├──────────────────────────────────┼────────────────────────┤\n",
            "│ prev_address_months_count        │                  2.479 │\n",
            "├──────────────────────────────────┼────────────────────────┤\n",
            "│ housing_status                   │                  2.243 │\n",
            "├──────────────────────────────────┼────────────────────────┤\n",
            "│ customer_age                     │                  1.955 │\n",
            "├──────────────────────────────────┼────────────────────────┤\n",
            "│ credit_risk_score                │                  1.744 │\n",
            "├──────────────────────────────────┼────────────────────────┤\n",
            "│ employment_status                │                  1.448 │\n",
            "├──────────────────────────────────┼────────────────────────┤\n",
            "│ date_of_birth_distinct_emails_4w │                  1.387 │\n",
            "├──────────────────────────────────┼────────────────────────┤\n",
            "│ has_other_cards                  │                  1.294 │\n",
            "├──────────────────────────────────┼────────────────────────┤\n",
            "│ name_email_similarity            │                  1.234 │\n",
            "├──────────────────────────────────┼────────────────────────┤\n",
            "│ phone_home_valid                 │                  0.985 │\n",
            "╘══════════════════════════════════╧════════════════════════╛\n"
          ]
        }
      ],
      "source": [
        "# Get Coeficents\n",
        "lr_features = abs(lr_model.coef_)\n",
        "\n",
        "# Create feature importance table\n",
        "lr_feature_importance = pd.DataFrame({'Feature': df.columns[1:],'Feature Coefficients': lr_features[0]}).round(3)\n",
        "\n",
        "# Sort by feature importance in descending order\n",
        "feature_importance_df = lr_feature_importance.sort_values(by='Feature Coefficients', ascending=False).head(10)\n",
        "print(tabulate(feature_importance_df, headers='keys', tablefmt='fancy_grid', showindex = False))\n"
      ]
    },
    {
      "cell_type": "code",
      "execution_count": null,
      "metadata": {
        "colab": {
          "base_uri": "https://localhost:8080/",
          "height": 859
        },
        "id": "xd-GKP1AlIrG",
        "outputId": "0d4b1c07-8ea8-4a08-bd31-1d3ed7d0a5b1"
      },
      "outputs": [
        {
          "name": "stderr",
          "output_type": "stream",
          "text": [
            "/usr/local/lib/python3.11/dist-packages/sklearn/metrics/_classification.py:2524: UserWarning: y_pred contains classes not in y_true\n",
            "  warnings.warn(\"y_pred contains classes not in y_true\")\n",
            "/usr/local/lib/python3.11/dist-packages/sklearn/metrics/_ranking.py:379: UndefinedMetricWarning: Only one class is present in y_true. ROC AUC score is not defined in that case.\n",
            "  warnings.warn(\n",
            "/usr/local/lib/python3.11/dist-packages/sklearn/metrics/_classification.py:2524: UserWarning: y_pred contains classes not in y_true\n",
            "  warnings.warn(\"y_pred contains classes not in y_true\")\n",
            "/usr/local/lib/python3.11/dist-packages/sklearn/metrics/_ranking.py:379: UndefinedMetricWarning: Only one class is present in y_true. ROC AUC score is not defined in that case.\n",
            "  warnings.warn(\n"
          ]
        },
        {
          "name": "stdout",
          "output_type": "stream",
          "text": [
            "                balanced accuracy   ROC AUC  F1 Score\n",
            "housing_status                                       \n",
            "0.000000                 0.665463  0.665463  0.105376\n",
            "0.166667                 0.744408  0.744408  0.037640\n",
            "0.333333                 0.715482  0.715482  0.049574\n",
            "0.500000                 0.683468  0.683468  0.049853\n",
            "0.666667                 0.599170  0.599170  0.052045\n",
            "0.833333                 0.979885       NaN  0.000000\n",
            "1.000000                 0.957447       NaN  0.000000\n",
            "Equal Opportunity Difference (TPR diff): 0.9128\n",
            "Demographic Parity Difference: 0.5738\n",
            "Equalized Odds Difference: 0.9128\n"
          ]
        },
        {
          "data": {
            "image/png": "[encoded data removed]",
            "text/plain": [
              "<Figure size 1200x800 with 9 Axes>"
            ]
          },
          "metadata": {},
          "output_type": "display_data"
        }
      ],
      "source": [
        "#Using Fairlearn for Logistic Regression\n",
        "metrics = {\n",
        "    \"balanced accuracy\": balanced_accuracy_score,\n",
        "    \"ROC AUC\": roc_auc_score,\n",
        "    \"F1 Score\": f1_score\n",
        "}\n",
        "\n",
        "sensitive_feature = X_test[\"housing_status\"]\n",
        "\n",
        "mf = MetricFrame(metrics = metrics, y_true = y_test, y_pred = y_pred, sensitive_features = sensitive_feature)\n",
        "print(mf.by_group)\n",
        "mf.by_group.plot.bar(\n",
        "    subplots=True,\n",
        "    layout=[3, 3],\n",
        "    legend=False,\n",
        "    figsize=[12, 8],\n",
        "    title=\"Show all metrics\"\n",
        ")\n",
        "tpr_diff = true_positive_rate_difference(\n",
        "    y_true=y_test,\n",
        "    y_pred=y_pred,\n",
        "    sensitive_features=sensitive_feature\n",
        ")\n",
        "print(f\"Equal Opportunity Difference (TPR diff): {tpr_diff:.4f}\")\n",
        "\n",
        "dp_diff = demographic_parity_difference(y_true=y_test, y_pred=y_pred, sensitive_features=sensitive_feature)\n",
        "print(f\"Demographic Parity Difference: {dp_diff:.4f}\")\n",
        "\n",
        "eodds_diff = equalized_odds_difference(y_true=y_test, y_pred=y_pred, sensitive_features=sensitive_feature)\n",
        "print(f\"Equalized Odds Difference: {eodds_diff:.4f}\")"
      ]
    },
    {
      "cell_type": "code",
      "execution_count": null,
      "metadata": {
        "colab": {
          "base_uri": "https://localhost:8080/",
          "height": 616
        },
        "id": "u31n1U4Ugt-p",
        "outputId": "ab68e019-c7d4-42d4-afd6-1f03055d15ab"
      },
      "outputs": [
        {
          "name": "stdout",
          "output_type": "stream",
          "text": [
            "              balanced accuracy   ROC AUC  F1 Score\n",
            "customer_age                                       \n",
            "0.000                  0.596674  0.596674  0.034286\n",
            "0.125                  0.686779  0.686779  0.052420\n",
            "0.250                  0.752886  0.752886  0.061777\n",
            "0.375                  0.754473  0.754473  0.062958\n",
            "0.500                  0.736870  0.736870  0.081903\n",
            "0.625                  0.726795  0.726795  0.118106\n",
            "0.750                  0.698743  0.698743  0.127717\n",
            "0.875                  0.669202  0.669202  0.138614\n",
            "1.000                  0.636364  0.636364  0.200000\n",
            "Equal Opportunity Difference (TPR diff): 0.7692\n",
            "Demographic Parity Difference: 0.7120\n",
            "Equalized Odds Difference: 0.7692\n"
          ]
        },
        {
          "data": {
            "image/png": "[encoded data removed]",
            "text/plain": [
              "<Figure size 1200x800 with 9 Axes>"
            ]
          },
          "metadata": {},
          "output_type": "display_data"
        }
      ],
      "source": [
        "sensitive_feature = X_test[\"customer_age\"]\n",
        "\n",
        "mf = MetricFrame(metrics = metrics, y_true = y_test, y_pred = y_pred, sensitive_features = sensitive_feature)\n",
        "print(mf.by_group)\n",
        "mf.by_group.plot.bar(\n",
        "    subplots=True,\n",
        "    layout=[3, 3],\n",
        "    legend=False,\n",
        "    figsize=[12, 8],\n",
        "    title=\"Show all metrics\"\n",
        ")\n",
        "tpr_diff = true_positive_rate_difference(\n",
        "    y_true=y_test,\n",
        "    y_pred=y_pred,\n",
        "    sensitive_features=sensitive_feature\n",
        ")\n",
        "print(f\"Equal Opportunity Difference (TPR diff): {tpr_diff:.4f}\")\n",
        "dp_diff = demographic_parity_difference(y_true=y_test, y_pred=y_pred, sensitive_features=sensitive_feature)\n",
        "print(f\"Demographic Parity Difference: {dp_diff:.4f}\")\n",
        "\n",
        "eodds_diff = equalized_odds_difference(y_true=y_test, y_pred=y_pred, sensitive_features=sensitive_feature)\n",
        "print(f\"Equalized Odds Difference: {eodds_diff:.4f}\")"
      ]
    },
    {
      "cell_type": "markdown",
      "metadata": {
        "id": "s_2gccjUkUtz"
      },
      "source": [
        "# Multi-Layer Perceptron"
      ]
    },
    {
      "cell_type": "code",
      "execution_count": null,
      "metadata": {
        "colab": {
          "base_uri": "https://localhost:8080/",
          "height": 180
        },
        "id": "RYss_GRi_ahj",
        "outputId": "6aa98700-13b7-47e6-c1f3-d5516aab282b"
      },
      "outputs": [
        {
          "ename": "NameError",
          "evalue": "name 'train_test_split' is not defined",
          "output_type": "error",
          "traceback": [
            "\u001b[0;31m---------------------------------------------------------------------------\u001b[0m",
            "\u001b[0;31mNameError\u001b[0m                                 Traceback (most recent call last)",
            "\u001b[0;32m<ipython-input-1-ac1fffb5ba4a>\u001b[0m in \u001b[0;36m<cell line: 0>\u001b[0;34m()\u001b[0m\n\u001b[1;32m      1\u001b[0m \u001b[0;31m# (Unbalnced Calibration)\u001b[0m\u001b[0;34m\u001b[0m\u001b[0;34m\u001b[0m\u001b[0m\n\u001b[0;32m----> 2\u001b[0;31m X_calibrate_base, X_train_remaining_base, y_calibrate_base, y_train_remaining_base = train_test_split(\n\u001b[0m\u001b[1;32m      3\u001b[0m     X_train, y_train, train_size=1000, stratify=y_train, random_state=150)\n",
            "\u001b[0;31mNameError\u001b[0m: name 'train_test_split' is not defined"
          ]
        }
      ],
      "source": [
        "# (Unbalnced Calibration)\n",
        "X_calibrate_base, X_train_remaining_base, y_calibrate_base, y_train_remaining_base = train_test_split(\n",
        "    X_train, y_train, train_size=1000, stratify=y_train, random_state=150)"
      ]
    },
    {
      "cell_type": "code",
      "execution_count": null,
      "metadata": {
        "id": "bw7QHjNSAChS"
      },
      "outputs": [],
      "source": [
        "# Convert base data to PyTorch tensors\n",
        "X_train_base_tensor = torch.tensor(X_train_remaining_base.to_numpy(), dtype=torch.float32)\n",
        "y_train_base_tensor = torch.tensor(y_train_remaining_base.to_numpy(), dtype=torch.float32)\n",
        "\n",
        "X_validate_base_tensor = torch.tensor(X_valid.to_numpy(), dtype=torch.float32)\n",
        "y_validate_base_tensor = torch.tensor(y_valid.to_numpy(), dtype=torch.float32)\n",
        "\n",
        "X_test_base_tensor = torch.tensor(X_test.to_numpy(), dtype=torch.float32)\n",
        "y_test_base_tensor = torch.tensor(y_test.to_numpy(), dtype=torch.float32)"
      ]
    },
    {
      "cell_type": "code",
      "execution_count": null,
      "metadata": {
        "id": "w_Z_PY88kZL9"
      },
      "outputs": [],
      "source": [
        "class MultiLayerPerceptron(nn.Module):\n",
        "\n",
        "  def __init__(self, hidden_size):\n",
        "    super(MultiLayerPerceptron, self).__init__()\n",
        "    self.layers = nn.Sequential(\n",
        "        nn.Linear(28, hidden_size),\n",
        "        nn.ReLU(),\n",
        "        nn.Linear(hidden_size, hidden_size),\n",
        "        nn.ReLU(),\n",
        "        nn.Linear(hidden_size, hidden_size),\n",
        "        nn.ReLU(),\n",
        "        nn.Linear(hidden_size, 1)\n",
        "      )\n",
        "\n",
        "  def forward(self, x):\n",
        "    return self.layers(x)"
      ]
    },
    {
      "cell_type": "code",
      "execution_count": null,
      "metadata": {
        "id": "Lim2NuczAirD"
      },
      "outputs": [],
      "source": [
        "mlp_model = MultiLayerPerceptron(hidden_size = 15)\n",
        "criterion = nn.BCEWithLogitsLoss()\n",
        "opt = optim.Adam(mlp_model.parameters(), lr=0.001)"
      ]
    },
    {
      "cell_type": "code",
      "execution_count": null,
      "metadata": {
        "colab": {
          "base_uri": "https://localhost:8080/",
          "height": 365
        },
        "id": "jVU_HzfVA67Y",
        "outputId": "6bb5849f-807d-437f-f014-03d6bf50971d"
      },
      "outputs": [
        {
          "ename": "RuntimeError",
          "evalue": "mat1 and mat2 shapes cannot be multiplied (699000x29 and 28x15)",
          "output_type": "error",
          "traceback": [
            "\u001b[0;31m---------------------------------------------------------------------------\u001b[0m",
            "\u001b[0;31mRuntimeError\u001b[0m                              Traceback (most recent call last)",
            "\u001b[0;32m<ipython-input-32-735eacb678ef>\u001b[0m in \u001b[0;36m<cell line: 0>\u001b[0;34m()\u001b[0m\n\u001b[1;32m      3\u001b[0m \u001b[0;32mfor\u001b[0m \u001b[0mepoch\u001b[0m \u001b[0;32min\u001b[0m \u001b[0mrange\u001b[0m\u001b[0;34m(\u001b[0m\u001b[0mepochs\u001b[0m\u001b[0;34m)\u001b[0m\u001b[0;34m:\u001b[0m\u001b[0;34m\u001b[0m\u001b[0;34m\u001b[0m\u001b[0m\n\u001b[1;32m      4\u001b[0m   \u001b[0;31m# Forward pass\u001b[0m\u001b[0;34m\u001b[0m\u001b[0;34m\u001b[0m\u001b[0m\n\u001b[0;32m----> 5\u001b[0;31m   \u001b[0moutputs\u001b[0m \u001b[0;34m=\u001b[0m \u001b[0mmlp_model\u001b[0m\u001b[0;34m(\u001b[0m\u001b[0mX_train_base_tensor\u001b[0m\u001b[0;34m)\u001b[0m\u001b[0;34m\u001b[0m\u001b[0;34m\u001b[0m\u001b[0m\n\u001b[0m\u001b[1;32m      6\u001b[0m \u001b[0;34m\u001b[0m\u001b[0m\n\u001b[1;32m      7\u001b[0m   \u001b[0;31m# Compute the loss\u001b[0m\u001b[0;34m\u001b[0m\u001b[0;34m\u001b[0m\u001b[0m\n",
            "\u001b[0;32m/usr/local/lib/python3.11/dist-packages/torch/nn/modules/module.py\u001b[0m in \u001b[0;36m_wrapped_call_impl\u001b[0;34m(self, *args, **kwargs)\u001b[0m\n\u001b[1;32m   1737\u001b[0m             \u001b[0;32mreturn\u001b[0m \u001b[0mself\u001b[0m\u001b[0;34m.\u001b[0m\u001b[0m_compiled_call_impl\u001b[0m\u001b[0;34m(\u001b[0m\u001b[0;34m*\u001b[0m\u001b[0margs\u001b[0m\u001b[0;34m,\u001b[0m \u001b[0;34m**\u001b[0m\u001b[0mkwargs\u001b[0m\u001b[0;34m)\u001b[0m  \u001b[0;31m# type: ignore[misc]\u001b[0m\u001b[0;34m\u001b[0m\u001b[0;34m\u001b[0m\u001b[0m\n\u001b[1;32m   1738\u001b[0m         \u001b[0;32melse\u001b[0m\u001b[0;34m:\u001b[0m\u001b[0;34m\u001b[0m\u001b[0;34m\u001b[0m\u001b[0m\n\u001b[0;32m-> 1739\u001b[0;31m             \u001b[0;32mreturn\u001b[0m \u001b[0mself\u001b[0m\u001b[0;34m.\u001b[0m\u001b[0m_call_impl\u001b[0m\u001b[0;34m(\u001b[0m\u001b[0;34m*\u001b[0m\u001b[0margs\u001b[0m\u001b[0;34m,\u001b[0m \u001b[0;34m**\u001b[0m\u001b[0mkwargs\u001b[0m\u001b[0;34m)\u001b[0m\u001b[0;34m\u001b[0m\u001b[0;34m\u001b[0m\u001b[0m\n\u001b[0m\u001b[1;32m   1740\u001b[0m \u001b[0;34m\u001b[0m\u001b[0m\n\u001b[1;32m   1741\u001b[0m     \u001b[0;31m# torchrec tests the code consistency with the following code\u001b[0m\u001b[0;34m\u001b[0m\u001b[0;34m\u001b[0m\u001b[0m\n",
            "\u001b[0;32m/usr/local/lib/python3.11/dist-packages/torch/nn/modules/module.py\u001b[0m in \u001b[0;36m_call_impl\u001b[0;34m(self, *args, **kwargs)\u001b[0m\n\u001b[1;32m   1748\u001b[0m                 \u001b[0;32mor\u001b[0m \u001b[0m_global_backward_pre_hooks\u001b[0m \u001b[0;32mor\u001b[0m \u001b[0m_global_backward_hooks\u001b[0m\u001b[0;34m\u001b[0m\u001b[0;34m\u001b[0m\u001b[0m\n\u001b[1;32m   1749\u001b[0m                 or _global_forward_hooks or _global_forward_pre_hooks):\n\u001b[0;32m-> 1750\u001b[0;31m             \u001b[0;32mreturn\u001b[0m \u001b[0mforward_call\u001b[0m\u001b[0;34m(\u001b[0m\u001b[0;34m*\u001b[0m\u001b[0margs\u001b[0m\u001b[0;34m,\u001b[0m \u001b[0;34m**\u001b[0m\u001b[0mkwargs\u001b[0m\u001b[0;34m)\u001b[0m\u001b[0;34m\u001b[0m\u001b[0;34m\u001b[0m\u001b[0m\n\u001b[0m\u001b[1;32m   1751\u001b[0m \u001b[0;34m\u001b[0m\u001b[0m\n\u001b[1;32m   1752\u001b[0m         \u001b[0mresult\u001b[0m \u001b[0;34m=\u001b[0m \u001b[0;32mNone\u001b[0m\u001b[0;34m\u001b[0m\u001b[0;34m\u001b[0m\u001b[0m\n",
            "\u001b[0;32m<ipython-input-30-da1973398edc>\u001b[0m in \u001b[0;36mforward\u001b[0;34m(self, x)\u001b[0m\n\u001b[1;32m     14\u001b[0m \u001b[0;34m\u001b[0m\u001b[0m\n\u001b[1;32m     15\u001b[0m   \u001b[0;32mdef\u001b[0m \u001b[0mforward\u001b[0m\u001b[0;34m(\u001b[0m\u001b[0mself\u001b[0m\u001b[0;34m,\u001b[0m \u001b[0mx\u001b[0m\u001b[0;34m)\u001b[0m\u001b[0;34m:\u001b[0m\u001b[0;34m\u001b[0m\u001b[0;34m\u001b[0m\u001b[0m\n\u001b[0;32m---> 16\u001b[0;31m     \u001b[0;32mreturn\u001b[0m \u001b[0mself\u001b[0m\u001b[0;34m.\u001b[0m\u001b[0mlayers\u001b[0m\u001b[0;34m(\u001b[0m\u001b[0mx\u001b[0m\u001b[0;34m)\u001b[0m\u001b[0;34m\u001b[0m\u001b[0;34m\u001b[0m\u001b[0m\n\u001b[0m",
            "\u001b[0;32m/usr/local/lib/python3.11/dist-packages/torch/nn/modules/module.py\u001b[0m in \u001b[0;36m_wrapped_call_impl\u001b[0;34m(self, *args, **kwargs)\u001b[0m\n\u001b[1;32m   1737\u001b[0m             \u001b[0;32mreturn\u001b[0m \u001b[0mself\u001b[0m\u001b[0;34m.\u001b[0m\u001b[0m_compiled_call_impl\u001b[0m\u001b[0;34m(\u001b[0m\u001b[0;34m*\u001b[0m\u001b[0margs\u001b[0m\u001b[0;34m,\u001b[0m \u001b[0;34m**\u001b[0m\u001b[0mkwargs\u001b[0m\u001b[0;34m)\u001b[0m  \u001b[0;31m# type: ignore[misc]\u001b[0m\u001b[0;34m\u001b[0m\u001b[0;34m\u001b[0m\u001b[0m\n\u001b[1;32m   1738\u001b[0m         \u001b[0;32melse\u001b[0m\u001b[0;34m:\u001b[0m\u001b[0;34m\u001b[0m\u001b[0;34m\u001b[0m\u001b[0m\n\u001b[0;32m-> 1739\u001b[0;31m             \u001b[0;32mreturn\u001b[0m \u001b[0mself\u001b[0m\u001b[0;34m.\u001b[0m\u001b[0m_call_impl\u001b[0m\u001b[0;34m(\u001b[0m\u001b[0;34m*\u001b[0m\u001b[0margs\u001b[0m\u001b[0;34m,\u001b[0m \u001b[0;34m**\u001b[0m\u001b[0mkwargs\u001b[0m\u001b[0;34m)\u001b[0m\u001b[0;34m\u001b[0m\u001b[0;34m\u001b[0m\u001b[0m\n\u001b[0m\u001b[1;32m   1740\u001b[0m \u001b[0;34m\u001b[0m\u001b[0m\n\u001b[1;32m   1741\u001b[0m     \u001b[0;31m# torchrec tests the code consistency with the following code\u001b[0m\u001b[0;34m\u001b[0m\u001b[0;34m\u001b[0m\u001b[0m\n",
            "\u001b[0;32m/usr/local/lib/python3.11/dist-packages/torch/nn/modules/module.py\u001b[0m in \u001b[0;36m_call_impl\u001b[0;34m(self, *args, **kwargs)\u001b[0m\n\u001b[1;32m   1748\u001b[0m                 \u001b[0;32mor\u001b[0m \u001b[0m_global_backward_pre_hooks\u001b[0m \u001b[0;32mor\u001b[0m \u001b[0m_global_backward_hooks\u001b[0m\u001b[0;34m\u001b[0m\u001b[0;34m\u001b[0m\u001b[0m\n\u001b[1;32m   1749\u001b[0m                 or _global_forward_hooks or _global_forward_pre_hooks):\n\u001b[0;32m-> 1750\u001b[0;31m             \u001b[0;32mreturn\u001b[0m \u001b[0mforward_call\u001b[0m\u001b[0;34m(\u001b[0m\u001b[0;34m*\u001b[0m\u001b[0margs\u001b[0m\u001b[0;34m,\u001b[0m \u001b[0;34m**\u001b[0m\u001b[0mkwargs\u001b[0m\u001b[0;34m)\u001b[0m\u001b[0;34m\u001b[0m\u001b[0;34m\u001b[0m\u001b[0m\n\u001b[0m\u001b[1;32m   1751\u001b[0m \u001b[0;34m\u001b[0m\u001b[0m\n\u001b[1;32m   1752\u001b[0m         \u001b[0mresult\u001b[0m \u001b[0;34m=\u001b[0m \u001b[0;32mNone\u001b[0m\u001b[0;34m\u001b[0m\u001b[0;34m\u001b[0m\u001b[0m\n",
            "\u001b[0;32m/usr/local/lib/python3.11/dist-packages/torch/nn/modules/container.py\u001b[0m in \u001b[0;36mforward\u001b[0;34m(self, input)\u001b[0m\n\u001b[1;32m    248\u001b[0m     \u001b[0;32mdef\u001b[0m \u001b[0mforward\u001b[0m\u001b[0;34m(\u001b[0m\u001b[0mself\u001b[0m\u001b[0;34m,\u001b[0m \u001b[0minput\u001b[0m\u001b[0;34m)\u001b[0m\u001b[0;34m:\u001b[0m\u001b[0;34m\u001b[0m\u001b[0;34m\u001b[0m\u001b[0m\n\u001b[1;32m    249\u001b[0m         \u001b[0;32mfor\u001b[0m \u001b[0mmodule\u001b[0m \u001b[0;32min\u001b[0m \u001b[0mself\u001b[0m\u001b[0;34m:\u001b[0m\u001b[0;34m\u001b[0m\u001b[0;34m\u001b[0m\u001b[0m\n\u001b[0;32m--> 250\u001b[0;31m             \u001b[0minput\u001b[0m \u001b[0;34m=\u001b[0m \u001b[0mmodule\u001b[0m\u001b[0;34m(\u001b[0m\u001b[0minput\u001b[0m\u001b[0;34m)\u001b[0m\u001b[0;34m\u001b[0m\u001b[0;34m\u001b[0m\u001b[0m\n\u001b[0m\u001b[1;32m    251\u001b[0m         \u001b[0;32mreturn\u001b[0m \u001b[0minput\u001b[0m\u001b[0;34m\u001b[0m\u001b[0;34m\u001b[0m\u001b[0m\n\u001b[1;32m    252\u001b[0m \u001b[0;34m\u001b[0m\u001b[0m\n",
            "\u001b[0;32m/usr/local/lib/python3.11/dist-packages/torch/nn/modules/module.py\u001b[0m in \u001b[0;36m_wrapped_call_impl\u001b[0;34m(self, *args, **kwargs)\u001b[0m\n\u001b[1;32m   1737\u001b[0m             \u001b[0;32mreturn\u001b[0m \u001b[0mself\u001b[0m\u001b[0;34m.\u001b[0m\u001b[0m_compiled_call_impl\u001b[0m\u001b[0;34m(\u001b[0m\u001b[0;34m*\u001b[0m\u001b[0margs\u001b[0m\u001b[0;34m,\u001b[0m \u001b[0;34m**\u001b[0m\u001b[0mkwargs\u001b[0m\u001b[0;34m)\u001b[0m  \u001b[0;31m# type: ignore[misc]\u001b[0m\u001b[0;34m\u001b[0m\u001b[0;34m\u001b[0m\u001b[0m\n\u001b[1;32m   1738\u001b[0m         \u001b[0;32melse\u001b[0m\u001b[0;34m:\u001b[0m\u001b[0;34m\u001b[0m\u001b[0;34m\u001b[0m\u001b[0m\n\u001b[0;32m-> 1739\u001b[0;31m             \u001b[0;32mreturn\u001b[0m \u001b[0mself\u001b[0m\u001b[0;34m.\u001b[0m\u001b[0m_call_impl\u001b[0m\u001b[0;34m(\u001b[0m\u001b[0;34m*\u001b[0m\u001b[0margs\u001b[0m\u001b[0;34m,\u001b[0m \u001b[0;34m**\u001b[0m\u001b[0mkwargs\u001b[0m\u001b[0;34m)\u001b[0m\u001b[0;34m\u001b[0m\u001b[0;34m\u001b[0m\u001b[0m\n\u001b[0m\u001b[1;32m   1740\u001b[0m \u001b[0;34m\u001b[0m\u001b[0m\n\u001b[1;32m   1741\u001b[0m     \u001b[0;31m# torchrec tests the code consistency with the following code\u001b[0m\u001b[0;34m\u001b[0m\u001b[0;34m\u001b[0m\u001b[0m\n",
            "\u001b[0;32m/usr/local/lib/python3.11/dist-packages/torch/nn/modules/module.py\u001b[0m in \u001b[0;36m_call_impl\u001b[0;34m(self, *args, **kwargs)\u001b[0m\n\u001b[1;32m   1748\u001b[0m                 \u001b[0;32mor\u001b[0m \u001b[0m_global_backward_pre_hooks\u001b[0m \u001b[0;32mor\u001b[0m \u001b[0m_global_backward_hooks\u001b[0m\u001b[0;34m\u001b[0m\u001b[0;34m\u001b[0m\u001b[0m\n\u001b[1;32m   1749\u001b[0m                 or _global_forward_hooks or _global_forward_pre_hooks):\n\u001b[0;32m-> 1750\u001b[0;31m             \u001b[0;32mreturn\u001b[0m \u001b[0mforward_call\u001b[0m\u001b[0;34m(\u001b[0m\u001b[0;34m*\u001b[0m\u001b[0margs\u001b[0m\u001b[0;34m,\u001b[0m \u001b[0;34m**\u001b[0m\u001b[0mkwargs\u001b[0m\u001b[0;34m)\u001b[0m\u001b[0;34m\u001b[0m\u001b[0;34m\u001b[0m\u001b[0m\n\u001b[0m\u001b[1;32m   1751\u001b[0m \u001b[0;34m\u001b[0m\u001b[0m\n\u001b[1;32m   1752\u001b[0m         \u001b[0mresult\u001b[0m \u001b[0;34m=\u001b[0m \u001b[0;32mNone\u001b[0m\u001b[0;34m\u001b[0m\u001b[0;34m\u001b[0m\u001b[0m\n",
            "\u001b[0;32m/usr/local/lib/python3.11/dist-packages/torch/nn/modules/linear.py\u001b[0m in \u001b[0;36mforward\u001b[0;34m(self, input)\u001b[0m\n\u001b[1;32m    123\u001b[0m \u001b[0;34m\u001b[0m\u001b[0m\n\u001b[1;32m    124\u001b[0m     \u001b[0;32mdef\u001b[0m \u001b[0mforward\u001b[0m\u001b[0;34m(\u001b[0m\u001b[0mself\u001b[0m\u001b[0;34m,\u001b[0m \u001b[0minput\u001b[0m\u001b[0;34m:\u001b[0m \u001b[0mTensor\u001b[0m\u001b[0;34m)\u001b[0m \u001b[0;34m->\u001b[0m \u001b[0mTensor\u001b[0m\u001b[0;34m:\u001b[0m\u001b[0;34m\u001b[0m\u001b[0;34m\u001b[0m\u001b[0m\n\u001b[0;32m--> 125\u001b[0;31m         \u001b[0;32mreturn\u001b[0m \u001b[0mF\u001b[0m\u001b[0;34m.\u001b[0m\u001b[0mlinear\u001b[0m\u001b[0;34m(\u001b[0m\u001b[0minput\u001b[0m\u001b[0;34m,\u001b[0m \u001b[0mself\u001b[0m\u001b[0;34m.\u001b[0m\u001b[0mweight\u001b[0m\u001b[0;34m,\u001b[0m \u001b[0mself\u001b[0m\u001b[0;34m.\u001b[0m\u001b[0mbias\u001b[0m\u001b[0;34m)\u001b[0m\u001b[0;34m\u001b[0m\u001b[0;34m\u001b[0m\u001b[0m\n\u001b[0m\u001b[1;32m    126\u001b[0m \u001b[0;34m\u001b[0m\u001b[0m\n\u001b[1;32m    127\u001b[0m     \u001b[0;32mdef\u001b[0m \u001b[0mextra_repr\u001b[0m\u001b[0;34m(\u001b[0m\u001b[0mself\u001b[0m\u001b[0;34m)\u001b[0m \u001b[0;34m->\u001b[0m \u001b[0mstr\u001b[0m\u001b[0;34m:\u001b[0m\u001b[0;34m\u001b[0m\u001b[0;34m\u001b[0m\u001b[0m\n",
            "\u001b[0;31mRuntimeError\u001b[0m: mat1 and mat2 shapes cannot be multiplied (699000x29 and 28x15)"
          ]
        }
      ],
      "source": [
        "# Model Training\n",
        "epochs = 1000\n",
        "for epoch in range(epochs):\n",
        "  # Forward pass\n",
        "  outputs = mlp_model(X_train_base_tensor)\n",
        "\n",
        "  # Compute the loss\n",
        "  y_train_base_tensor = y_train_base_tensor.view(-1, 1)\n",
        "  loss = criterion(outputs, y_train_base_tensor)\n",
        "\n",
        "  # Backward pass and optimization\n",
        "  opt.zero_grad()\n",
        "  loss.backward()\n",
        "  opt.step()\n",
        "\n",
        "  # Print the loss every 100 epochs\n",
        "  if (epoch + 1) % 100 == 0:\n",
        "      print(f'Epoch [{epoch+1}/{epochs}], Loss: {loss.item():.4f}')"
      ]
    },
    {
      "cell_type": "code",
      "execution_count": null,
      "metadata": {
        "id": "rdrdZds0BNBv"
      },
      "outputs": [],
      "source": [
        "# Evaluation on the validation set\n",
        "with torch.no_grad():\n",
        "    mlp_model.eval()\n",
        "    outputs = mlp_model(X_validate_base_tensor)\n",
        "    probabilities = torch.sigmoid(outputs)\n",
        "\n",
        "# Find best classification threshold for Balanced Accuracy\n",
        "best_threshold, best_balanced_accuracy = find_best_threshold(y_validate_base_tensor, probabilities)\n",
        "y_pred_val = (probabilities >= best_threshold).float()\n",
        "\n",
        "print(f\"Best Threshold: {best_threshold}\")\n",
        "\n",
        "# Compute Balanced Accuracy\n",
        "balanced_acc = balanced_accuracy_score(y_validate_base_tensor.numpy(), y_pred_val.numpy())\n",
        "print(f'Balanced Accuracy on the test set: {balanced_acc:.2%}')\n",
        "\n",
        "# Calculate ROC AUC\n",
        "roc_auc = roc_auc_score(y_validate_base_tensor, probabilities)\n",
        "print(f'ROC AUC on the test set: {roc_auc:.4f}')\n",
        "\n",
        "# Calculate F1 Score\n",
        "f1 = f1_score(y_validate_base_tensor, y_pred_val.numpy())\n",
        "print(f'F1 Score on the test set: {f1:.4f}')\n",
        "\n",
        "# Compute ROC curve 2:1\n",
        "fpr, tpr, thresholds = roc_curve(y_validate_base_tensor, y_pred_val.numpy())\n",
        "\n",
        "# Find the threshold corresponding to FPR = 5% (0.05)\n",
        "fpr_target = 0.05\n",
        "threshold_at_fpr_5 = thresholds[np.where(fpr >= fpr_target)[0][0]]\n",
        "\n",
        "# Calculate TPR at that threshold\n",
        "tpr_at_fpr_5 = tpr[np.where(fpr >= fpr_target)[0][0]]\n",
        "\n",
        "print(f'TPR at FPR = 5%: {tpr_at_fpr_5:.4f}')\n"
      ]
    },
    {
      "cell_type": "code",
      "execution_count": null,
      "metadata": {
        "id": "lcz9YHcbCRGj"
      },
      "outputs": [],
      "source": [
        "# Evaluate Test Set\n",
        "with torch.no_grad():\n",
        "    mlp_model.eval()\n",
        "    outputs = mlp_model(X_test_base_tensor)\n",
        "    probabilities = torch.sigmoid(outputs)\n",
        "\n",
        "y_pred = (probabilities >= best_threshold).float() # using the best classification threshold found during validation\n",
        "\n",
        "# Compute Balanced Accuracy\n",
        "balanced_acc = balanced_accuracy_score(y_test_base_tensor.numpy(), y_pred.numpy())\n",
        "print(f'Balanced Accuracy on the test set: {balanced_acc:.2%}')\n",
        "\n",
        "# Calculate ROC AUC\n",
        "roc_auc = roc_auc_score(y_test_base_tensor, probabilities)\n",
        "print(f'ROC AUC on the test set: {roc_auc:.4f}')\n",
        "\n",
        "# Calculate F1 Score\n",
        "f1 = f1_score(y_test_base_tensor, y_pred.numpy())\n",
        "print(f'F1 Score on the test set: {f1:.4f}')\n",
        "\n",
        "# Compute ROC curve 2:1\n",
        "fpr, tpr, thresholds = roc_curve(y_test_base_tensor, y_pred.numpy())\n",
        "\n",
        "# Find the threshold corresponding to FPR = 5% (0.05)\n",
        "fpr_target = 0.05\n",
        "threshold_at_fpr_5 = thresholds[np.where(fpr >= fpr_target)[0][0]]\n",
        "\n",
        "# Calculate TPR at that threshold\n",
        "tpr_at_fpr_5 = tpr[np.where(fpr >= fpr_target)[0][0]]\n",
        "\n",
        "print(f'TPR at FPR = 5%: {tpr_at_fpr_5:.4f}')\n"
      ]
    },
    {
      "cell_type": "code",
      "execution_count": null,
      "metadata": {
        "id": "q9V69_KSSOny"
      },
      "outputs": [],
      "source": [
        "torch.save(mlp_model.state_dict(), \"/content/drive/My Drive/DS 440/MLP_Final.pth\")"
      ]
    },
    {
      "cell_type": "markdown",
      "metadata": {
        "id": "vRvD0YLuJt0X"
      },
      "source": [
        "# LSTM Model"
      ]
    },
    {
      "cell_type": "code",
      "execution_count": null,
      "metadata": {
        "id": "Dp5Il654MGxd"
      },
      "outputs": [],
      "source": [
        "# Reshape input to (batch_size, seq_length=1, input_size)\n",
        "X_train_base_tensor = X_train_base_tensor.unsqueeze(1)  # Adds sequence length dimension\n",
        "y_train_base_tensor = y_train_base_tensor.unsqueeze(1)\n",
        "\n",
        "X_validate_base_tensor = X_validate_base_tensor.unsqueeze(1)\n",
        "y_validate_base_tensor = y_validate_base_tensor.unsqueeze(1)\n",
        "\n",
        "X_test_base_tensor = X_test_base_tensor.unsqueeze(1)\n",
        "y_test_base_tensor = y_test_base_tensor.unsqueeze(1)\n"
      ]
    },
    {
      "cell_type": "code",
      "execution_count": null,
      "metadata": {
        "id": "I6uUxbyTJxO4"
      },
      "outputs": [],
      "source": [
        "class LSTMAugmentedMLP(nn.Module):\n",
        "    def __init__(self, input_size, hidden_size, lstm_hidden_size, num_lstm_layers):\n",
        "        super(LSTMAugmentedMLP, self).__init__()\n",
        "\n",
        "        # LSTM Layer\n",
        "        self.lstm = nn.LSTM(input_size, lstm_hidden_size, num_lstm_layers, batch_first=True)\n",
        "\n",
        "        # MLP Layers\n",
        "        self.mlp = nn.Sequential(\n",
        "            nn.Linear(lstm_hidden_size, hidden_size),\n",
        "            nn.ReLU(),\n",
        "            nn.Linear(hidden_size, hidden_size),\n",
        "            nn.ReLU(),\n",
        "            nn.Linear(hidden_size, hidden_size),\n",
        "            nn.ReLU(),\n",
        "            nn.Linear(hidden_size, 1)\n",
        "        )\n",
        "\n",
        "    def forward(self, x):\n",
        "        # LSTM expects input of shape (batch, seq_len, input_size)\n",
        "        lstm_out, _ = self.lstm(x)  # Output shape: (batch, seq_len, lstm_hidden_size)\n",
        "\n",
        "        # Take the output of the last time step\n",
        "        last_out = lstm_out[:, -1, :]  # Shape: (batch, lstm_hidden_size)\n",
        "\n",
        "        # Pass through the MLP\n",
        "        output = self.mlp(last_out)\n",
        "\n",
        "        return output\n"
      ]
    },
    {
      "cell_type": "code",
      "execution_count": null,
      "metadata": {
        "id": "aPfLMCsxKsYS"
      },
      "outputs": [],
      "source": [
        "LSTM_model = LSTMAugmentedMLP(input_size= 28, hidden_size = 15, lstm_hidden_size = 15, num_lstm_layers = 1)\n",
        "criterion = nn.BCEWithLogitsLoss()\n",
        "opt = optim.Adam(LSTM_model.parameters(), lr=0.001)"
      ]
    },
    {
      "cell_type": "code",
      "execution_count": null,
      "metadata": {
        "id": "8iALWvK7K_6m"
      },
      "outputs": [],
      "source": [
        "# Model Training\n",
        "epochs = 150\n",
        "for epoch in range(epochs):\n",
        "  # Forward pass\n",
        "  outputs = LSTM_model(X_train_base_tensor)\n",
        "\n",
        "  # Compute the loss\n",
        "  y_train_base_tensor = y_train_base_tensor.view(-1, 1)\n",
        "  loss = criterion(outputs, y_train_base_tensor)\n",
        "\n",
        "  # Backward pass and optimization\n",
        "  opt.zero_grad()\n",
        "  loss.backward()\n",
        "  opt.step()\n",
        "\n",
        "  # Print the loss every 100 epochs\n",
        "  if (epoch + 1) % 10 == 0:\n",
        "      print(f'Epoch [{epoch+1}/{epochs}], Loss: {loss.item():.4f}')"
      ]
    },
    {
      "cell_type": "code",
      "execution_count": null,
      "metadata": {
        "id": "8OUHsu4UM7vh"
      },
      "outputs": [],
      "source": [
        "# Evaluation on the validation set\n",
        "with torch.no_grad():\n",
        "    LSTM_model.eval()\n",
        "    outputs = LSTM_model(X_validate_base_tensor)\n",
        "    probabilities = torch.sigmoid(outputs)\n",
        "\n",
        "# Find best classification threshold for Balanced Accuracy\n",
        "best_threshold, best_balanced_accuracy = find_best_threshold(y_validate_base_tensor, probabilities)\n",
        "y_pred_val = (probabilities >= best_threshold).float()\n",
        "\n",
        "print(f\"Best Threshold: {best_threshold}\")\n",
        "\n",
        "# Compute Balanced Accuracy\n",
        "balanced_acc = balanced_accuracy_score(y_validate_base_tensor.numpy(), y_pred_val.numpy())\n",
        "print(f'Balanced Accuracy on the test set: {balanced_acc:.2%}')\n",
        "\n",
        "# Calculate ROC AUC\n",
        "roc_auc = roc_auc_score(y_validate_base_tensor, probabilities)\n",
        "print(f'ROC AUC on the test set: {roc_auc:.4f}')\n",
        "\n",
        "# Calculate F1 Score\n",
        "f1 = f1_score(y_validate_base_tensor, y_pred_val.numpy())\n",
        "print(f'F1 Score on the test set: {f1:.4f}')\n",
        "\n",
        "# Compute ROC curve 2:1\n",
        "fpr, tpr, thresholds = roc_curve(y_validate_base_tensor, y_pred_val.numpy())\n",
        "\n",
        "# Find the threshold corresponding to FPR = 5% (0.05)\n",
        "fpr_target = 0.05\n",
        "threshold_at_fpr_5 = thresholds[np.where(fpr >= fpr_target)[0][0]]\n",
        "\n",
        "# Calculate TPR at that threshold\n",
        "tpr_at_fpr_5 = tpr[np.where(fpr >= fpr_target)[0][0]]\n",
        "\n",
        "print(f'TPR at FPR = 5%: {tpr_at_fpr_5:.4f}')\n"
      ]
    },
    {
      "cell_type": "code",
      "execution_count": null,
      "metadata": {
        "id": "UDOocclaNDsT"
      },
      "outputs": [],
      "source": [
        "# Evaluate Test Set\n",
        "with torch.no_grad():\n",
        "    LSTM_model.eval()\n",
        "    outputs = LSTM_model(X_test_base_tensor)\n",
        "    probabilities = torch.sigmoid(outputs)\n",
        "\n",
        "y_pred = (probabilities >= best_threshold).float() # using the best classification threshold found during validation\n",
        "\n",
        "# Compute Balanced Accuracy\n",
        "balanced_acc = balanced_accuracy_score(y_test_base_tensor.numpy(), y_pred.numpy())\n",
        "print(f'Balanced Accuracy on the test set: {balanced_acc:.2%}')\n",
        "\n",
        "# Calculate ROC AUC\n",
        "roc_auc = roc_auc_score(y_test_base_tensor, probabilities)\n",
        "print(f'ROC AUC on the test set: {roc_auc:.4f}')\n",
        "\n",
        "# Calculate F1 Score\n",
        "f1 = f1_score(y_test_base_tensor, y_pred.numpy())\n",
        "print(f'F1 Score on the test set: {f1:.4f}')\n",
        "\n",
        "# Compute ROC curve 2:1\n",
        "fpr, tpr, thresholds = roc_curve(y_test_base_tensor, y_pred.numpy())\n",
        "\n",
        "# Find the threshold corresponding to FPR = 5% (0.05)\n",
        "fpr_target = 0.05\n",
        "threshold_at_fpr_5 = thresholds[np.where(fpr >= fpr_target)[0][0]]\n",
        "\n",
        "# Calculate TPR at that threshold\n",
        "tpr_at_fpr_5 = tpr[np.where(fpr >= fpr_target)[0][0]]\n",
        "\n",
        "print(f'TPR at FPR = 5%: {tpr_at_fpr_5:.4f}')\n"
      ]
    },
    {
      "cell_type": "code",
      "execution_count": null,
      "metadata": {
        "id": "aP-SvrDjSp9g"
      },
      "outputs": [],
      "source": [
        "class PureLSTM(nn.Module):\n",
        "    def __init__(self, input_size, lstm_hidden_size, num_lstm_layers, output_size):\n",
        "        super(PureLSTM, self).__init__()\n",
        "        self.lstm = nn.LSTM(input_size, lstm_hidden_size, num_lstm_layers, batch_first=True)\n",
        "        self.fc = nn.Linear(lstm_hidden_size, output_size)\n",
        "\n",
        "    def forward(self, x):\n",
        "        lstm_out, _ = self.lstm(x)\n",
        "        last_out = lstm_out[:, -1, :]\n",
        "        output = self.fc(last_out)\n",
        "        return output\n"
      ]
    },
    {
      "cell_type": "code",
      "execution_count": null,
      "metadata": {
        "id": "sgP8cqelS4Fu"
      },
      "outputs": [],
      "source": [
        "lstm_model = LSTMAugmentedMLP(input_size= 28, hidden_size = 15, lstm_hidden_size = 15, num_lstm_layers = 1)\n",
        "criterion = nn.BCEWithLogitsLoss()\n",
        "opt = optim.Adam(lstm_model.parameters(), lr=0.001)"
      ]
    },
    {
      "cell_type": "code",
      "execution_count": null,
      "metadata": {
        "id": "pE_Dz2GCS7Y2"
      },
      "outputs": [],
      "source": [
        "# Model Training\n",
        "epochs = 1000\n",
        "for epoch in range(epochs):\n",
        "  # Forward pass\n",
        "  outputs = lstm_model(X_train_base_tensor)\n",
        "\n",
        "  # Compute the loss\n",
        "  y_train_base_tensor = y_train_base_tensor.view(-1, 1)\n",
        "  loss = criterion(outputs, y_train_base_tensor)\n",
        "\n",
        "  # Backward pass and optimization\n",
        "  opt.zero_grad()\n",
        "  loss.backward()\n",
        "  opt.step()\n",
        "\n",
        "  # Print the loss every 100 epochs\n",
        "  if (epoch + 1) % 100 == 0:\n",
        "      print(f'Epoch [{epoch+1}/{epochs}], Loss: {loss.item():.4f}')"
      ]
    },
    {
      "cell_type": "code",
      "execution_count": null,
      "metadata": {
        "id": "Tt9MtlLxTEVl"
      },
      "outputs": [],
      "source": [
        "# Evaluation on the validation set\n",
        "with torch.no_grad():\n",
        "    lstm_model.eval()\n",
        "    outputs = lstm_model(X_validate_base_tensor)\n",
        "    probabilities = torch.sigmoid(outputs)\n",
        "\n",
        "# Find best classification threshold for Balanced Accuracy\n",
        "best_threshold, best_balanced_accuracy = find_best_threshold(y_validate_base_tensor, probabilities)\n",
        "y_pred_val = (probabilities >= best_threshold).float()\n",
        "\n",
        "print(f\"Best Threshold: {best_threshold}\")\n",
        "\n",
        "# Compute Balanced Accuracy\n",
        "balanced_acc = balanced_accuracy_score(y_validate_base_tensor.numpy(), y_pred_val.numpy())\n",
        "print(f'Balanced Accuracy on the test set: {balanced_acc:.2%}')\n",
        "\n",
        "# Calculate ROC AUC\n",
        "roc_auc = roc_auc_score(y_validate_base_tensor, probabilities)\n",
        "print(f'ROC AUC on the test set: {roc_auc:.4f}')\n",
        "\n",
        "# Calculate F1 Score\n",
        "f1 = f1_score(y_validate_base_tensor, y_pred_val.numpy())\n",
        "print(f'F1 Score on the test set: {f1:.4f}')\n",
        "\n",
        "# Compute ROC curve 2:1\n",
        "fpr, tpr, thresholds = roc_curve(y_validate_base_tensor, y_pred_val.numpy())\n",
        "\n",
        "# Find the threshold corresponding to FPR = 5% (0.05)\n",
        "fpr_target = 0.05\n",
        "threshold_at_fpr_5 = thresholds[np.where(fpr >= fpr_target)[0][0]]\n",
        "\n",
        "# Calculate TPR at that threshold\n",
        "tpr_at_fpr_5 = tpr[np.where(fpr >= fpr_target)[0][0]]\n",
        "\n",
        "print(f'TPR at FPR = 5%: {tpr_at_fpr_5:.4f}')\n"
      ]
    },
    {
      "cell_type": "markdown",
      "metadata": {
        "id": "wPQXCGLxjGWv"
      },
      "source": [
        "# **Naive Bayes**"
      ]
    },
    {
      "cell_type": "code",
      "execution_count": null,
      "metadata": {
        "colab": {
          "base_uri": "https://localhost:8080/"
        },
        "id": "stjpo-1JjWdN",
        "outputId": "279abdf2-d012-4c1f-9422-bb09624c28d4"
      },
      "outputs": [
        {
          "name": "stdout",
          "output_type": "stream",
          "text": [
            "Best Threshold: 0.01\n",
            "Balanced Accuracy on the test set: 63.26%\n",
            "ROC AUC on the test set: 0.6326\n",
            "F1 Score on the test set: 0.0977\n",
            "TPR at FPR = 5%: 0.3246\n"
          ]
        }
      ],
      "source": [
        "#Using Naive Bayes\n",
        "nb_model = GaussianNB()\n",
        "nb_model.fit(X_train, y_train)\n",
        "\n",
        "y_pred = nb_model.predict(X_valid)\n",
        "\n",
        "#best threshold\n",
        "best_threshold, best_balanced_accuracy = find_best_threshold(y_valid, y_pred)\n",
        "y_pred_val = (y_pred >= best_threshold).astype(int)\n",
        "print(f\"Best Threshold: {best_threshold}\")\n",
        "\n",
        "# Compute Balanced Accuracy\n",
        "balanced_acc = balanced_accuracy_score(y_valid, y_pred_val)\n",
        "print(f'Balanced Accuracy on the test set: {balanced_acc:.2%}')\n",
        "\n",
        "roc_auc = roc_auc_score(y_valid, y_pred)\n",
        "print(f'ROC AUC on the test set: {roc_auc:.4f}')\n",
        "\n",
        "f1 = f1_score(y_valid, y_pred_val)\n",
        "print(f'F1 Score on the test set: {f1:.4f}')\n",
        "\n",
        "fpr, tpr, thresholds = roc_curve(y_valid, y_pred)\n",
        "fpr_target = 0.05\n",
        "threshold_at_fpr_5 = thresholds[np.where(fpr >= fpr_target)[0][0]]\n",
        "tpr_at_fpr_5 = tpr[np.where(fpr >= fpr_target)[0][0]]\n",
        "\n",
        "print(f'TPR at FPR = 5%: {tpr_at_fpr_5:.4f}')\n",
        "\n"
      ]
    },
    {
      "cell_type": "code",
      "execution_count": null,
      "metadata": {
        "colab": {
          "base_uri": "https://localhost:8080/"
        },
        "id": "ruVYEPqqrrxK",
        "outputId": "b49d4fde-2983-4c2b-eaa4-fcf599273397"
      },
      "outputs": [
        {
          "name": "stdout",
          "output_type": "stream",
          "text": [
            "Balanced Accuracy on the test set: 75.24%\n",
            "ROC AUC on the test set: 0.8085\n",
            "F1 Score on the test set: 0.0650\n",
            "TPR at FPR = 5%: 0.2761\n"
          ]
        }
      ],
      "source": [
        "#Evaluation on Test set\n",
        "y_pred_temp = nb_model.predict(X_test)\n",
        "y_prob = nb_model.predict_proba(X_test)[:, 1]\n",
        "y_pred = (y_prob >= best_threshold).astype(int)\n",
        "\n",
        "# Compute Balanced Accuracy\n",
        "balanced_acc = balanced_accuracy_score(y_test, y_pred)\n",
        "print(f'Balanced Accuracy on the test set: {balanced_acc:.2%}')\n",
        "\n",
        "roc_auc = roc_auc_score(y_test, y_prob)\n",
        "print(f'ROC AUC on the test set: {roc_auc:.4f}')\n",
        "\n",
        "f1 = f1_score(y_test, y_pred)\n",
        "print(f'F1 Score on the test set: {f1:.4f}')\n",
        "\n",
        "fpr, tpr, thresholds = roc_curve(y_test, y_prob)\n",
        "fpr_target = 0.05\n",
        "threshold_at_fpr_5 = thresholds[np.where(fpr >= fpr_target)[0][0]]\n",
        "tpr_at_fpr_5 = tpr[np.where(fpr >= fpr_target)[0][0]]\n",
        "\n",
        "print(f'TPR at FPR = 5%: {tpr_at_fpr_5:.4f}')\n",
        "\n"
      ]
    }
  ],
  "metadata": {
    "colab": {
      "collapsed_sections": [
        "rooNOZbYArVF",
        "WUyYo1NrBo89",
        "zEZLPTVeBtlF",
        "s_2gccjUkUtz",
        "vRvD0YLuJt0X"
      ],
      "provenance": []
    },
    "kernelspec": {
      "display_name": "Python 3",
      "name": "python3"
    },
    "language_info": {
      "name": "python"
    }
  },
  "nbformat": 4,
  "nbformat_minor": 0
}