{
  "nbformat": 4,
  "nbformat_minor": 0,
  "metadata": {
    "colab": {
      "provenance": []
    },
    "kernelspec": {
      "name": "python3",
      "display_name": "Python 3"
    },
    "language_info": {
      "name": "python"
    }
  },
  "cells": [
    {
      "cell_type": "code",
      "execution_count": null,
      "metadata": {
        "id": "Szs93HIwkJJm"
      },
      "outputs": [],
      "source": [
        "import pandas as pd\n",
        "import numpy as np\n",
        "from google.colab import drive\n",
        "from pathlib import Path\n",
        "from sklearn.preprocessing import OrdinalEncoder\n",
        "\n",
        "from pyspark.sql.functions import split\n",
        "from sklearn.model_selection import train_test_split\n",
        "\n",
        "from sklearn.preprocessing import StandardScaler\n",
        "from sklearn.linear_model import LogisticRegression\n",
        "from sklearn.metrics import accuracy_score, confusion_matrix, classification_report\n",
        "from sklearn.metrics import precision_score, recall_score, f1_score\n",
        "\n",
        "from sklearn.model_selection import cross_val_score, StratifiedKFold\n",
        "from sklearn.dummy import DummyClassifier\n",
        "from sklearn.metrics import balanced_accuracy_score\n",
        "\n",
        "from imblearn.under_sampling import RandomUnderSampler\n",
        "from sklearn.metrics import roc_curve\n",
        "from sklearn.naive_bayes import GaussianNB\n",
        "from sklearn import svm\n",
        "from xgboost import XGBClassifier"
      ]
    },
    {
      "cell_type": "code",
      "source": [
        "drive.mount('/content/drive')\n",
        "path = '/content/drive/Shareddrives/DS Capstone/base_baf_final.csv'\n",
        "unbalanced_df = pd.read_csv(path)"
      ],
      "metadata": {
        "colab": {
          "base_uri": "https://localhost:8080/"
        },
        "id": "bicVOHt0iMeV",
        "outputId": "96bd8ef9-c919-4dac-d2a1-6aec4342470a"
      },
      "execution_count": null,
      "outputs": [
        {
          "output_type": "stream",
          "name": "stdout",
          "text": [
            "Mounted at /content/drive\n"
          ]
        }
      ]
    },
    {
      "cell_type": "markdown",
      "source": [
        "# **Data Encoding and Removal of Variables**"
      ],
      "metadata": {
        "id": "gcaUFXXLkRnf"
      }
    },
    {
      "cell_type": "code",
      "source": [
        "#Removing source and device_os variables\n",
        "unbalanced_df = unbalanced_df.drop(['source', 'device_os'], axis=1)\n",
        "unbalanced_df.head()"
      ],
      "metadata": {
        "colab": {
          "base_uri": "https://localhost:8080/",
          "height": 256
        },
        "id": "xe9IYX_xkgm2",
        "outputId": "c5913768-9f42-4094-e020-79bbc527e9f6"
      },
      "execution_count": null,
      "outputs": [
        {
          "output_type": "execute_result",
          "data": {
            "text/plain": [
              "   fraud_bool  income  name_email_similarity  prev_address_months_count  \\\n",
              "0           0   0.250               0.986507                   0.000000   \n",
              "1           0   0.875               0.617426                   0.000000   \n",
              "2           0   0.875               0.996708                   0.026042   \n",
              "3           0   0.625               0.475100                   0.031250   \n",
              "4           0   1.000               0.842307                   0.000000   \n",
              "\n",
              "   current_address_months_count  customer_age  days_since_request  \\\n",
              "0                      0.060606         0.375            0.000086   \n",
              "1                      0.209790         0.125            0.000129   \n",
              "2                      0.034965         0.375            0.000157   \n",
              "3                      0.034965         0.250            0.000089   \n",
              "4                      0.069930         0.375            0.073195   \n",
              "\n",
              "   intended_balcon_amount  payment_type  zip_count_4w  ...  \\\n",
              "0                0.918255          0.00      0.157934  ...   \n",
              "1                0.114260          0.75      0.247350  ...   \n",
              "2                0.109273          0.25      0.163308  ...   \n",
              "3                0.106372          0.25      0.519779  ...   \n",
              "4                0.487853          0.00      0.349007  ...   \n",
              "\n",
              "   phone_mobile_valid  bank_months_count  has_other_cards  \\\n",
              "0                 1.0           0.303030              0.0   \n",
              "1                 1.0           0.090909              0.0   \n",
              "2                 1.0           0.939394              0.0   \n",
              "3                 1.0           0.060606              0.0   \n",
              "4                 1.0           0.818182              0.0   \n",
              "\n",
              "   proposed_credit_limit  foreign_request  session_length_in_minutes  \\\n",
              "0               0.685864              0.0                   0.198216   \n",
              "1               0.685864              0.0                   0.050217   \n",
              "2               0.005236              0.0                   0.273082   \n",
              "3               0.005236              0.0                   0.186605   \n",
              "4               0.005236              0.0                   0.054581   \n",
              "\n",
              "   keep_alive_session  device_distinct_emails_8w  device_fraud_count  month  \n",
              "0                 1.0                   0.666667                 0.0    0.0  \n",
              "1                 1.0                   0.666667                 0.0    0.0  \n",
              "2                 0.0                   0.666667                 0.0    0.0  \n",
              "3                 1.0                   0.666667                 0.0    0.0  \n",
              "4                 0.0                   0.666667                 0.0    0.0  \n",
              "\n",
              "[5 rows x 30 columns]"
            ],
            "text/html": [
              "\n",
              "  <div id=\"df-1e38aeac-270d-40e6-87aa-5449e51d655e\" class=\"colab-df-container\">\n",
              "    <div>\n",
              "<style scoped>\n",
              "    .dataframe tbody tr th:only-of-type {\n",
              "        vertical-align: middle;\n",
              "    }\n",
              "\n",
              "    .dataframe tbody tr th {\n",
              "        vertical-align: top;\n",
              "    }\n",
              "\n",
              "    .dataframe thead th {\n",
              "        text-align: right;\n",
              "    }\n",
              "</style>\n",
              "<table border=\"1\" class=\"dataframe\">\n",
              "  <thead>\n",
              "    <tr style=\"text-align: right;\">\n",
              "      <th></th>\n",
              "      <th>fraud_bool</th>\n",
              "      <th>income</th>\n",
              "      <th>name_email_similarity</th>\n",
              "      <th>prev_address_months_count</th>\n",
              "      <th>current_address_months_count</th>\n",
              "      <th>customer_age</th>\n",
              "      <th>days_since_request</th>\n",
              "      <th>intended_balcon_amount</th>\n",
              "      <th>payment_type</th>\n",
              "      <th>zip_count_4w</th>\n",
              "      <th>...</th>\n",
              "      <th>phone_mobile_valid</th>\n",
              "      <th>bank_months_count</th>\n",
              "      <th>has_other_cards</th>\n",
              "      <th>proposed_credit_limit</th>\n",
              "      <th>foreign_request</th>\n",
              "      <th>session_length_in_minutes</th>\n",
              "      <th>keep_alive_session</th>\n",
              "      <th>device_distinct_emails_8w</th>\n",
              "      <th>device_fraud_count</th>\n",
              "      <th>month</th>\n",
              "    </tr>\n",
              "  </thead>\n",
              "  <tbody>\n",
              "    <tr>\n",
              "      <th>0</th>\n",
              "      <td>0</td>\n",
              "      <td>0.250</td>\n",
              "      <td>0.986507</td>\n",
              "      <td>0.000000</td>\n",
              "      <td>0.060606</td>\n",
              "      <td>0.375</td>\n",
              "      <td>0.000086</td>\n",
              "      <td>0.918255</td>\n",
              "      <td>0.00</td>\n",
              "      <td>0.157934</td>\n",
              "      <td>...</td>\n",
              "      <td>1.0</td>\n",
              "      <td>0.303030</td>\n",
              "      <td>0.0</td>\n",
              "      <td>0.685864</td>\n",
              "      <td>0.0</td>\n",
              "      <td>0.198216</td>\n",
              "      <td>1.0</td>\n",
              "      <td>0.666667</td>\n",
              "      <td>0.0</td>\n",
              "      <td>0.0</td>\n",
              "    </tr>\n",
              "    <tr>\n",
              "      <th>1</th>\n",
              "      <td>0</td>\n",
              "      <td>0.875</td>\n",
              "      <td>0.617426</td>\n",
              "      <td>0.000000</td>\n",
              "      <td>0.209790</td>\n",
              "      <td>0.125</td>\n",
              "      <td>0.000129</td>\n",
              "      <td>0.114260</td>\n",
              "      <td>0.75</td>\n",
              "      <td>0.247350</td>\n",
              "      <td>...</td>\n",
              "      <td>1.0</td>\n",
              "      <td>0.090909</td>\n",
              "      <td>0.0</td>\n",
              "      <td>0.685864</td>\n",
              "      <td>0.0</td>\n",
              "      <td>0.050217</td>\n",
              "      <td>1.0</td>\n",
              "      <td>0.666667</td>\n",
              "      <td>0.0</td>\n",
              "      <td>0.0</td>\n",
              "    </tr>\n",
              "    <tr>\n",
              "      <th>2</th>\n",
              "      <td>0</td>\n",
              "      <td>0.875</td>\n",
              "      <td>0.996708</td>\n",
              "      <td>0.026042</td>\n",
              "      <td>0.034965</td>\n",
              "      <td>0.375</td>\n",
              "      <td>0.000157</td>\n",
              "      <td>0.109273</td>\n",
              "      <td>0.25</td>\n",
              "      <td>0.163308</td>\n",
              "      <td>...</td>\n",
              "      <td>1.0</td>\n",
              "      <td>0.939394</td>\n",
              "      <td>0.0</td>\n",
              "      <td>0.005236</td>\n",
              "      <td>0.0</td>\n",
              "      <td>0.273082</td>\n",
              "      <td>0.0</td>\n",
              "      <td>0.666667</td>\n",
              "      <td>0.0</td>\n",
              "      <td>0.0</td>\n",
              "    </tr>\n",
              "    <tr>\n",
              "      <th>3</th>\n",
              "      <td>0</td>\n",
              "      <td>0.625</td>\n",
              "      <td>0.475100</td>\n",
              "      <td>0.031250</td>\n",
              "      <td>0.034965</td>\n",
              "      <td>0.250</td>\n",
              "      <td>0.000089</td>\n",
              "      <td>0.106372</td>\n",
              "      <td>0.25</td>\n",
              "      <td>0.519779</td>\n",
              "      <td>...</td>\n",
              "      <td>1.0</td>\n",
              "      <td>0.060606</td>\n",
              "      <td>0.0</td>\n",
              "      <td>0.005236</td>\n",
              "      <td>0.0</td>\n",
              "      <td>0.186605</td>\n",
              "      <td>1.0</td>\n",
              "      <td>0.666667</td>\n",
              "      <td>0.0</td>\n",
              "      <td>0.0</td>\n",
              "    </tr>\n",
              "    <tr>\n",
              "      <th>4</th>\n",
              "      <td>0</td>\n",
              "      <td>1.000</td>\n",
              "      <td>0.842307</td>\n",
              "      <td>0.000000</td>\n",
              "      <td>0.069930</td>\n",
              "      <td>0.375</td>\n",
              "      <td>0.073195</td>\n",
              "      <td>0.487853</td>\n",
              "      <td>0.00</td>\n",
              "      <td>0.349007</td>\n",
              "      <td>...</td>\n",
              "      <td>1.0</td>\n",
              "      <td>0.818182</td>\n",
              "      <td>0.0</td>\n",
              "      <td>0.005236</td>\n",
              "      <td>0.0</td>\n",
              "      <td>0.054581</td>\n",
              "      <td>0.0</td>\n",
              "      <td>0.666667</td>\n",
              "      <td>0.0</td>\n",
              "      <td>0.0</td>\n",
              "    </tr>\n",
              "  </tbody>\n",
              "</table>\n",
              "<p>5 rows × 30 columns</p>\n",
              "</div>\n",
              "    <div class=\"colab-df-buttons\">\n",
              "\n",
              "  <div class=\"colab-df-container\">\n",
              "    <button class=\"colab-df-convert\" onclick=\"convertToInteractive('df-1e38aeac-270d-40e6-87aa-5449e51d655e')\"\n",
              "            title=\"Convert this dataframe to an interactive table.\"\n",
              "            style=\"display:none;\">\n",
              "\n",
              "  <svg xmlns=\"http://www.w3.org/2000/svg\" height=\"24px\" viewBox=\"0 -960 960 960\">\n",
              "    <path d=\"M120-120v-720h720v720H120Zm60-500h600v-160H180v160Zm220 220h160v-160H400v160Zm0 220h160v-160H400v160ZM180-400h160v-160H180v160Zm440 0h160v-160H620v160ZM180-180h160v-160H180v160Zm440 0h160v-160H620v160Z\"/>\n",
              "  </svg>\n",
              "    </button>\n",
              "\n",
              "  <style>\n",
              "    .colab-df-container {\n",
              "      display:flex;\n",
              "      gap: 12px;\n",
              "    }\n",
              "\n",
              "    .colab-df-convert {\n",
              "      background-color: #E8F0FE;\n",
              "      border: none;\n",
              "      border-radius: 50%;\n",
              "      cursor: pointer;\n",
              "      display: none;\n",
              "      fill: #1967D2;\n",
              "      height: 32px;\n",
              "      padding: 0 0 0 0;\n",
              "      width: 32px;\n",
              "    }\n",
              "\n",
              "    .colab-df-convert:hover {\n",
              "      background-color: #E2EBFA;\n",
              "      box-shadow: 0px 1px 2px rgba(60, 64, 67, 0.3), 0px 1px 3px 1px rgba(60, 64, 67, 0.15);\n",
              "      fill: #174EA6;\n",
              "    }\n",
              "\n",
              "    .colab-df-buttons div {\n",
              "      margin-bottom: 4px;\n",
              "    }\n",
              "\n",
              "    [theme=dark] .colab-df-convert {\n",
              "      background-color: #3B4455;\n",
              "      fill: #D2E3FC;\n",
              "    }\n",
              "\n",
              "    [theme=dark] .colab-df-convert:hover {\n",
              "      background-color: #434B5C;\n",
              "      box-shadow: 0px 1px 3px 1px rgba(0, 0, 0, 0.15);\n",
              "      filter: drop-shadow(0px 1px 2px rgba(0, 0, 0, 0.3));\n",
              "      fill: #FFFFFF;\n",
              "    }\n",
              "  </style>\n",
              "\n",
              "    <script>\n",
              "      const buttonEl =\n",
              "        document.querySelector('#df-1e38aeac-270d-40e6-87aa-5449e51d655e button.colab-df-convert');\n",
              "      buttonEl.style.display =\n",
              "        google.colab.kernel.accessAllowed ? 'block' : 'none';\n",
              "\n",
              "      async function convertToInteractive(key) {\n",
              "        const element = document.querySelector('#df-1e38aeac-270d-40e6-87aa-5449e51d655e');\n",
              "        const dataTable =\n",
              "          await google.colab.kernel.invokeFunction('convertToInteractive',\n",
              "                                                    [key], {});\n",
              "        if (!dataTable) return;\n",
              "\n",
              "        const docLinkHtml = 'Like what you see? Visit the ' +\n",
              "          '<a target=\"_blank\" href=https://colab.research.google.com/notebooks/data_table.ipynb>data table notebook</a>'\n",
              "          + ' to learn more about interactive tables.';\n",
              "        element.innerHTML = '';\n",
              "        dataTable['output_type'] = 'display_data';\n",
              "        await google.colab.output.renderOutput(dataTable, element);\n",
              "        const docLink = document.createElement('div');\n",
              "        docLink.innerHTML = docLinkHtml;\n",
              "        element.appendChild(docLink);\n",
              "      }\n",
              "    </script>\n",
              "  </div>\n",
              "\n",
              "\n",
              "<div id=\"df-d18844c7-fe00-4414-baec-36dd29f3b0ff\">\n",
              "  <button class=\"colab-df-quickchart\" onclick=\"quickchart('df-d18844c7-fe00-4414-baec-36dd29f3b0ff')\"\n",
              "            title=\"Suggest charts\"\n",
              "            style=\"display:none;\">\n",
              "\n",
              "<svg xmlns=\"http://www.w3.org/2000/svg\" height=\"24px\"viewBox=\"0 0 24 24\"\n",
              "     width=\"24px\">\n",
              "    <g>\n",
              "        <path d=\"M19 3H5c-1.1 0-2 .9-2 2v14c0 1.1.9 2 2 2h14c1.1 0 2-.9 2-2V5c0-1.1-.9-2-2-2zM9 17H7v-7h2v7zm4 0h-2V7h2v10zm4 0h-2v-4h2v4z\"/>\n",
              "    </g>\n",
              "</svg>\n",
              "  </button>\n",
              "\n",
              "<style>\n",
              "  .colab-df-quickchart {\n",
              "      --bg-color: #E8F0FE;\n",
              "      --fill-color: #1967D2;\n",
              "      --hover-bg-color: #E2EBFA;\n",
              "      --hover-fill-color: #174EA6;\n",
              "      --disabled-fill-color: #AAA;\n",
              "      --disabled-bg-color: #DDD;\n",
              "  }\n",
              "\n",
              "  [theme=dark] .colab-df-quickchart {\n",
              "      --bg-color: #3B4455;\n",
              "      --fill-color: #D2E3FC;\n",
              "      --hover-bg-color: #434B5C;\n",
              "      --hover-fill-color: #FFFFFF;\n",
              "      --disabled-bg-color: #3B4455;\n",
              "      --disabled-fill-color: #666;\n",
              "  }\n",
              "\n",
              "  .colab-df-quickchart {\n",
              "    background-color: var(--bg-color);\n",
              "    border: none;\n",
              "    border-radius: 50%;\n",
              "    cursor: pointer;\n",
              "    display: none;\n",
              "    fill: var(--fill-color);\n",
              "    height: 32px;\n",
              "    padding: 0;\n",
              "    width: 32px;\n",
              "  }\n",
              "\n",
              "  .colab-df-quickchart:hover {\n",
              "    background-color: var(--hover-bg-color);\n",
              "    box-shadow: 0 1px 2px rgba(60, 64, 67, 0.3), 0 1px 3px 1px rgba(60, 64, 67, 0.15);\n",
              "    fill: var(--button-hover-fill-color);\n",
              "  }\n",
              "\n",
              "  .colab-df-quickchart-complete:disabled,\n",
              "  .colab-df-quickchart-complete:disabled:hover {\n",
              "    background-color: var(--disabled-bg-color);\n",
              "    fill: var(--disabled-fill-color);\n",
              "    box-shadow: none;\n",
              "  }\n",
              "\n",
              "  .colab-df-spinner {\n",
              "    border: 2px solid var(--fill-color);\n",
              "    border-color: transparent;\n",
              "    border-bottom-color: var(--fill-color);\n",
              "    animation:\n",
              "      spin 1s steps(1) infinite;\n",
              "  }\n",
              "\n",
              "  @keyframes spin {\n",
              "    0% {\n",
              "      border-color: transparent;\n",
              "      border-bottom-color: var(--fill-color);\n",
              "      border-left-color: var(--fill-color);\n",
              "    }\n",
              "    20% {\n",
              "      border-color: transparent;\n",
              "      border-left-color: var(--fill-color);\n",
              "      border-top-color: var(--fill-color);\n",
              "    }\n",
              "    30% {\n",
              "      border-color: transparent;\n",
              "      border-left-color: var(--fill-color);\n",
              "      border-top-color: var(--fill-color);\n",
              "      border-right-color: var(--fill-color);\n",
              "    }\n",
              "    40% {\n",
              "      border-color: transparent;\n",
              "      border-right-color: var(--fill-color);\n",
              "      border-top-color: var(--fill-color);\n",
              "    }\n",
              "    60% {\n",
              "      border-color: transparent;\n",
              "      border-right-color: var(--fill-color);\n",
              "    }\n",
              "    80% {\n",
              "      border-color: transparent;\n",
              "      border-right-color: var(--fill-color);\n",
              "      border-bottom-color: var(--fill-color);\n",
              "    }\n",
              "    90% {\n",
              "      border-color: transparent;\n",
              "      border-bottom-color: var(--fill-color);\n",
              "    }\n",
              "  }\n",
              "</style>\n",
              "\n",
              "  <script>\n",
              "    async function quickchart(key) {\n",
              "      const quickchartButtonEl =\n",
              "        document.querySelector('#' + key + ' button');\n",
              "      quickchartButtonEl.disabled = true;  // To prevent multiple clicks.\n",
              "      quickchartButtonEl.classList.add('colab-df-spinner');\n",
              "      try {\n",
              "        const charts = await google.colab.kernel.invokeFunction(\n",
              "            'suggestCharts', [key], {});\n",
              "      } catch (error) {\n",
              "        console.error('Error during call to suggestCharts:', error);\n",
              "      }\n",
              "      quickchartButtonEl.classList.remove('colab-df-spinner');\n",
              "      quickchartButtonEl.classList.add('colab-df-quickchart-complete');\n",
              "    }\n",
              "    (() => {\n",
              "      let quickchartButtonEl =\n",
              "        document.querySelector('#df-d18844c7-fe00-4414-baec-36dd29f3b0ff button');\n",
              "      quickchartButtonEl.style.display =\n",
              "        google.colab.kernel.accessAllowed ? 'block' : 'none';\n",
              "    })();\n",
              "  </script>\n",
              "</div>\n",
              "\n",
              "    </div>\n",
              "  </div>\n"
            ],
            "application/vnd.google.colaboratory.intrinsic+json": {
              "type": "dataframe",
              "variable_name": "unbalanced_df"
            }
          },
          "metadata": {},
          "execution_count": 4
        }
      ]
    },
    {
      "cell_type": "markdown",
      "source": [
        "# **Data Balancing**"
      ],
      "metadata": {
        "id": "wly8f6k7k-dI"
      }
    },
    {
      "cell_type": "code",
      "source": [
        "#Undesampling\n",
        "X = unbalanced_df.drop(columns='fraud_bool')\n",
        "y = unbalanced_df['fraud_bool'].astype(int)\n",
        "\n",
        "\n",
        "undersample = RandomUnderSampler(sampling_strategy='not minority', random_state=42)\n",
        "\n",
        "\n",
        "X_resampled, y_resampled = undersample.fit_resample(X, y)\n",
        "\n",
        "\n",
        "undersample_df = pd.concat([X_resampled, y_resampled], axis=1)\n",
        "\n",
        "print(undersample_df[undersample_df['fraud_bool'] == 0]['fraud_bool'].count())\n",
        "print(undersample_df[undersample_df['fraud_bool'] == 1]['fraud_bool'].count())\n",
        "\n"
      ],
      "metadata": {
        "colab": {
          "base_uri": "https://localhost:8080/"
        },
        "id": "1PN0uD2fyoBe",
        "outputId": "25944030-715b-4c86-e84c-0dfd24084876"
      },
      "execution_count": null,
      "outputs": [
        {
          "output_type": "stream",
          "name": "stdout",
          "text": [
            "11029\n",
            "11029\n"
          ]
        }
      ]
    },
    {
      "cell_type": "markdown",
      "source": [
        "# **Logistic Regression**"
      ],
      "metadata": {
        "id": "RlOFti9ekiNB"
      }
    },
    {
      "cell_type": "code",
      "source": [
        "#Logistical Regression on unbalanced dataset\n",
        "X_unbalanced = unbalanced_df.drop(columns=['fraud_bool'])\n",
        "y_unbalanced = unbalanced_df['fraud_bool']\n",
        "#Splitting The data set in 70% - 30%\n",
        "X_unbalanced_train, X_unbalanced_test, y_unbalanced_train, y_unbalanced_test = train_test_split(X_unbalanced, y_unbalanced, test_size=0.3, random_state=42)\n",
        "\n",
        "scaler = StandardScaler()\n",
        "X_unbalanced_train = scaler.fit_transform(X_unbalanced_train)\n",
        "X_unbalanced_test = scaler.transform(X_unbalanced_test)\n",
        "\n",
        "clf_unbalanced = LogisticRegression(max_iter=10000, random_state=0)\n",
        "clf_unbalanced .fit(X_unbalanced_train, y_unbalanced_train)\n",
        "\n",
        "acc = accuracy_score(y_unbalanced_test, clf_unbalanced.predict(X_unbalanced_test)) * 100\n",
        "print(f\"Logistic Regression model accuracy for the unbalanced dataset: {acc:.2f}%\")\n",
        "\n",
        "\n",
        "\n",
        "y_pred_unbalanced = clf_unbalanced.predict(X_unbalanced_test)\n",
        "print(y_pred_unbalanced)\n",
        "\n",
        "precision_unbalanced = precision_score(y_unbalanced_test, y_pred_unbalanced, zero_division= 1)\n",
        "recall_unbalanced = recall_score(y_unbalanced_test, y_pred_unbalanced, zero_division= 1)\n",
        "f1_unbalanced = f1_score(y_unbalanced_test, y_pred_unbalanced, zero_division= 1)\n",
        "\n",
        "\n",
        "print(f\"Unbalanced Dataset - Precision: {precision_unbalanced:.2f}\")\n",
        "print(f\"Unbalanced Dataset - Recall: {recall_unbalanced:.2f}\")\n",
        "print(f\"Unbalanced Dataset - F1-score: {f1_unbalanced:.2f}\")\n",
        "\n",
        "# Calculate balanced accuracy for logistic regression\n",
        "balanced_acc_unbalanced = balanced_accuracy_score(y_unbalanced_test, y_pred_unbalanced) * 100\n",
        "print(f\"Logistic Regression Balanced Accuracy: {balanced_acc_unbalanced:.2f}%\")\n"
      ],
      "metadata": {
        "colab": {
          "base_uri": "https://localhost:8080/"
        },
        "id": "unB3NEWAkrMa",
        "outputId": "bbb6ea12-c5de-4193-d17a-78e345afaf48"
      },
      "execution_count": null,
      "outputs": [
        {
          "output_type": "stream",
          "name": "stdout",
          "text": [
            "Logistic Regression model accuracy for the unbalanced dataset: 98.93%\n",
            "[0 0 0 ... 0 0 0]\n",
            "Unbalanced Dataset - Precision: 0.71\n",
            "Unbalanced Dataset - Recall: 0.00\n",
            "Unbalanced Dataset - F1-score: 0.01\n",
            "Logistic Regression Balanced Accuracy: 50.19%\n"
          ]
        }
      ]
    },
    {
      "cell_type": "code",
      "source": [
        "# Finding TPR\n",
        "lr_unbalanced_probs = clf_unbalanced.predict_proba(X_unbalanced_test)[:, 1]\n",
        "fpr, tpr, thresholds = roc_curve(y_unbalanced_test, lr_unbalanced_probs)\n",
        "\n",
        "fpr_target = 0.05\n",
        "threshold_at_fpr_5 = thresholds[np.where(fpr >= fpr_target)[0][0]]\n",
        "\n",
        "# Calculate TPR at that threshold\n",
        "tpr_at_fpr_5 = tpr[np.where(fpr >= fpr_target)[0][0]]\n",
        "\n",
        "print(f'(Unbalanced LR) TPR at FPR = 5%: {tpr_at_fpr_5:.4f}')"
      ],
      "metadata": {
        "colab": {
          "base_uri": "https://localhost:8080/"
        },
        "id": "OCDDDJfp1ji2",
        "outputId": "fc45fff6-1228-40b1-d0f2-dbdf400cb2e0"
      },
      "execution_count": null,
      "outputs": [
        {
          "output_type": "stream",
          "name": "stdout",
          "text": [
            "(Unbalanced LR) TPR at FPR = 5%: 0.4496\n"
          ]
        }
      ]
    },
    {
      "cell_type": "code",
      "source": [],
      "metadata": {
        "id": "s3xQJNIQlZwl"
      },
      "execution_count": null,
      "outputs": []
    },
    {
      "cell_type": "code",
      "source": [
        "#Balanced Data\n",
        "X_balanced = undersample_df.drop(columns=['fraud_bool'])\n",
        "y_balanced = undersample_df['fraud_bool']\n",
        "#Splitting The data 70-30\n",
        "X_train, X_test, y_train, y_test = train_test_split(X_balanced, y_balanced, test_size=0.3, random_state=42)\n",
        "\n",
        "scaler = StandardScaler()\n",
        "X_train = scaler.fit_transform(X_train)\n",
        "X_test = scaler.transform(X_test)\n",
        "\n",
        "clf = LogisticRegression(max_iter=10000, random_state=0)\n",
        "clf.fit(X_train, y_train)\n",
        "\n",
        "acc = accuracy_score(y_test, clf.predict(X_test)) * 100\n",
        "print(f\"Logistic Regression model accuracy for the balanced dataset: {acc:.2f}%\")\n",
        "\n",
        "#Calulate balanced accuracy for balanced dataset\n",
        "y_pred_balanced = clf.predict(X_test)\n",
        "\n",
        "\n",
        "\n",
        "precision_balanced = precision_score(y_test, y_pred_balanced)\n",
        "recall_balanced = recall_score(y_test, y_pred_balanced)\n",
        "f1_balanced = f1_score(y_test, y_pred_balanced)\n",
        "\n",
        "print(f\"Balanced Dataset - Precision: {precision_balanced:.2f}\")\n",
        "print(f\"Balanced Dataset - Recall: {recall_balanced:.2f}\")\n",
        "print(f\"Balanced Dataset - F1-score: {f1_balanced:.2f}\")\n",
        "\n",
        "balanced_acc_balanced = balanced_accuracy_score(y_test, y_pred_balanced) * 100\n",
        "print(f\"Logistic Regression Balanced Accuracy: {balanced_acc_balanced:.2f}%\")"
      ],
      "metadata": {
        "id": "FqmsqADmksZH",
        "colab": {
          "base_uri": "https://localhost:8080/"
        },
        "outputId": "13c96164-8e3d-49ae-f7ab-cec4a909e22e"
      },
      "execution_count": null,
      "outputs": [
        {
          "output_type": "stream",
          "name": "stdout",
          "text": [
            "Logistic Regression model accuracy for the balanced dataset: 76.88%\n",
            "Balanced Dataset - Precision: 0.77\n",
            "Balanced Dataset - Recall: 0.76\n",
            "Balanced Dataset - F1-score: 0.77\n",
            "Logistic Regression Balanced Accuracy: 76.88%\n"
          ]
        }
      ]
    },
    {
      "cell_type": "code",
      "source": [
        "# Finding TPR\n",
        "lr_balanced_probs = clf.predict_proba(X_test)[:, 1]\n",
        "fpr, tpr, thresholds = roc_curve(y_test, lr_balanced_probs)\n",
        "\n",
        "fpr_target = 0.05\n",
        "threshold_at_fpr_5 = thresholds[np.where(fpr >= fpr_target)[0][0]]\n",
        "\n",
        "# Calculate TPR at that threshold\n",
        "tpr_at_fpr_5 = tpr[np.where(fpr >= fpr_target)[0][0]]\n",
        "\n",
        "print(f'(Balanced LR) TPR at FPR = 5%: {tpr_at_fpr_5:.4f}')"
      ],
      "metadata": {
        "colab": {
          "base_uri": "https://localhost:8080/"
        },
        "id": "FlWoz2f91edf",
        "outputId": "ad3564a7-c37b-47ff-98e2-50498585d18e"
      },
      "execution_count": null,
      "outputs": [
        {
          "output_type": "stream",
          "name": "stdout",
          "text": [
            "(Balanced LR) TPR at FPR = 5%: 0.4171\n"
          ]
        }
      ]
    },
    {
      "cell_type": "code",
      "source": [
        "#Balanced Model being tested on the unbalanced data\n",
        "y_predict_unbalanced = clf.predict(X_unbalanced_test)\n",
        "\n",
        "# Calculate  accuracy for logistic regression\n",
        "acc = accuracy_score(y_unbalanced_test, y_predict_unbalanced) * 100\n",
        "print(f\"Logistic Regression  Accuracy: {acc:.2f}%\")\n",
        "\n",
        "precision_unbalanced = precision_score(y_unbalanced_test, y_predict_unbalanced, zero_division=1)\n",
        "recall_unbalanced = recall_score(y_unbalanced_test, y_predict_unbalanced, zero_division=1)\n",
        "f1_unbalanced = f1_score(y_unbalanced_test, y_predict_unbalanced, zero_division=1)\n",
        "\n",
        "print(f\"Unbalanced Test Set - Precision: {precision_unbalanced:.2f}\")\n",
        "print(f\"Unbalanced Test Set - Recall: {recall_unbalanced:.2f}\")\n",
        "print(f\"Unbalanced Test Set - F1-score: {f1_unbalanced:.2f}\")\n",
        "\n",
        "balanced_acc_unbalanced = balanced_accuracy_score(y_unbalanced_test, y_predict_unbalanced) * 100\n",
        "print(f\"Logistic Regression Balanced Accuracy: {balanced_acc_unbalanced:.2f}%\")"
      ],
      "metadata": {
        "colab": {
          "base_uri": "https://localhost:8080/"
        },
        "id": "lga4z1Hv18M0",
        "outputId": "1a48f656-0fed-4bed-a653-cfd91074e731"
      },
      "execution_count": null,
      "outputs": [
        {
          "output_type": "stream",
          "name": "stdout",
          "text": [
            "Logistic Regression  Accuracy: 52.18%\n",
            "Unbalanced Test Set - Precision: 0.02\n",
            "Unbalanced Test Set - Recall: 0.93\n",
            "Unbalanced Test Set - F1-score: 0.04\n",
            "Logistic Regression Balanced Accuracy: 72.31%\n"
          ]
        }
      ]
    },
    {
      "cell_type": "code",
      "source": [
        "#Finding TPR using balanced model on unbalanced data\n",
        "lr_unbalanced_probs = clf.predict_proba(X_unbalanced_test)[:, 1]\n",
        "fpr, tpr, thresholds = roc_curve(y_unbalanced_test, lr_unbalanced_probs)\n",
        "\n",
        "fpr_target = 0.05\n",
        "threshold_at_fpr_5 = thresholds[np.where(fpr >= fpr_target)[0][0]]\n",
        "\n",
        "tpr_at_fpr_5 = tpr[np.where(fpr >= fpr_target)[0][0]]\n",
        "\n",
        "print(f'(Balanced LR on unbalanced data) TPR at FPR = 5%: {tpr_at_fpr_5:.4f}')"
      ],
      "metadata": {
        "colab": {
          "base_uri": "https://localhost:8080/"
        },
        "id": "FxtWQej24L9Q",
        "outputId": "5350222e-8399-4731-ba37-4d3fca6b2ffc"
      },
      "execution_count": null,
      "outputs": [
        {
          "output_type": "stream",
          "name": "stdout",
          "text": [
            "(Balanced LR on unbalanced data) TPR at FPR = 5%: 0.4396\n"
          ]
        }
      ]
    },
    {
      "cell_type": "markdown",
      "source": [
        "# **Naive Bayes**"
      ],
      "metadata": {
        "id": "0FLQAzBiksxV"
      }
    },
    {
      "cell_type": "code",
      "source": [
        "#Unbalanced Data\n",
        "model = GaussianNB()\n",
        "model.fit(X_unbalanced_train, y_unbalanced_train)\n",
        "\n",
        "y_pred_unbalanced = model.predict(X_unbalanced_test)\n",
        "\n",
        "acc = accuracy_score(y_unbalanced_test, model.predict(X_unbalanced_test)) * 100\n",
        "print(f\"Naive Bayes model accuracy for the unbalanced dataset: {acc:.2f}%\")\n",
        "\n",
        "precision_unbalanced = precision_score(y_unbalanced_test, y_pred_unbalanced)\n",
        "recall_unbalanced = recall_score(y_unbalanced_test, y_pred_unbalanced)\n",
        "f1_unbalanced = f1_score(y_unbalanced_test, y_pred_unbalanced)\n",
        "\n",
        "print(f\"Unbalanced Dataset - Precision: {precision_unbalanced:.2f}\")\n",
        "print(f\"Unbalanced Dataset - Recall: {recall_unbalanced:.2f}\")\n",
        "print(f\"Unbalanced Dataset - F1-score: {f1_unbalanced:.2f}\")\n",
        "\n",
        "balanced_acc_unbalanced = balanced_accuracy_score(y_unbalanced_test, y_pred_unbalanced) * 100\n",
        "print(f\"Naive Bayes Balanced Accuracy: {balanced_acc_unbalanced:.2f}%\")"
      ],
      "metadata": {
        "colab": {
          "base_uri": "https://localhost:8080/"
        },
        "id": "wxLmBw5Dk3Es",
        "outputId": "5266e4a5-33e7-4b4c-afc5-33d8531ab67c"
      },
      "execution_count": null,
      "outputs": [
        {
          "output_type": "stream",
          "name": "stdout",
          "text": [
            "Naive Bayes model accuracy for the unbalanced dataset: 93.19%\n",
            "Unbalanced Dataset - Precision: 0.05\n",
            "Unbalanced Dataset - Recall: 0.32\n",
            "Unbalanced Dataset - F1-score: 0.09\n",
            "Naive Bayes Balanced Accuracy: 62.80%\n"
          ]
        }
      ]
    },
    {
      "cell_type": "code",
      "source": [
        "#TPR\n",
        "nb_unbalanced_probs = model.predict_proba(X_unbalanced_test)[:, 1]\n",
        "fpr, tpr, thresholds = roc_curve(y_unbalanced_test, nb_unbalanced_probs)\n",
        "\n",
        "fpr_target = 0.05\n",
        "threshold_at_fpr_5 = thresholds[np.where(fpr >= fpr_target)[0][0]]\n",
        "\n",
        "tpr_at_fpr_5 = tpr[np.where(fpr >= fpr_target)[0][0]]\n",
        "\n",
        "print(f'(Unbalanced NB) TPR at FPR = 5%: {tpr_at_fpr_5:.4f}')"
      ],
      "metadata": {
        "colab": {
          "base_uri": "https://localhost:8080/"
        },
        "id": "ANlbLXz8i1Oj",
        "outputId": "476bb09a-79b6-4777-ac47-2aee9fb2bf6b"
      },
      "execution_count": null,
      "outputs": [
        {
          "output_type": "stream",
          "name": "stdout",
          "text": [
            "(Unbalanced NB) TPR at FPR = 5%: 0.2514\n"
          ]
        }
      ]
    },
    {
      "cell_type": "code",
      "source": [
        "#Balanced Data\n",
        "model = GaussianNB()\n",
        "model.fit(X_train, y_train)\n",
        "\n",
        "y_pred_balanced = model.predict(X_test)\n",
        "\n",
        "acc = accuracy_score(y_test, model.predict(X_test)) * 100\n",
        "print(f\"Naive Bayes model accuracy for the balanced dataset: {acc:.2f}%\")\n",
        "\n",
        "precision_balanced = precision_score(y_test, y_pred_balanced)\n",
        "recall_balanced = recall_score(y_test, y_pred_balanced)\n",
        "f1_balanced = f1_score(y_test, y_pred_balanced)\n",
        "\n",
        "print(f\"Balanced Dataset - Precision: {precision_balanced:.2f}\")\n",
        "print(f\"Balanced Dataset - Recall: {recall_balanced:.2f}\")\n",
        "print(f\"Balanced Dataset - F1-score: {f1_balanced:.2f}\")\n",
        "\n",
        "balanced_acc_balanced = balanced_accuracy_score(y_test, y_pred_balanced) * 100\n",
        "print(f\"Naive Bayes Balanced Accuracy: {balanced_acc_balanced:.2f}%\")"
      ],
      "metadata": {
        "colab": {
          "base_uri": "https://localhost:8080/"
        },
        "id": "1Blq__Lhk3ZX",
        "outputId": "d05f0a66-55ad-4483-c696-c19088eb9824"
      },
      "execution_count": null,
      "outputs": [
        {
          "output_type": "stream",
          "name": "stdout",
          "text": [
            "Naive Bayes model accuracy for the balanced dataset: 73.89%\n",
            "Balanced Dataset - Precision: 0.75\n",
            "Balanced Dataset - Recall: 0.70\n",
            "Balanced Dataset - F1-score: 0.73\n",
            "Naive Bayes Balanced Accuracy: 73.85%\n"
          ]
        }
      ]
    },
    {
      "cell_type": "code",
      "source": [
        "#Finding TPR\n",
        "nb_balanced_probs = model.predict_proba(X_test)[:, 1]\n",
        "fpr, tpr, thresholds = roc_curve(y_test, nb_balanced_probs)\n",
        "\n",
        "fpr_target = 0.05\n",
        "threshold_at_fpr_5 = thresholds[np.where(fpr >= fpr_target)[0][0]]\n",
        "\n",
        "tpr_at_fpr_5 = tpr[np.where(fpr >= fpr_target)[0][0]]\n",
        "print(f'(Balanced NB) TPR at FPR = 5%: {tpr_at_fpr_5:.4f}')"
      ],
      "metadata": {
        "colab": {
          "base_uri": "https://localhost:8080/"
        },
        "id": "Gp2HMm17jIYp",
        "outputId": "d6bbaf6e-a036-4b29-c30c-7a18a0f31eb1"
      },
      "execution_count": null,
      "outputs": [
        {
          "output_type": "stream",
          "name": "stdout",
          "text": [
            "(Balanced NB) TPR at FPR = 5%: 0.2272\n"
          ]
        }
      ]
    },
    {
      "cell_type": "code",
      "source": [
        "#Balanced model on unbalanced data for naive bayes\n",
        "y_predict_unbalanced = model.predict(X_unbalanced_test)\n",
        "\n",
        "acc = accuracy_score(y_unbalanced_test, y_predict_unbalanced) * 100\n",
        "print(f\"Naive Bayes model accuracy for the unbalanced dataset: {acc:.2f}%\")\n",
        "\n",
        "precision_unbalanced = precision_score(y_unbalanced_test, y_predict_unbalanced)\n",
        "recall_unbalanced = recall_score(y_unbalanced_test, y_predict_unbalanced)\n",
        "f1_unbalanced = f1_score(y_unbalanced_test, y_predict_unbalanced)\n",
        "\n",
        "print(f\"Unbalanced Dataset - Precision: {precision_unbalanced:.2f}\")\n",
        "print(f\"Unbalanced Dataset - Recall: {recall_unbalanced:.2f}\")\n",
        "print(f\"Unbalanced Dataset - F1-score: {f1_unbalanced:.2f}\")\n",
        "\n",
        "balanced_acc_unbalanced = balanced_accuracy_score(y_unbalanced_test, y_predict_unbalanced) * 100\n",
        "print(f\"Naive Bayes Balanced Accuracy: {balanced_acc_unbalanced:.2f}%\")\n"
      ],
      "metadata": {
        "colab": {
          "base_uri": "https://localhost:8080/"
        },
        "id": "e8HYzuDX4S58",
        "outputId": "5bbfa1b8-7694-4427-c701-1d31fc7114fe"
      },
      "execution_count": null,
      "outputs": [
        {
          "output_type": "stream",
          "name": "stdout",
          "text": [
            "Naive Bayes model accuracy for the unbalanced dataset: 59.66%\n",
            "Unbalanced Dataset - Precision: 0.02\n",
            "Unbalanced Dataset - Recall: 0.86\n",
            "Unbalanced Dataset - F1-score: 0.04\n",
            "Naive Bayes Balanced Accuracy: 72.56%\n"
          ]
        }
      ]
    },
    {
      "cell_type": "markdown",
      "source": [
        "# **XGBoost**"
      ],
      "metadata": {
        "id": "htFOfd-bdbEg"
      }
    },
    {
      "cell_type": "code",
      "source": [
        "#Xgboost on unbalanced data\n",
        "xgbmodel = XGBClassifier()\n",
        "xgbmodel.fit(X_unbalanced_train, y_unbalanced_train)\n",
        "xgbpred_unbalanced = xgbmodel.predict(X_unbalanced_test)\n",
        "xgbacc = accuracy_score(y_unbalanced_test, xgbpred_unbalanced) * 100\n",
        "print(f\"XGBoost model accuracy for the unbalanced dataset: {xgbacc:.2f}%\")\n",
        "\n",
        "precision_unbalanced = precision_score(y_unbalanced_test, xgbpred_unbalanced)\n",
        "recall_unbalanced = recall_score(y_unbalanced_test, xgbpred_unbalanced)\n",
        "f1_unbalanced = f1_score(y_unbalanced_test, xgbpred_unbalanced)\n",
        "\n",
        "print(f\"Unbalanced Dataset - Precision: {precision_unbalanced:.2f}\")\n",
        "print(f\"Unbalanced Dataset - Recall: {recall_unbalanced:.2f}\")\n",
        "print(f\"Unbalanced Dataset - F1-score: {f1_unbalanced:.2f}\")\n",
        "\n",
        "#Balanced Acc\n",
        "balanced_acc_unbalanced = balanced_accuracy_score(y_unbalanced_test, xgbpred_unbalanced) * 100\n",
        "print(f\"XGBoost Balanced Accuracy: {balanced_acc_unbalanced:.2f}%\")"
      ],
      "metadata": {
        "colab": {
          "base_uri": "https://localhost:8080/"
        },
        "id": "1Rd872Ujdadx",
        "outputId": "aa66e4d4-fdd1-41d8-a3e1-1c59534f3367"
      },
      "execution_count": null,
      "outputs": [
        {
          "output_type": "stream",
          "name": "stdout",
          "text": [
            "XGBoost model accuracy for the unbalanced dataset: 98.91%\n",
            "Unbalanced Dataset - Precision: 0.41\n",
            "Unbalanced Dataset - Recall: 0.04\n",
            "Unbalanced Dataset - F1-score: 0.07\n",
            "XGBoost Balanced Accuracy: 51.91%\n"
          ]
        }
      ]
    },
    {
      "cell_type": "code",
      "source": [
        "#Finding TPR\n",
        "xgb_unbalanced_probs = xgbmodel.predict_proba(X_unbalanced_test)[:, 1]\n",
        "fpr, tpr, thresholds = roc_curve(y_unbalanced_test, xgb_unbalanced_probs)\n",
        "\n",
        "fpr_target = 0.05\n",
        "threshold_at_fpr_5 = thresholds[np.where(fpr >= fpr_target)[0][0]]\n",
        "print(f'(Unbalanced XGB) TPR at FPR = 5%: {tpr[np.where(fpr >= fpr_target)[0][0]]:.4f}')"
      ],
      "metadata": {
        "colab": {
          "base_uri": "https://localhost:8080/"
        },
        "id": "zVk8JeJnjTRn",
        "outputId": "0bafde2c-88e1-4306-dc20-0733b3e5e6df"
      },
      "execution_count": null,
      "outputs": [
        {
          "output_type": "stream",
          "name": "stdout",
          "text": [
            "(Unbalanced XGB) TPR at FPR = 5%: 0.4969\n"
          ]
        }
      ]
    },
    {
      "cell_type": "code",
      "source": [
        "#XGboost on balanced data\n",
        "xgbmodel = XGBClassifier()\n",
        "xgbmodel.fit(X_train, y_train)\n",
        "xgbpred_balanced = xgbmodel.predict(X_test)\n",
        "xgbacc = accuracy_score(y_test, xgbpred_balanced) * 100\n",
        "print(f\"XGBoost model accuracy for the balanced dataset: {xgbacc:.2f}%\")\n",
        "\n",
        "precision_balanced = precision_score(y_test, xgbpred_balanced)\n",
        "recall_balanced = recall_score(y_test, xgbpred_balanced)\n",
        "f1_balanced = f1_score(y_test, xgbpred_balanced)\n",
        "\n",
        "print(f\"Balanced Dataset - Precision: {precision_balanced:.2f}\")\n",
        "print(f\"Balanced Dataset - Recall: {recall_balanced:.2f}\")\n",
        "print(f\"Balanced Dataset - F1-score: {f1_balanced:.2f}\")\n",
        "\n",
        "balanced_acc_balanced = balanced_accuracy_score(y_test, xgbpred_balanced) * 100\n",
        "print(f\"XGBoost Balanced Accuracy: {balanced_acc_balanced:.2f}%\")"
      ],
      "metadata": {
        "colab": {
          "base_uri": "https://localhost:8080/"
        },
        "id": "YS__NNvoh4T1",
        "outputId": "17432025-bb3b-4ec4-8f92-b3b5544971bb"
      },
      "execution_count": null,
      "outputs": [
        {
          "output_type": "stream",
          "name": "stdout",
          "text": [
            "XGBoost model accuracy for the balanced dataset: 78.91%\n",
            "Balanced Dataset - Precision: 0.79\n",
            "Balanced Dataset - Recall: 0.78\n",
            "Balanced Dataset - F1-score: 0.79\n",
            "XGBoost Balanced Accuracy: 78.90%\n"
          ]
        }
      ]
    },
    {
      "cell_type": "code",
      "source": [
        "#Finding TRP\n",
        "xgb_balanced_probs = xgbmodel.predict_proba(X_test)[:, 1]\n",
        "fpr, tpr, thresholds = roc_curve(y_test, xgb_balanced_probs)\n",
        "\n",
        "fpr_target = 0.05\n",
        "threshold_at_fpr_5 = thresholds[np.where(fpr >= fpr_target)[0][0]]\n",
        "print(f'(Balanced XGB) TPR at FPR = 5%: {tpr[np.where(fpr >= fpr_target)[0][0]]:.4f}')"
      ],
      "metadata": {
        "colab": {
          "base_uri": "https://localhost:8080/"
        },
        "id": "IXP6Ek0hjXML",
        "outputId": "f51c3a63-a75b-413a-ee39-9524f0b472af"
      },
      "execution_count": null,
      "outputs": [
        {
          "output_type": "stream",
          "name": "stdout",
          "text": [
            "(Balanced XGB) TPR at FPR = 5%: 0.4534\n"
          ]
        }
      ]
    },
    {
      "cell_type": "code",
      "source": [
        "#Balanced Model on unbalanced data\n",
        "xgbpred_unbalanced = xgbmodel.predict(X_unbalanced_test)\n",
        "xgbacc = accuracy_score(y_unbalanced_test, xgbpred_unbalanced) * 100\n",
        "print(f\"XGBoost model accuracy for the unbalanced dataset: {xgbacc:.2f}%\")\n",
        "\n",
        "precision_unbalanced = precision_score(y_unbalanced_test, xgbpred_unbalanced)\n",
        "recall_unbalanced = recall_score(y_unbalanced_test, xgbpred_unbalanced)\n",
        "f1_unbalanced = f1_score(y_unbalanced_test, xgbpred_unbalanced)\n",
        "\n",
        "print(f\"Precision: {precision_unbalanced:.2f}\")\n",
        "print(f\"Recall: {recall_unbalanced:.2f}\")\n",
        "print(f\"F1-score: {f1_unbalanced:.2f}\")\n",
        "\n",
        "balanced_acc_unbalanced = balanced_accuracy_score(y_unbalanced_test, xgbpred_unbalanced) * 100\n",
        "print(f\"XGBoost Balanced Accuracy: {balanced_acc_unbalanced:.2f}%\")"
      ],
      "metadata": {
        "colab": {
          "base_uri": "https://localhost:8080/"
        },
        "id": "rmGnfO2VkjPw",
        "outputId": "4b9da321-9ed8-40ee-c731-74684e36462a"
      },
      "execution_count": null,
      "outputs": [
        {
          "output_type": "stream",
          "name": "stdout",
          "text": [
            "XGBoost model accuracy for the unbalanced dataset: 35.47%\n",
            "Precision: 0.02\n",
            "Recall: 0.96\n",
            "F1-score: 0.03\n",
            "XGBoost Balanced Accuracy: 65.48%\n"
          ]
        }
      ]
    },
    {
      "cell_type": "code",
      "source": [
        "#TRP\n",
        "xgb_unbalanced_probs = xgbmodel.predict_proba(X_unbalanced_test)[:, 1]\n",
        "fpr, tpr, thresholds = roc_curve(y_unbalanced_test, xgb_unbalanced_probs)\n",
        "\n",
        "fpr_target = 0.05\n",
        "threshold_at_fpr_5 = thresholds[np.where(fpr >= fpr_target)[0][0]]\n",
        "print(f'(Unbalanced XGB) TPR at FPR = 5%: {tpr[np.where(fpr >= fpr_target)[0][0]]:.4f}')\n",
        "#"
      ],
      "metadata": {
        "colab": {
          "base_uri": "https://localhost:8080/"
        },
        "id": "QTaVzur6lEYb",
        "outputId": "7b5771f2-e8ff-4fb1-f3fd-e512ee9e46a7"
      },
      "execution_count": null,
      "outputs": [
        {
          "output_type": "stream",
          "name": "stdout",
          "text": [
            "(Unbalanced XGB) TPR at FPR = 5%: 0.3111\n"
          ]
        }
      ]
    }
  ]
}